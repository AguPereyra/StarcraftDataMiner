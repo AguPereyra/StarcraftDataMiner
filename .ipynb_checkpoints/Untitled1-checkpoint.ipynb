{
 "cells": [
  {
   "cell_type": "code",
   "execution_count": 21,
   "metadata": {},
   "outputs": [],
   "source": [
    "import numpy as np\n",
    "import pandas as pd\n",
    "from sklearn.linear_model import LogisticRegression \n",
    "from sklearn.tree import DecisionTreeClassifier, export_graphviz\n",
    "\n",
    "from sklearn.ensemble import RandomForestClassifier\n",
    "from sklearn.preprocessing import StandardScaler\n",
    "from sklearn.model_selection import train_test_split\n",
    "from sklearn.metrics import classification_report, f1_score\n",
    "\n",
    "\n",
    "\n",
    "from pandas.plotting import parallel_coordinates,scatter_matrix\n",
    "import seaborn as sns\n",
    "import scipy.cluster.hierarchy as shc\n",
    "from sklearn.cluster import AgglomerativeClustering\n",
    "\n",
    "\n",
    "\n",
    "from sklearn import metrics #accuracy measure\n",
    "from sklearn.metrics import confusion_matrix #for confusion matrix\n",
    "import os\n",
    "\n",
    "import matplotlib.pyplot as plt"
   ]
  },
  {
   "cell_type": "code",
   "execution_count": 73,
   "metadata": {},
   "outputs": [],
   "source": [
    "import csv\n",
    "from collections import defaultdict\n",
    "\n",
    "def loop (a1):\n",
    "    csv_file = '../TRAIN.CSV'\n",
    "    with open(csv_file, newline='') as csv_text:\n",
    "        cvs_reader = csv.reader(csv_text, delimiter=',')\n",
    "        data = []\n",
    "        time=[]\n",
    "        for row in cvs_reader:\n",
    "            \n",
    "            train_dict = defaultdict(int)\n",
    "            train_dict['id'] = row[0]\n",
    "            train_dict['class'] = row[1]\n",
    "\n",
    "            a1=a1\n",
    "            t = 0\n",
    "            state=1\n",
    "            for i in range(2, len(row)):\n",
    "                if ('t'+str(a1)) in row[i]:\n",
    "                    state=i\n",
    "                    t=a1\n",
    "\n",
    "            for k in range (2,state):\n",
    "                if 'hotkey' in row[k]:  \n",
    "                     train_dict[row[k][:-1]] += 1/a1\n",
    "\n",
    "            train_dict['time'] = t  \n",
    "         \n",
    "            data.append(train_dict)\n",
    "\n",
    "\n",
    "\n",
    "   \n",
    "    df = pd.DataFrame(data, columns=train_dict.keys()) \n",
    "    df = df.drop(df[df.time ==  0].index)\n",
    "    y=df.id\n",
    "    df['zerg']=0\n",
    "    df['protoss']=0\n",
    "    df['terran']=0\n",
    "\n",
    "    df.loc[df['class']=='Zerg','zerg']=1\n",
    "    df.loc[df['class']=='Protoss','protoss']=1\n",
    "    df.loc[df['class']=='Terran','terran']=1  \n",
    "    df.drop(['class'],axis=1,inplace=True)\n",
    "    df.drop(['id'],axis=1,inplace=True)\n",
    "    X = df.fillna(0).values\n",
    "    ids=y.to_numpy()\n",
    "    # dividing X, y into train and test data \n",
    "    X_train, X_valid, y_train, y_valid = train_test_split(X, y,stratify= ids, test_size=0.30)\n",
    "    classifier = DecisionTreeClassifier(random_state=42)\n",
    "    classifier.fit(X_train,y_train)\n",
    "    y_predict = classifier.predict(X_valid)\n",
    "    a=f1_score(y_valid, y_predict, average='micro')\n",
    "            \n",
    "    return a\n",
    "\n"
   ]
  },
  {
   "cell_type": "code",
   "execution_count": 74,
   "metadata": {},
   "outputs": [
    {
     "name": "stdout",
     "output_type": "stream",
     "text": [
      "0.7914379802414928\n"
     ]
    }
   ],
   "source": [
    "print(loop(20))"
   ]
  }
 ],
 "metadata": {
  "kernelspec": {
   "display_name": "Python 3",
   "language": "python",
   "name": "python3"
  },
  "language_info": {
   "codemirror_mode": {
    "name": "ipython",
    "version": 3
   },
   "file_extension": ".py",
   "mimetype": "text/x-python",
   "name": "python",
   "nbconvert_exporter": "python",
   "pygments_lexer": "ipython3",
   "version": "3.8.0"
  }
 },
 "nbformat": 4,
 "nbformat_minor": 2
}
