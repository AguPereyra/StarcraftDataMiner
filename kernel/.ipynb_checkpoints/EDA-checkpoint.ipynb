{
 "cells": [
  {
   "cell_type": "markdown",
   "metadata": {},
   "source": [
    " #                                     Strarcraft 2 prediction Player"
   ]
  },
  {
   "cell_type": "code",
   "execution_count": 3,
   "metadata": {},
   "outputs": [],
   "source": [
    "import numpy as np\n",
    "import pandas as pd\n",
    "from sklearn.preprocessing import StandardScaler\n",
    "from sklearn import preprocessing\n",
    "from imblearn.over_sampling import SMOTE\n",
    "from pandas.plotting import parallel_coordinates,scatter_matrix\n",
    "import seaborn as sns\n",
    "import os\n",
    "import matplotlib.pyplot as plt"
   ]
  },
  {
   "cell_type": "markdown",
   "metadata": {},
   "source": [
    "## Reading Data"
   ]
  },
  {
   "cell_type": "code",
   "execution_count": null,
   "metadata": {},
   "outputs": [],
   "source": [
    "import csv\n",
    "from collections import defaultdict\n",
    "csv_file = '../data/input/TRAIN.CSV'\n",
    "with open(csv_file, newline='') as csv_text:\n",
    "    cvs_reader = csv.reader(csv_text, delimiter=',')\n",
    "    data = []\n",
    "    ids = []\n",
    "    \n",
    "    for row in cvs_reader:\n",
    "        \n",
    "        ids.append(row[0])\n",
    "        train_dict = defaultdict(int)\n",
    "        train_dict['id'] = row[0]\n",
    "        train_dict['class'] = row[1]\n",
    "        \n",
    "        t = 0\n",
    "        for i in range(1, len(row)-2):\n",
    "            if 'hotkey' in row[len(row)-i] and t != 0:\n",
    "                train_dict[row[len(row)-i][:-1]] += 1/t\n",
    "            if 't' in row[len(row)-i][0] and t==0:\n",
    "                t = int(row[len(row)-i][1:])\n",
    "        data.append(train_dict)\n",
    "        \n",
    "    print(data)"
   ]
  },
  {
   "cell_type": "code",
   "execution_count": 3,
   "metadata": {},
   "outputs": [
    {
     "name": "stdout",
     "output_type": "stream",
     "text": [
      "Shape of the dataset: (3052, 12)\n"
     ]
    },
    {
     "data": {
      "text/html": [
       "<div>\n",
       "<style scoped>\n",
       "    .dataframe tbody tr th:only-of-type {\n",
       "        vertical-align: middle;\n",
       "    }\n",
       "\n",
       "    .dataframe tbody tr th {\n",
       "        vertical-align: top;\n",
       "    }\n",
       "\n",
       "    .dataframe thead th {\n",
       "        text-align: right;\n",
       "    }\n",
       "</style>\n",
       "<table border=\"1\" class=\"dataframe\">\n",
       "  <thead>\n",
       "    <tr style=\"text-align: right;\">\n",
       "      <th></th>\n",
       "      <th>id</th>\n",
       "      <th>class</th>\n",
       "      <th>hotkey4</th>\n",
       "      <th>hotkey1</th>\n",
       "      <th>hotkey6</th>\n",
       "      <th>hotkey2</th>\n",
       "      <th>hotkey5</th>\n",
       "      <th>hotkey3</th>\n",
       "      <th>hotkey8</th>\n",
       "      <th>hotkey9</th>\n",
       "      <th>hotkey0</th>\n",
       "      <th>hotkey7</th>\n",
       "    </tr>\n",
       "  </thead>\n",
       "  <tbody>\n",
       "    <tr>\n",
       "      <th>0</th>\n",
       "      <td>http://eu.battle.net/sc2/en/profile/4234852/1/...</td>\n",
       "      <td>Protoss</td>\n",
       "      <td>0.157100</td>\n",
       "      <td>0.249547</td>\n",
       "      <td>0.012689</td>\n",
       "      <td>0.134139</td>\n",
       "      <td>0.071299</td>\n",
       "      <td>0.242900</td>\n",
       "      <td>0.000000</td>\n",
       "      <td>0.002417</td>\n",
       "      <td>0.027795</td>\n",
       "      <td>0.000604</td>\n",
       "    </tr>\n",
       "    <tr>\n",
       "      <th>1</th>\n",
       "      <td>http://eu.battle.net/sc2/en/profile/3074362/1/...</td>\n",
       "      <td>Protoss</td>\n",
       "      <td>0.187915</td>\n",
       "      <td>0.311178</td>\n",
       "      <td>0.000000</td>\n",
       "      <td>0.138973</td>\n",
       "      <td>0.000000</td>\n",
       "      <td>0.210876</td>\n",
       "      <td>0.010272</td>\n",
       "      <td>0.011480</td>\n",
       "      <td>0.051360</td>\n",
       "      <td>0.000000</td>\n",
       "    </tr>\n",
       "    <tr>\n",
       "      <th>2</th>\n",
       "      <td>http://eu.battle.net/sc2/en/profile/4234852/1/...</td>\n",
       "      <td>Protoss</td>\n",
       "      <td>0.135644</td>\n",
       "      <td>0.145545</td>\n",
       "      <td>0.011881</td>\n",
       "      <td>0.133663</td>\n",
       "      <td>0.090099</td>\n",
       "      <td>0.317822</td>\n",
       "      <td>0.000000</td>\n",
       "      <td>0.003960</td>\n",
       "      <td>0.020792</td>\n",
       "      <td>0.000000</td>\n",
       "    </tr>\n",
       "    <tr>\n",
       "      <th>3</th>\n",
       "      <td>http://eu.battle.net/sc2/en/profile/3074362/1/...</td>\n",
       "      <td>Protoss</td>\n",
       "      <td>0.284577</td>\n",
       "      <td>0.289552</td>\n",
       "      <td>0.000000</td>\n",
       "      <td>0.083582</td>\n",
       "      <td>0.000000</td>\n",
       "      <td>0.249751</td>\n",
       "      <td>0.000000</td>\n",
       "      <td>0.014925</td>\n",
       "      <td>0.039801</td>\n",
       "      <td>0.000000</td>\n",
       "    </tr>\n",
       "    <tr>\n",
       "      <th>4</th>\n",
       "      <td>http://eu.battle.net/sc2/en/profile/4234852/1/...</td>\n",
       "      <td>Protoss</td>\n",
       "      <td>0.159259</td>\n",
       "      <td>0.114815</td>\n",
       "      <td>0.000000</td>\n",
       "      <td>0.081481</td>\n",
       "      <td>0.027778</td>\n",
       "      <td>0.372222</td>\n",
       "      <td>0.000000</td>\n",
       "      <td>0.000000</td>\n",
       "      <td>0.001852</td>\n",
       "      <td>0.000000</td>\n",
       "    </tr>\n",
       "  </tbody>\n",
       "</table>\n",
       "</div>"
      ],
      "text/plain": [
       "                                                  id    class   hotkey4  \\\n",
       "0  http://eu.battle.net/sc2/en/profile/4234852/1/...  Protoss  0.157100   \n",
       "1  http://eu.battle.net/sc2/en/profile/3074362/1/...  Protoss  0.187915   \n",
       "2  http://eu.battle.net/sc2/en/profile/4234852/1/...  Protoss  0.135644   \n",
       "3  http://eu.battle.net/sc2/en/profile/3074362/1/...  Protoss  0.284577   \n",
       "4  http://eu.battle.net/sc2/en/profile/4234852/1/...  Protoss  0.159259   \n",
       "\n",
       "    hotkey1   hotkey6   hotkey2   hotkey5   hotkey3   hotkey8   hotkey9  \\\n",
       "0  0.249547  0.012689  0.134139  0.071299  0.242900  0.000000  0.002417   \n",
       "1  0.311178  0.000000  0.138973  0.000000  0.210876  0.010272  0.011480   \n",
       "2  0.145545  0.011881  0.133663  0.090099  0.317822  0.000000  0.003960   \n",
       "3  0.289552  0.000000  0.083582  0.000000  0.249751  0.000000  0.014925   \n",
       "4  0.114815  0.000000  0.081481  0.027778  0.372222  0.000000  0.000000   \n",
       "\n",
       "    hotkey0   hotkey7  \n",
       "0  0.027795  0.000604  \n",
       "1  0.051360  0.000000  \n",
       "2  0.020792  0.000000  \n",
       "3  0.039801  0.000000  \n",
       "4  0.001852  0.000000  "
      ]
     },
     "execution_count": 3,
     "metadata": {},
     "output_type": "execute_result"
    }
   ],
   "source": [
    "df = pd.DataFrame(data, columns=train_dict.keys()) \n",
    "print('Shape of the dataset: ' + str(df.shape))\n",
    "df.head().fillna(0)"
   ]
  },
  {
   "cell_type": "code",
   "execution_count": 55,
   "metadata": {},
   "outputs": [
    {
     "name": "stdout",
     "output_type": "stream",
     "text": [
      "http://eu.battle.net/sc2/en/profile/4234852/1/First/\n"
     ]
    }
   ],
   "source": [
    "print(ids[0])"
   ]
  },
  {
   "cell_type": "markdown",
   "metadata": {},
   "source": [
    "# EDA ( Exploratory Data Analysis) "
   ]
  },
  {
   "cell_type": "markdown",
   "metadata": {},
   "source": [
    "## Nombre de parties par joueur"
   ]
  },
  {
   "cell_type": "code",
   "execution_count": 5,
   "metadata": {
    "scrolled": true
   },
   "outputs": [
    {
     "data": {
      "text/html": [
       "<div>\n",
       "<style scoped>\n",
       "    .dataframe tbody tr th:only-of-type {\n",
       "        vertical-align: middle;\n",
       "    }\n",
       "\n",
       "    .dataframe tbody tr th {\n",
       "        vertical-align: top;\n",
       "    }\n",
       "\n",
       "    .dataframe thead th {\n",
       "        text-align: right;\n",
       "    }\n",
       "</style>\n",
       "<table border=\"1\" class=\"dataframe\">\n",
       "  <thead>\n",
       "    <tr style=\"text-align: right;\">\n",
       "      <th></th>\n",
       "      <th>id</th>\n",
       "      <th>count</th>\n",
       "    </tr>\n",
       "  </thead>\n",
       "  <tbody>\n",
       "    <tr>\n",
       "      <th>131</th>\n",
       "      <td>http://kr.battle.net/sc2/en/profile/2348639/1/...</td>\n",
       "      <td>58</td>\n",
       "    </tr>\n",
       "    <tr>\n",
       "      <th>86</th>\n",
       "      <td>http://kr.battle.net/sc2/en/profile/2342419/1/...</td>\n",
       "      <td>51</td>\n",
       "    </tr>\n",
       "    <tr>\n",
       "      <th>73</th>\n",
       "      <td>http://kr.battle.net/sc2/en/profile/2341467/1/...</td>\n",
       "      <td>50</td>\n",
       "    </tr>\n",
       "    <tr>\n",
       "      <th>49</th>\n",
       "      <td>http://eu.battle.net/sc2/en/profile/3973341/1/...</td>\n",
       "      <td>44</td>\n",
       "    </tr>\n",
       "    <tr>\n",
       "      <th>66</th>\n",
       "      <td>http://kr.battle.net/sc2/en/profile/2332264/1/...</td>\n",
       "      <td>42</td>\n",
       "    </tr>\n",
       "    <tr>\n",
       "      <th>128</th>\n",
       "      <td>http://kr.battle.net/sc2/en/profile/2344987/1/...</td>\n",
       "      <td>40</td>\n",
       "    </tr>\n",
       "    <tr>\n",
       "      <th>112</th>\n",
       "      <td>http://kr.battle.net/sc2/en/profile/2344031/1/...</td>\n",
       "      <td>39</td>\n",
       "    </tr>\n",
       "    <tr>\n",
       "      <th>100</th>\n",
       "      <td>http://kr.battle.net/sc2/en/profile/2343479/1/...</td>\n",
       "      <td>39</td>\n",
       "    </tr>\n",
       "    <tr>\n",
       "      <th>29</th>\n",
       "      <td>http://eu.battle.net/sc2/en/profile/3074362/1/...</td>\n",
       "      <td>37</td>\n",
       "    </tr>\n",
       "    <tr>\n",
       "      <th>16</th>\n",
       "      <td>http://eu.battle.net/sc2/en/profile/2452136/1/...</td>\n",
       "      <td>37</td>\n",
       "    </tr>\n",
       "    <tr>\n",
       "      <th>25</th>\n",
       "      <td>http://eu.battle.net/sc2/en/profile/2898004/1/...</td>\n",
       "      <td>37</td>\n",
       "    </tr>\n",
       "    <tr>\n",
       "      <th>96</th>\n",
       "      <td>http://kr.battle.net/sc2/en/profile/2343067/1/...</td>\n",
       "      <td>36</td>\n",
       "    </tr>\n",
       "    <tr>\n",
       "      <th>95</th>\n",
       "      <td>http://kr.battle.net/sc2/en/profile/2343012/1/...</td>\n",
       "      <td>34</td>\n",
       "    </tr>\n",
       "    <tr>\n",
       "      <th>103</th>\n",
       "      <td>http://kr.battle.net/sc2/en/profile/2343531/1/...</td>\n",
       "      <td>34</td>\n",
       "    </tr>\n",
       "    <tr>\n",
       "      <th>101</th>\n",
       "      <td>http://kr.battle.net/sc2/en/profile/2343484/1/...</td>\n",
       "      <td>34</td>\n",
       "    </tr>\n",
       "    <tr>\n",
       "      <th>85</th>\n",
       "      <td>http://kr.battle.net/sc2/en/profile/2342343/1/...</td>\n",
       "      <td>32</td>\n",
       "    </tr>\n",
       "    <tr>\n",
       "      <th>24</th>\n",
       "      <td>http://eu.battle.net/sc2/en/profile/2896854/1/...</td>\n",
       "      <td>32</td>\n",
       "    </tr>\n",
       "    <tr>\n",
       "      <th>123</th>\n",
       "      <td>http://kr.battle.net/sc2/en/profile/2344476/1/...</td>\n",
       "      <td>31</td>\n",
       "    </tr>\n",
       "    <tr>\n",
       "      <th>77</th>\n",
       "      <td>http://kr.battle.net/sc2/en/profile/2341700/1/...</td>\n",
       "      <td>31</td>\n",
       "    </tr>\n",
       "    <tr>\n",
       "      <th>35</th>\n",
       "      <td>http://eu.battle.net/sc2/en/profile/3401218/1/...</td>\n",
       "      <td>31</td>\n",
       "    </tr>\n",
       "    <tr>\n",
       "      <th>105</th>\n",
       "      <td>http://kr.battle.net/sc2/en/profile/2343607/1/...</td>\n",
       "      <td>31</td>\n",
       "    </tr>\n",
       "    <tr>\n",
       "      <th>80</th>\n",
       "      <td>http://kr.battle.net/sc2/en/profile/2342120/1/...</td>\n",
       "      <td>30</td>\n",
       "    </tr>\n",
       "    <tr>\n",
       "      <th>17</th>\n",
       "      <td>http://eu.battle.net/sc2/en/profile/250458/1/V...</td>\n",
       "      <td>29</td>\n",
       "    </tr>\n",
       "    <tr>\n",
       "      <th>60</th>\n",
       "      <td>http://eu.battle.net/sc2/en/profile/884897/1/L...</td>\n",
       "      <td>29</td>\n",
       "    </tr>\n",
       "    <tr>\n",
       "      <th>52</th>\n",
       "      <td>http://eu.battle.net/sc2/en/profile/4149248/1/...</td>\n",
       "      <td>27</td>\n",
       "    </tr>\n",
       "    <tr>\n",
       "      <th>40</th>\n",
       "      <td>http://eu.battle.net/sc2/en/profile/3538115/1/...</td>\n",
       "      <td>26</td>\n",
       "    </tr>\n",
       "    <tr>\n",
       "      <th>152</th>\n",
       "      <td>http://us.battle.net/sc2/en/profile/3202227/1/...</td>\n",
       "      <td>26</td>\n",
       "    </tr>\n",
       "    <tr>\n",
       "      <th>169</th>\n",
       "      <td>http://us.battle.net/sc2/en/profile/4417787/1/...</td>\n",
       "      <td>26</td>\n",
       "    </tr>\n",
       "    <tr>\n",
       "      <th>120</th>\n",
       "      <td>http://kr.battle.net/sc2/en/profile/2344333/1/...</td>\n",
       "      <td>26</td>\n",
       "    </tr>\n",
       "    <tr>\n",
       "      <th>81</th>\n",
       "      <td>http://kr.battle.net/sc2/en/profile/2342147/1/...</td>\n",
       "      <td>26</td>\n",
       "    </tr>\n",
       "    <tr>\n",
       "      <th>...</th>\n",
       "      <td>...</td>\n",
       "      <td>...</td>\n",
       "    </tr>\n",
       "    <tr>\n",
       "      <th>159</th>\n",
       "      <td>http://us.battle.net/sc2/en/profile/3817071/1/...</td>\n",
       "      <td>5</td>\n",
       "    </tr>\n",
       "    <tr>\n",
       "      <th>180</th>\n",
       "      <td>http://us.battle.net/sc2/en/profile/5068246/1/...</td>\n",
       "      <td>5</td>\n",
       "    </tr>\n",
       "    <tr>\n",
       "      <th>64</th>\n",
       "      <td>http://kr.battle.net/sc2/en/profile/1178662/2/...</td>\n",
       "      <td>5</td>\n",
       "    </tr>\n",
       "    <tr>\n",
       "      <th>161</th>\n",
       "      <td>http://us.battle.net/sc2/en/profile/3948354/1/...</td>\n",
       "      <td>5</td>\n",
       "    </tr>\n",
       "    <tr>\n",
       "      <th>148</th>\n",
       "      <td>http://us.battle.net/sc2/en/profile/2821952/1/...</td>\n",
       "      <td>5</td>\n",
       "    </tr>\n",
       "    <tr>\n",
       "      <th>155</th>\n",
       "      <td>http://us.battle.net/sc2/en/profile/3426440/1/...</td>\n",
       "      <td>5</td>\n",
       "    </tr>\n",
       "    <tr>\n",
       "      <th>167</th>\n",
       "      <td>http://us.battle.net/sc2/en/profile/4352638/1/...</td>\n",
       "      <td>5</td>\n",
       "    </tr>\n",
       "    <tr>\n",
       "      <th>147</th>\n",
       "      <td>http://us.battle.net/sc2/en/profile/2768741/1/...</td>\n",
       "      <td>4</td>\n",
       "    </tr>\n",
       "    <tr>\n",
       "      <th>166</th>\n",
       "      <td>http://us.battle.net/sc2/en/profile/4176016/1/...</td>\n",
       "      <td>4</td>\n",
       "    </tr>\n",
       "    <tr>\n",
       "      <th>124</th>\n",
       "      <td>http://kr.battle.net/sc2/en/profile/2344602/1/...</td>\n",
       "      <td>4</td>\n",
       "    </tr>\n",
       "    <tr>\n",
       "      <th>194</th>\n",
       "      <td>http://xx.battle.net/sc2/en/profile/407/1/NaNiwa/</td>\n",
       "      <td>4</td>\n",
       "    </tr>\n",
       "    <tr>\n",
       "      <th>193</th>\n",
       "      <td>http://xx.battle.net/sc2/en/profile/406/1/INno...</td>\n",
       "      <td>4</td>\n",
       "    </tr>\n",
       "    <tr>\n",
       "      <th>192</th>\n",
       "      <td>http://xx.battle.net/sc2/en/profile/405/1/MMA/</td>\n",
       "      <td>4</td>\n",
       "    </tr>\n",
       "    <tr>\n",
       "      <th>56</th>\n",
       "      <td>http://eu.battle.net/sc2/en/profile/4860568/1/...</td>\n",
       "      <td>4</td>\n",
       "    </tr>\n",
       "    <tr>\n",
       "      <th>97</th>\n",
       "      <td>http://kr.battle.net/sc2/en/profile/2343183/1/...</td>\n",
       "      <td>4</td>\n",
       "    </tr>\n",
       "    <tr>\n",
       "      <th>129</th>\n",
       "      <td>http://kr.battle.net/sc2/en/profile/2345102/1/...</td>\n",
       "      <td>4</td>\n",
       "    </tr>\n",
       "    <tr>\n",
       "      <th>132</th>\n",
       "      <td>http://kr.battle.net/sc2/en/profile/3488858/1/...</td>\n",
       "      <td>4</td>\n",
       "    </tr>\n",
       "    <tr>\n",
       "      <th>133</th>\n",
       "      <td>http://kr.battle.net/sc2/en/profile/4324250/1/...</td>\n",
       "      <td>4</td>\n",
       "    </tr>\n",
       "    <tr>\n",
       "      <th>134</th>\n",
       "      <td>http://kr.battle.net/sc2/en/profile/4529934/1/...</td>\n",
       "      <td>4</td>\n",
       "    </tr>\n",
       "    <tr>\n",
       "      <th>185</th>\n",
       "      <td>http://us.battle.net/sc2/en/profile/5495016/1/...</td>\n",
       "      <td>4</td>\n",
       "    </tr>\n",
       "    <tr>\n",
       "      <th>91</th>\n",
       "      <td>http://kr.battle.net/sc2/en/profile/2342789/1/...</td>\n",
       "      <td>4</td>\n",
       "    </tr>\n",
       "    <tr>\n",
       "      <th>136</th>\n",
       "      <td>http://us.battle.net/sc2/en/profile/1640778/1/...</td>\n",
       "      <td>4</td>\n",
       "    </tr>\n",
       "    <tr>\n",
       "      <th>137</th>\n",
       "      <td>http://us.battle.net/sc2/en/profile/2060165/1/...</td>\n",
       "      <td>4</td>\n",
       "    </tr>\n",
       "    <tr>\n",
       "      <th>110</th>\n",
       "      <td>http://kr.battle.net/sc2/en/profile/2343910/1/...</td>\n",
       "      <td>4</td>\n",
       "    </tr>\n",
       "    <tr>\n",
       "      <th>71</th>\n",
       "      <td>http://kr.battle.net/sc2/en/profile/2340350/1/...</td>\n",
       "      <td>4</td>\n",
       "    </tr>\n",
       "    <tr>\n",
       "      <th>139</th>\n",
       "      <td>http://us.battle.net/sc2/en/profile/2192180/1/...</td>\n",
       "      <td>4</td>\n",
       "    </tr>\n",
       "    <tr>\n",
       "      <th>36</th>\n",
       "      <td>http://eu.battle.net/sc2/en/profile/3434150/1/...</td>\n",
       "      <td>4</td>\n",
       "    </tr>\n",
       "    <tr>\n",
       "      <th>84</th>\n",
       "      <td>http://kr.battle.net/sc2/en/profile/2342299/1/...</td>\n",
       "      <td>4</td>\n",
       "    </tr>\n",
       "    <tr>\n",
       "      <th>172</th>\n",
       "      <td>http://us.battle.net/sc2/en/profile/4580957/1/...</td>\n",
       "      <td>4</td>\n",
       "    </tr>\n",
       "    <tr>\n",
       "      <th>125</th>\n",
       "      <td>http://kr.battle.net/sc2/en/profile/2344728/1/...</td>\n",
       "      <td>4</td>\n",
       "    </tr>\n",
       "  </tbody>\n",
       "</table>\n",
       "<p>200 rows × 2 columns</p>\n",
       "</div>"
      ],
      "text/plain": [
       "                                                    id  count\n",
       "131  http://kr.battle.net/sc2/en/profile/2348639/1/...     58\n",
       "86   http://kr.battle.net/sc2/en/profile/2342419/1/...     51\n",
       "73   http://kr.battle.net/sc2/en/profile/2341467/1/...     50\n",
       "49   http://eu.battle.net/sc2/en/profile/3973341/1/...     44\n",
       "66   http://kr.battle.net/sc2/en/profile/2332264/1/...     42\n",
       "128  http://kr.battle.net/sc2/en/profile/2344987/1/...     40\n",
       "112  http://kr.battle.net/sc2/en/profile/2344031/1/...     39\n",
       "100  http://kr.battle.net/sc2/en/profile/2343479/1/...     39\n",
       "29   http://eu.battle.net/sc2/en/profile/3074362/1/...     37\n",
       "16   http://eu.battle.net/sc2/en/profile/2452136/1/...     37\n",
       "25   http://eu.battle.net/sc2/en/profile/2898004/1/...     37\n",
       "96   http://kr.battle.net/sc2/en/profile/2343067/1/...     36\n",
       "95   http://kr.battle.net/sc2/en/profile/2343012/1/...     34\n",
       "103  http://kr.battle.net/sc2/en/profile/2343531/1/...     34\n",
       "101  http://kr.battle.net/sc2/en/profile/2343484/1/...     34\n",
       "85   http://kr.battle.net/sc2/en/profile/2342343/1/...     32\n",
       "24   http://eu.battle.net/sc2/en/profile/2896854/1/...     32\n",
       "123  http://kr.battle.net/sc2/en/profile/2344476/1/...     31\n",
       "77   http://kr.battle.net/sc2/en/profile/2341700/1/...     31\n",
       "35   http://eu.battle.net/sc2/en/profile/3401218/1/...     31\n",
       "105  http://kr.battle.net/sc2/en/profile/2343607/1/...     31\n",
       "80   http://kr.battle.net/sc2/en/profile/2342120/1/...     30\n",
       "17   http://eu.battle.net/sc2/en/profile/250458/1/V...     29\n",
       "60   http://eu.battle.net/sc2/en/profile/884897/1/L...     29\n",
       "52   http://eu.battle.net/sc2/en/profile/4149248/1/...     27\n",
       "40   http://eu.battle.net/sc2/en/profile/3538115/1/...     26\n",
       "152  http://us.battle.net/sc2/en/profile/3202227/1/...     26\n",
       "169  http://us.battle.net/sc2/en/profile/4417787/1/...     26\n",
       "120  http://kr.battle.net/sc2/en/profile/2344333/1/...     26\n",
       "81   http://kr.battle.net/sc2/en/profile/2342147/1/...     26\n",
       "..                                                 ...    ...\n",
       "159  http://us.battle.net/sc2/en/profile/3817071/1/...      5\n",
       "180  http://us.battle.net/sc2/en/profile/5068246/1/...      5\n",
       "64   http://kr.battle.net/sc2/en/profile/1178662/2/...      5\n",
       "161  http://us.battle.net/sc2/en/profile/3948354/1/...      5\n",
       "148  http://us.battle.net/sc2/en/profile/2821952/1/...      5\n",
       "155  http://us.battle.net/sc2/en/profile/3426440/1/...      5\n",
       "167  http://us.battle.net/sc2/en/profile/4352638/1/...      5\n",
       "147  http://us.battle.net/sc2/en/profile/2768741/1/...      4\n",
       "166  http://us.battle.net/sc2/en/profile/4176016/1/...      4\n",
       "124  http://kr.battle.net/sc2/en/profile/2344602/1/...      4\n",
       "194  http://xx.battle.net/sc2/en/profile/407/1/NaNiwa/      4\n",
       "193  http://xx.battle.net/sc2/en/profile/406/1/INno...      4\n",
       "192     http://xx.battle.net/sc2/en/profile/405/1/MMA/      4\n",
       "56   http://eu.battle.net/sc2/en/profile/4860568/1/...      4\n",
       "97   http://kr.battle.net/sc2/en/profile/2343183/1/...      4\n",
       "129  http://kr.battle.net/sc2/en/profile/2345102/1/...      4\n",
       "132  http://kr.battle.net/sc2/en/profile/3488858/1/...      4\n",
       "133  http://kr.battle.net/sc2/en/profile/4324250/1/...      4\n",
       "134  http://kr.battle.net/sc2/en/profile/4529934/1/...      4\n",
       "185  http://us.battle.net/sc2/en/profile/5495016/1/...      4\n",
       "91   http://kr.battle.net/sc2/en/profile/2342789/1/...      4\n",
       "136  http://us.battle.net/sc2/en/profile/1640778/1/...      4\n",
       "137  http://us.battle.net/sc2/en/profile/2060165/1/...      4\n",
       "110  http://kr.battle.net/sc2/en/profile/2343910/1/...      4\n",
       "71   http://kr.battle.net/sc2/en/profile/2340350/1/...      4\n",
       "139  http://us.battle.net/sc2/en/profile/2192180/1/...      4\n",
       "36   http://eu.battle.net/sc2/en/profile/3434150/1/...      4\n",
       "84   http://kr.battle.net/sc2/en/profile/2342299/1/...      4\n",
       "172  http://us.battle.net/sc2/en/profile/4580957/1/...      4\n",
       "125  http://kr.battle.net/sc2/en/profile/2344728/1/...      4\n",
       "\n",
       "[200 rows x 2 columns]"
      ]
     },
     "execution_count": 5,
     "metadata": {},
     "output_type": "execute_result"
    }
   ],
   "source": [
    "df.groupby('id').id.count().reset_index(name='count').sort_values('count',ascending=False)"
   ]
  },
  {
   "cell_type": "markdown",
   "metadata": {},
   "source": [
    "Mauvaise répartion des parties pour chaque joueur. Certains ont joués que 4 parties alors que d'autres 50. Comment résoudre cela ? ==> SMOTE ? ADASYN ? permet de over-sampling !!!"
   ]
  },
  {
   "cell_type": "code",
   "execution_count": 6,
   "metadata": {},
   "outputs": [
    {
     "data": {
      "text/html": [
       "<div>\n",
       "<style scoped>\n",
       "    .dataframe tbody tr th:only-of-type {\n",
       "        vertical-align: middle;\n",
       "    }\n",
       "\n",
       "    .dataframe tbody tr th {\n",
       "        vertical-align: top;\n",
       "    }\n",
       "\n",
       "    .dataframe thead th {\n",
       "        text-align: right;\n",
       "    }\n",
       "</style>\n",
       "<table border=\"1\" class=\"dataframe\">\n",
       "  <thead>\n",
       "    <tr style=\"text-align: right;\">\n",
       "      <th></th>\n",
       "      <th>count</th>\n",
       "    </tr>\n",
       "  </thead>\n",
       "  <tbody>\n",
       "    <tr>\n",
       "      <th>count</th>\n",
       "      <td>200.00000</td>\n",
       "    </tr>\n",
       "    <tr>\n",
       "      <th>mean</th>\n",
       "      <td>15.26000</td>\n",
       "    </tr>\n",
       "    <tr>\n",
       "      <th>std</th>\n",
       "      <td>10.41464</td>\n",
       "    </tr>\n",
       "    <tr>\n",
       "      <th>min</th>\n",
       "      <td>4.00000</td>\n",
       "    </tr>\n",
       "    <tr>\n",
       "      <th>25%</th>\n",
       "      <td>7.00000</td>\n",
       "    </tr>\n",
       "    <tr>\n",
       "      <th>50%</th>\n",
       "      <td>12.00000</td>\n",
       "    </tr>\n",
       "    <tr>\n",
       "      <th>75%</th>\n",
       "      <td>20.00000</td>\n",
       "    </tr>\n",
       "    <tr>\n",
       "      <th>max</th>\n",
       "      <td>58.00000</td>\n",
       "    </tr>\n",
       "  </tbody>\n",
       "</table>\n",
       "</div>"
      ],
      "text/plain": [
       "           count\n",
       "count  200.00000\n",
       "mean    15.26000\n",
       "std     10.41464\n",
       "min      4.00000\n",
       "25%      7.00000\n",
       "50%     12.00000\n",
       "75%     20.00000\n",
       "max     58.00000"
      ]
     },
     "execution_count": 6,
     "metadata": {},
     "output_type": "execute_result"
    }
   ],
   "source": [
    "df.groupby('id').id.count().reset_index(name='count').sort_values('count',ascending=False).describe()\n"
   ]
  },
  {
   "cell_type": "markdown",
   "metadata": {},
   "source": [
    "## Nombre de joueur"
   ]
  },
  {
   "cell_type": "code",
   "execution_count": 192,
   "metadata": {},
   "outputs": [
    {
     "name": "stdout",
     "output_type": "stream",
     "text": [
      "200\n"
     ]
    }
   ],
   "source": [
    "\n",
    "nb_joueur = list(dict.fromkeys(ids))\n",
    "print(len(nb_joueur))"
   ]
  },
  {
   "cell_type": "code",
   "execution_count": 193,
   "metadata": {},
   "outputs": [
    {
     "name": "stdout",
     "output_type": "stream",
     "text": [
      "['http://eu.battle.net/sc2/en/profile/4234852/1/First/', 'http://eu.battle.net/sc2/en/profile/3074362/1/Stardust/', 'http://eu.battle.net/sc2/en/profile/3401218/1/Welmu/', 'http://eu.battle.net/sc2/en/profile/2896854/1/MÇ‚ForGG/', 'http://eu.battle.net/sc2/en/profile/3538115/1/Golden/', 'http://eu.battle.net/sc2/en/profile/250458/1/VortiX/', 'http://eu.battle.net/sc2/en/profile/3973341/1/yoeFWSan/', 'http://eu.battle.net/sc2/en/profile/2452136/1/MinChul/', 'http://eu.battle.net/sc2/en/profile/2222468/1/dTefel/', 'http://eu.battle.net/sc2/en/profile/4341883/1/Patience/', 'http://eu.battle.net/sc2/en/profile/950504/1/Grubby/', 'http://eu.battle.net/sc2/en/profile/2898004/1/MMA/', 'http://eu.battle.net/sc2/en/profile/251061/1/LiveZerg/', 'http://eu.battle.net/sc2/en/profile/1021189/1/Dayshi/', 'http://eu.battle.net/sc2/en/profile/326029/1/LiquidTLO/', 'http://eu.battle.net/sc2/en/profile/1058669/1/Happy/', 'http://eu.battle.net/sc2/en/profile/1139573/1/BabyKnight/', 'http://eu.battle.net/sc2/en/profile/2115876/1/FireCake/', 'http://eu.battle.net/sc2/en/profile/3368730/1/ToD/', 'http://eu.battle.net/sc2/en/profile/1143713/1/uThermal/', 'http://eu.battle.net/sc2/en/profile/3090974/1/IMMvp/', 'http://eu.battle.net/sc2/en/profile/4064798/1/yoda/', 'http://eu.battle.net/sc2/en/profile/2383348/1/LiquidBunny/', 'http://eu.battle.net/sc2/en/profile/4149248/1/JJAKJI/', 'http://eu.battle.net/sc2/en/profile/3010872/1/FnticHarstem/', 'http://eu.battle.net/sc2/en/profile/884897/1/LiquidSnute/', 'http://eu.battle.net/sc2/en/profile/2526293/1/Krr/', 'http://eu.battle.net/sc2/en/profile/315813/1/dBlinG/', 'http://eu.battle.net/sc2/en/profile/377576/1/LiquidMaNa/', 'http://eu.battle.net/sc2/en/profile/2101268/1/Stephano/', 'http://eu.battle.net/sc2/en/profile/284466/1/EGDeMusliM/', 'http://eu.battle.net/sc2/en/profile/788178/1/Nerchio/', 'http://eu.battle.net/sc2/en/profile/219517/1/TargA/', 'http://eu.battle.net/sc2/en/profile/1430346/1/ShoWTimE/', 'http://eu.battle.net/sc2/en/profile/239335/1/NightEnD/', 'http://eu.battle.net/sc2/en/profile/377903/1/Starbuck/', 'http://eu.battle.net/sc2/en/profile/2639840/1/Miniraser/', 'http://eu.battle.net/sc2/en/profile/2910724/1/Lilbow/', 'http://eu.battle.net/sc2/en/profile/498165/1/EmpireKas/', 'http://eu.battle.net/sc2/en/profile/1173786/1/VPbenQsLivko/', 'http://eu.battle.net/sc2/en/profile/349650/1/HasuObs/', 'http://eu.battle.net/sc2/en/profile/2048063/1/AcerBly/', 'http://eu.battle.net/sc2/en/profile/2385865/1/elfi/', 'http://eu.battle.net/sc2/en/profile/3437681/1/Lambo/', 'http://eu.battle.net/sc2/en/profile/3971497/1/Genius/', 'http://us.battle.net/sc2/en/profile/4665241/1/Pigbaby/', 'http://us.battle.net/sc2/en/profile/3502513/1/LiquidTaeJa/', 'http://us.battle.net/sc2/en/profile/4417787/1/HyuN/', 'http://us.battle.net/sc2/en/profile/3179642/1/CMStormPolt/', 'http://us.battle.net/sc2/en/profile/4174681/1/AxAlicia/', 'http://us.battle.net/sc2/en/profile/3985949/1/Bomber/', 'http://us.battle.net/sc2/en/profile/3202227/1/viOLet/', 'http://us.battle.net/sc2/en/profile/4167590/1/AxHeart/', 'http://kr.battle.net/sc2/en/profile/1178662/2/llllllllllll/', 'http://us.battle.net/sc2/en/profile/3085708/1/SadArthur/', 'http://us.battle.net/sc2/en/profile/902213/1/Suppy/', 'http://us.battle.net/sc2/en/profile/5393959/1/Sen/', 'http://us.battle.net/sc2/en/profile/4580578/1/ZooCourage/', 'http://us.battle.net/sc2/en/profile/3949344/1/WinDy/', 'http://us.battle.net/sc2/en/profile/3817071/1/iGMacSed/', 'http://us.battle.net/sc2/en/profile/558433/1/Illusion/', 'http://us.battle.net/sc2/en/profile/4589387/1/ToodmingCN/', 'http://us.battle.net/sc2/en/profile/3948354/1/hendralisk/', 'http://kr.battle.net/sc2/en/profile/3488858/1/EGJD/', 'http://kr.battle.net/sc2/en/profile/1126978/2/iGJim/', 'http://us.battle.net/sc2/en/profile/4580957/1/iGJim/', 'http://kr.battle.net/sc2/en/profile/2240191/1/Heart/', 'http://kr.battle.net/sc2/en/profile/4529934/1/SpiderCheck/', 'http://kr.battle.net/sc2/en/profile/1106851/2/IlIlIlllIIll/', 'http://us.battle.net/sc2/en/profile/5376901/1/SpiderCheck/', 'http://us.battle.net/sc2/en/profile/2537456/1/Neeb/', 'http://us.battle.net/sc2/en/profile/2735594/1/coLqxc/', 'http://us.battle.net/sc2/en/profile/3426440/1/llllllllllll/', 'http://us.battle.net/sc2/en/profile/2553612/1/puCK/', 'http://us.battle.net/sc2/en/profile/3650249/1/CranK/', 'http://us.battle.net/sc2/en/profile/2133676/1/aloOla/', 'http://us.battle.net/sc2/en/profile/2541852/1/MaSa/', 'http://us.battle.net/sc2/en/profile/5142993/1/Bomber/', 'http://us.battle.net/sc2/en/profile/2575821/1/HuK/', 'http://us.battle.net/sc2/en/profile/3301677/1/CMRevival/', 'http://us.battle.net/sc2/en/profile/1317068/1/LiquidHerO/', 'http://us.battle.net/sc2/en/profile/3819890/1/shofu/', 'http://us.battle.net/sc2/en/profile/4629528/1/IMNesTea/', 'http://us.battle.net/sc2/en/profile/4819996/1/iGXiGua/', 'http://us.battle.net/sc2/en/profile/3426440/1/PkDOz/', 'http://kr.battle.net/sc2/en/profile/4324250/1/Kane/', 'http://us.battle.net/sc2/en/profile/1640778/1/Guitarcheese/', 'http://us.battle.net/sc2/en/profile/4176016/1/iaguz/', 'http://us.battle.net/sc2/en/profile/2331025/1/Scarlett/', 'http://us.battle.net/sc2/en/profile/4609532/1/aLive/', 'http://us.battle.net/sc2/en/profile/2821952/1/KingkOng/', 'http://us.battle.net/sc2/en/profile/5068246/1/yoeFWSlam/', 'http://us.battle.net/sc2/en/profile/443514/1/desRow/', 'http://kr.battle.net/sc2/en/profile/2342419/1/soO/', 'http://kr.battle.net/sc2/en/profile/2342343/1/Solar/', 'http://kr.battle.net/sc2/en/profile/2343479/1/True/', 'http://kr.battle.net/sc2/en/profile/2332264/1/Zest/', 'http://kr.battle.net/sc2/en/profile/2343012/1/Maru/', 'http://kr.battle.net/sc2/en/profile/2342120/1/Soulkey/', 'http://kr.battle.net/sc2/en/profile/2348639/1/ParalyzE/', 'http://kr.battle.net/sc2/en/profile/2341467/1/Classic/', 'http://kr.battle.net/sc2/en/profile/2344333/1/Leenock/', 'http://kr.battle.net/sc2/en/profile/2334376/1/INnoVation/', 'http://kr.battle.net/sc2/en/profile/2343484/1/herO/', 'http://kr.battle.net/sc2/en/profile/2343733/1/sOs/', 'http://kr.battle.net/sc2/en/profile/2342794/1/Shine/', 'http://kr.battle.net/sc2/en/profile/2344230/1/YongHwa/', 'http://kr.battle.net/sc2/en/profile/2343882/1/SuperNova/', 'http://kr.battle.net/sc2/en/profile/2342766/1/ByuL/', 'http://kr.battle.net/sc2/en/profile/2341492/1/PartinG/', 'http://kr.battle.net/sc2/en/profile/2333068/1/DRG/', 'http://kr.battle.net/sc2/en/profile/2344428/1/MyuNgSiK/', 'http://kr.battle.net/sc2/en/profile/2342147/1/hydra/', 'http://kr.battle.net/sc2/en/profile/2344987/1/Life/', 'http://kr.battle.net/sc2/en/profile/2342269/1/Savage/', 'http://kr.battle.net/sc2/en/profile/2343067/1/Stork/', 'http://kr.battle.net/sc2/en/profile/2343263/1/Ruin/', 'http://kr.battle.net/sc2/en/profile/2344207/1/Symbol/', 'http://kr.battle.net/sc2/en/profile/2343607/1/Rain/', 'http://kr.battle.net/sc2/en/profile/2343240/1/Trap/', 'http://kr.battle.net/sc2/en/profile/2344407/1/Ragnarok/', 'http://kr.battle.net/sc2/en/profile/2344476/1/Dark/', 'http://kr.battle.net/sc2/en/profile/2341700/1/Bbyong/', 'http://kr.battle.net/sc2/en/profile/2333312/1/TAiLS/', 'http://kr.battle.net/sc2/en/profile/2342785/1/FanTaSy/', 'http://kr.battle.net/sc2/en/profile/2341765/1/Billowy/', 'http://kr.battle.net/sc2/en/profile/2340350/1/hitmaN/', 'http://kr.battle.net/sc2/en/profile/2343531/1/Action/', 'http://kr.battle.net/sc2/en/profile/2342923/1/Squirtle/', 'http://kr.battle.net/sc2/en/profile/2343979/1/Pet/', 'http://kr.battle.net/sc2/en/profile/2342491/1/TYTY/', 'http://kr.battle.net/sc2/en/profile/2344602/1/Choya/', 'http://kr.battle.net/sc2/en/profile/2344728/1/Shine/', 'http://kr.battle.net/sc2/en/profile/2343852/1/flash/', 'http://kr.battle.net/sc2/en/profile/2342671/1/Panic/', 'http://kr.battle.net/sc2/en/profile/2344285/1/Stats/', 'http://kr.battle.net/sc2/en/profile/2344079/1/Curious/', 'http://kr.battle.net/sc2/en/profile/2344252/1/Reality/', 'http://kr.battle.net/sc2/en/profile/2343910/1/Journey/', 'http://kr.battle.net/sc2/en/profile/2341575/1/Dear/', 'http://kr.battle.net/sc2/en/profile/2342983/1/Super/', 'http://kr.battle.net/sc2/en/profile/2344031/1/Cure/', 'http://kr.battle.net/sc2/en/profile/2342294/1/Impact/', 'http://kr.battle.net/sc2/en/profile/2341466/1/sora/', 'http://kr.battle.net/sc2/en/profile/2345126/1/RorO/', 'http://eu.battle.net/sc2/en/profile/1058669/1/EmpireHappy/', 'http://eu.battle.net/sc2/en/profile/251061/1/roxkisLZ/', 'http://eu.battle.net/sc2/en/profile/3880481/1/AllianceNani/', 'http://eu.battle.net/sc2/en/profile/2383348/1/Bunny/', 'http://eu.battle.net/sc2/en/profile/2978202/1/LiquidTaeJa/', 'http://eu.battle.net/sc2/en/profile/3746323/1/HyuN/', 'http://eu.battle.net/sc2/en/profile/3611718/1/CMStormPolt/', 'http://eu.battle.net/sc2/en/profile/3311551/1/CMRevival/', 'http://eu.battle.net/sc2/en/profile/3886231/1/OzOz/', 'http://eu.battle.net/sc2/en/profile/3533538/1/Arthur/', 'http://eu.battle.net/sc2/en/profile/4863808/1/Bomber/', 'http://eu.battle.net/sc2/en/profile/4085747/1/Alicia/', 'http://us.battle.net/sc2/en/profile/789884/1/SeleCT/', 'http://us.battle.net/sc2/en/profile/288081/1/Minigun/', 'http://us.battle.net/sc2/en/profile/4585632/1/ZooTop/', 'http://us.battle.net/sc2/en/profile/2575821/1/HuKRC/', 'http://us.battle.net/sc2/en/profile/5495016/1/Has/', 'http://us.battle.net/sc2/en/profile/4669755/1/ByuL/', 'http://us.battle.net/sc2/en/profile/3301677/1/Revival/', 'http://us.battle.net/sc2/en/profile/4408675/1/TheStC/', 'http://us.battle.net/sc2/en/profile/5087767/1/OzOz/', 'http://eu.battle.net/sc2/en/profile/2685580/1/CranK/', 'http://eu.battle.net/sc2/en/profile/4860568/1/iGXiGua/', 'http://eu.battle.net/sc2/en/profile/4854541/1/ZooToodming/', 'http://eu.battle.net/sc2/en/profile/3434150/1/llllllllllll/', 'http://eu.battle.net/sc2/en/profile/3585588/1/llllllllll/', 'http://us.battle.net/sc2/en/profile/4352638/1/Tassadar/', 'http://us.battle.net/sc2/en/profile/2192180/1/PiG/', 'http://us.battle.net/sc2/en/profile/2060165/1/Astrea/', 'http://us.battle.net/sc2/en/profile/2768741/1/CatZ/', 'http://kr.battle.net/sc2/en/profile/2343531/1/DREAM/', 'http://kr.battle.net/sc2/en/profile/2334176/1/GuMiho/', 'http://kr.battle.net/sc2/en/profile/2344780/1/Sleep/', 'http://kr.battle.net/sc2/en/profile/2341920/1/CoCa/', 'http://kr.battle.net/sc2/en/profile/2341545/1/Hack/', 'http://kr.battle.net/sc2/en/profile/2343559/1/Trust/', 'http://kr.battle.net/sc2/en/profile/2344081/1/BravO/', 'http://kr.battle.net/sc2/en/profile/2344728/1/Ryung/', 'http://kr.battle.net/sc2/en/profile/2344151/1/Seed/', 'http://kr.battle.net/sc2/en/profile/2342789/1/sKyHigh/', 'http://kr.battle.net/sc2/en/profile/2345102/1/Hurricane/', 'http://kr.battle.net/sc2/en/profile/2342299/1/KeeN/', 'http://kr.battle.net/sc2/en/profile/2343910/1/effort/', 'http://kr.battle.net/sc2/en/profile/2343183/1/Shine/', 'http://xx.battle.net/sc2/en/profile/415/1/EGJD/', 'http://xx.battle.net/sc2/en/profile/404/1/sOs/', 'http://xx.battle.net/sc2/en/profile/402/1/Dear/', 'http://xx.battle.net/sc2/en/profile/408/1/Polt/', 'http://xx.battle.net/sc2/en/profile/414/1/ducKDeoK/', 'http://xx.battle.net/sc2/en/profile/413/1/Maru/', 'http://xx.battle.net/sc2/en/profile/406/1/INnoVation/', 'http://xx.battle.net/sc2/en/profile/410/1/STBomber/', 'http://xx.battle.net/sc2/en/profile/407/1/NaNiwa/', 'http://xx.battle.net/sc2/en/profile/401/1/Soulkey/', 'http://xx.battle.net/sc2/en/profile/405/1/MMA/']\n"
     ]
    }
   ],
   "source": [
    "nb_joueur = list(dict.fromkeys(ids))\n",
    "print(nb_joueur)"
   ]
  },
  {
   "cell_type": "markdown",
   "metadata": {},
   "source": [
    "## Repartition des races"
   ]
  },
  {
   "cell_type": "markdown",
   "metadata": {},
   "source": [
    "On essaye de comprendre l'influence de la race sur le joueur : il y a t-il des joueurs qui change de champion ?"
   ]
  },
  {
   "cell_type": "code",
   "execution_count": 13,
   "metadata": {},
   "outputs": [
    {
     "name": "stdout",
     "output_type": "stream",
     "text": [
      "Protoss    1210\n",
      "Zerg       1061\n",
      "Terran      781\n",
      "Name: class, dtype: int64\n"
     ]
    },
    {
     "data": {
      "text/plain": [
       "<matplotlib.axes._subplots.AxesSubplot at 0xbfd4dd8>"
      ]
     },
     "execution_count": 13,
     "metadata": {},
     "output_type": "execute_result"
    },
    {
     "data": {
      "image/png": "[encoded data removed]",
      "text/plain": [
       "<Figure size 432x288 with 1 Axes>"
      ]
     },
     "metadata": {
      "needs_background": "light"
     },
     "output_type": "display_data"
    }
   ],
   "source": [
    "races = df['class'].value_counts()\n",
    "print(races)\n",
    "races.plot.bar()"
   ]
  },
  {
   "cell_type": "code",
   "execution_count": 52,
   "metadata": {},
   "outputs": [
    {
     "data": {
      "text/plain": [
       "class    id                                                        \n",
       "Protoss  http://eu.battle.net/sc2/en/profile/1139573/1/BabyKnight/     25\n",
       "         http://eu.battle.net/sc2/en/profile/1430346/1/ShoWTimE/       11\n",
       "         http://eu.battle.net/sc2/en/profile/2385865/1/elfi/            6\n",
       "         http://eu.battle.net/sc2/en/profile/239335/1/NightEnD/        12\n",
       "         http://eu.battle.net/sc2/en/profile/2452136/1/MinChul/        37\n",
       "                                                                       ..\n",
       "Zerg     http://us.battle.net/sc2/en/profile/5376901/1/SpiderCheck/    13\n",
       "         http://us.battle.net/sc2/en/profile/5393959/1/Sen/            17\n",
       "         http://us.battle.net/sc2/en/profile/902213/1/Suppy/           15\n",
       "         http://xx.battle.net/sc2/en/profile/401/1/Soulkey/             8\n",
       "         http://xx.battle.net/sc2/en/profile/415/1/EGJD/               19\n",
       "Name: id, Length: 200, dtype: int64"
      ]
     },
     "execution_count": 52,
     "metadata": {},
     "output_type": "execute_result"
    }
   ],
   "source": [
    "df.groupby(['class','id'])['id'].count()"
   ]
  },
  {
   "cell_type": "code",
   "execution_count": 219,
   "metadata": {},
   "outputs": [
    {
     "data": {
      "image/png": "[encoded data removed]",
      "text/plain": [
       "<Figure size 1080x288 with 200 Axes>"
      ]
     },
     "metadata": {
      "needs_background": "light"
     },
     "output_type": "display_data"
    }
   ],
   "source": [
    "\n",
    "\n",
    "f,ax=plt.subplots(200,1,figsize=(15,4))\n",
    "dfi = df.set_index(\"id\")\n",
    "\n",
    "\n",
    "for i in range (0,200) :\n",
    "    races_joueur = dfi.loc[nb_joueur[i]]['class'].value_counts()\n",
    "    races_joueur.plot.bar(ax=ax[i])\n",
    "    \n",
    "    \n",
    "plt.show()  "
   ]
  },
  {
   "cell_type": "code",
   "execution_count": 119,
   "metadata": {},
   "outputs": [
    {
     "data": {
      "text/plain": [
       "<matplotlib.axes._subplots.AxesSubplot at 0x85a5f7f0>"
      ]
     },
     "execution_count": 119,
     "metadata": {},
     "output_type": "execute_result"
    },
    {
     "data": {
      "image/png": "[encoded data removed]",
      "text/plain": [
       "<Figure size 432x288 with 1 Axes>"
      ]
     },
     "metadata": {
      "needs_background": "light"
     },
     "output_type": "display_data"
    }
   ],
   "source": [
    "races_joueur = dfi.loc[ids[100]]['class'].value_counts()\n",
    "races_joueur.plot.bar()"
   ]
  },
  {
   "cell_type": "markdown",
   "metadata": {},
   "source": [
    "### Remarque : Chaque joueur ne joue qu'un seul type de personnage ( ligne droite pas de déviation). Donc cette feature est très importante pour nous. !!!!!"
   ]
  },
  {
   "cell_type": "code",
   "execution_count": 9,
   "metadata": {},
   "outputs": [
    {
     "data": {
      "text/plain": [
       "<matplotlib.axes._subplots.AxesSubplot at 0xbc64080>"
      ]
     },
     "execution_count": 9,
     "metadata": {},
     "output_type": "execute_result"
    },
    {
     "data": {
      "image/png": "[encoded data removed]",
      "text/plain": [
       "<Figure size 432x288 with 1 Axes>"
      ]
     },
     "metadata": {
      "needs_background": "light"
     },
     "output_type": "display_data"
    }
   ],
   "source": [
    "df.var().plot.bar()"
   ]
  },
  {
   "cell_type": "markdown",
   "metadata": {},
   "source": [
    "on pourrait supprimer les hotckey 8,9 , 0 ,7 car ils sont très peu fréquents ( biais pour la classification)"
   ]
  },
  {
   "cell_type": "code",
   "execution_count": 10,
   "metadata": {},
   "outputs": [
    {
     "data": {
      "text/plain": [
       "array([[<matplotlib.axes._subplots.AxesSubplot object at 0x000000000BF7C518>,\n",
       "        <matplotlib.axes._subplots.AxesSubplot object at 0x000000000BF10080>,\n",
       "        <matplotlib.axes._subplots.AxesSubplot object at 0x000000000BF80630>],\n",
       "       [<matplotlib.axes._subplots.AxesSubplot object at 0x000000000BFB2BE0>,\n",
       "        <matplotlib.axes._subplots.AxesSubplot object at 0x000000000C4011D0>,\n",
       "        <matplotlib.axes._subplots.AxesSubplot object at 0x000000000C431748>],\n",
       "       [<matplotlib.axes._subplots.AxesSubplot object at 0x000000000C462CF8>,\n",
       "        <matplotlib.axes._subplots.AxesSubplot object at 0x000000000C6A1320>,\n",
       "        <matplotlib.axes._subplots.AxesSubplot object at 0x000000000C6A1358>],\n",
       "       [<matplotlib.axes._subplots.AxesSubplot object at 0x000000000C703E48>,\n",
       "        <matplotlib.axes._subplots.AxesSubplot object at 0x000000000C742438>,\n",
       "        <matplotlib.axes._subplots.AxesSubplot object at 0x000000000BEEB978>]],\n",
       "      dtype=object)"
      ]
     },
     "execution_count": 10,
     "metadata": {},
     "output_type": "execute_result"
    },
    {
     "data": {
      "image/png": "[encoded data removed]",
      "text/plain": [
       "<Figure size 1152x1440 with 12 Axes>"
      ]
     },
     "metadata": {
      "needs_background": "light"
     },
     "output_type": "display_data"
    }
   ],
   "source": [
    "df.hist(figsize = (16,20), stacked= False)"
   ]
  },
  {
   "cell_type": "code",
   "execution_count": 22,
   "metadata": {},
   "outputs": [
    {
     "data": {
      "image/png": "[encoded data removed]",
      "text/plain": [
       "<Figure size 720x576 with 2 Axes>"
      ]
     },
     "metadata": {
      "needs_background": "light"
     },
     "output_type": "display_data"
    }
   ],
   "source": [
    "sns.heatmap(df.corr(),annot=True,cmap='RdYlGn',linewidths=0.2) #data.corr()-->correlation matrix\n",
    "fig=plt.gcf()\n",
    "fig.set_size_inches(10,8)\n",
    "plt.show()"
   ]
  },
  {
   "cell_type": "markdown",
   "metadata": {},
   "source": [
    "Les corrélations ne sont pas suffisante pour pouvoir appliquer une supprésion de features. les features sont tous bien corrolé . Voir avec race ??"
   ]
  }
 ],
 "metadata": {
  "celltoolbar": "Format de la Cellule Texte Brut",
  "kernelspec": {
   "display_name": "Python 3",
   "language": "python",
   "name": "python3"
  }
 },
 "nbformat": 4,
 "nbformat_minor": 2
}
