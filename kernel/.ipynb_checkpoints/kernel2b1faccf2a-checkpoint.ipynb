{
 "cells": [
  {
   "cell_type": "code",
   "execution_count": 1,
   "metadata": {
    "_cell_guid": "b1076dfc-b9ad-4769-8c92-a6c4dae69d19",
    "_uuid": "8f2839f25d086af736a60e9eeb907d3b93b6e0e5"
   },
   "outputs": [
    {
     "name": "stdout",
     "output_type": "stream",
     "text": [
      "../data/starcraft-2-player-prediction-challenge-2019.zip\n",
      "../data/input/SAMPLE_SUBMISSION.CSV\n",
      "../data/input/TEST.CSV\n",
      "../data/input/TEST_LONG.CSV\n",
      "../data/input/TRAIN.CSV\n",
      "../data/input/TRAIN_LONG.CSV\n",
      "../data/output/chartsv1.png\n",
      "../data/output/submission.csv\n"
     ]
    }
   ],
   "source": [
    "# This Python 3 environment comes with many helpful analytics libraries installed\n",
    "# It is defined by the kaggle/python docker image: https://github.com/kaggle/docker-python\n",
    "# For example, here's several helpful packages to load in \n",
    "\n",
    "import numpy as np # linear algebra\n",
    "import pandas as pd # data processing, CSV file I/O (e.g. pd.read_csv)\n",
    "\n",
    "# Input data files are available in the \"../input/\" directory.\n",
    "# For example, running this (by clicking run or pressing Shift+Enter) will list all files under the input directory\n",
    "\n",
    "import os\n",
    "for dirname, _, filenames in os.walk('../data/'):\n",
    "    for filename in filenames:\n",
    "        print(os.path.join(dirname, filename))\n",
    "\n",
    "# Any results you write to the current directory are saved as output."
   ]
  },
  {
   "cell_type": "markdown",
   "metadata": {},
   "source": [
    "Important definitions"
   ]
  },
  {
   "cell_type": "code",
   "execution_count": 2,
   "metadata": {},
   "outputs": [],
   "source": [
    "#To be sure that we get all the right keys\n",
    "CSV_KEYS = ['id', 'class', 's', 'sBase', 'sMineral', 'ord_representation']\n",
    "for i in range(10):\n",
    "    CSV_KEYS.append('hotkey' + str(i))\n",
    "\n",
    "#Define map class->value\n",
    "CLASSES = {}\n",
    "\n",
    "#Zerg -> 0\n",
    "#Protoss -> 1\n",
    "#Terran -> 2\n",
    "CLASSES['Zerg'] = 0\n",
    "CLASSES['Protoss'] = 1\n",
    "CLASSES['Terran'] = 2\n",
    "\n",
    "#Define Directories\n",
    "OUTPUT = '../data/output'\n",
    "OUTPUT_SUB = OUTPUT\n",
    "OUTPUT_CHARTS = OUTPUT + '/charts'\n",
    "INPUT = '../data/input'\n",
    "INPUT_TRAIN = INPUT + '/TRAIN.CSV'\n",
    "INPUT_TEST = INPUT + '/TEST.CSV'\n",
    "CHART_NAME = 'fig1.pgn'"
   ]
  },
  {
   "cell_type": "markdown",
   "metadata": {},
   "source": [
    "Functions to get clean data"
   ]
  },
  {
   "cell_type": "code",
   "execution_count": 3,
   "metadata": {},
   "outputs": [],
   "source": [
    "import csv\n",
    "from collections import defaultdict\n",
    "\n",
    "def zero_dict():\n",
    "    new_dict = {}\n",
    "    #Initialize to zero\n",
    "    for i in CSV_KEYS:\n",
    "        new_dict[i] = 0\n",
    "    return new_dict\n",
    "\n",
    "def get_train_data(csv_file=INPUT_TRAIN):\n",
    "    \n",
    "    with open(csv_file, newline='') as csv_text:\n",
    "        cvs_reader = csv.reader(csv_text, delimiter=',')\n",
    "        data = []\n",
    "        ids = []\n",
    "        #Representation des actions faites dans l'ordre\n",
    "        ord_representation = ''\n",
    "        \n",
    "        for row in cvs_reader:\n",
    "\n",
    "            #Initialize to zero\n",
    "            csv_dict = zero_dict()\n",
    "                \n",
    "            csv_dict['id'] = row[0]\n",
    "            ids.append(row[0])\n",
    "            csv_dict['class'] = CLASSES[row[1]]\n",
    "            t = 0\n",
    "            for i in range(1, len(row)-2):\n",
    "                if 'hotkey' in row[len(row)-i] and t != 0:\n",
    "                    csv_dict[row[len(row)-i][:-1]] += 1/t\n",
    "                    \n",
    "                if 'Base' in row[len(row)-i] and t != 0:\n",
    "                    csv_dict['sBase'] += 1/t\n",
    "                    \n",
    "                if 'Mineral' in row[len(row)-i] and t != 0:\n",
    "                    csv_dict['sMineral'] += 1/t\n",
    "                    \n",
    "                if 's' == row[len(row)-i] and t != 0:\n",
    "                    csv_dict['s'] += 1/t\n",
    "                    \n",
    "                if 't' in row[len(row)-i][0] and t==0:\n",
    "                    t = int(row[len(row)-i][1:])\n",
    "            csv_dict['ord_representation'] = hash(ord_representation) #Faire integer\n",
    "            data.append(csv_dict)\n",
    "        return (data, ids)\n",
    "\n",
    "def get_test_data(csv_file=INPUT_TEST):\n",
    "    with open(csv_file, newline='') as csv_text:\n",
    "        cvs_reader = csv.reader(csv_text, delimiter=',')\n",
    "        data = []\n",
    "        #Representation des actions faites dans l'ordre\n",
    "        ord_representation = ''\n",
    "        \n",
    "        for row in cvs_reader:\n",
    "\n",
    "            #Initialize to zero\n",
    "            csv_dict = zero_dict()\n",
    "            \n",
    "            csv_dict['class'] = CLASSES[row[0]]\n",
    "            t = 0\n",
    "            for i in range(1, len(row)-1):\n",
    "                if 'hotkey' in row[len(row)-i] and t != 0:\n",
    "                    csv_dict[row[len(row)-i][:-1]] += 1/t\n",
    "                    ord_representation += row[len(row)-i][:-1]#Seulement representer l'ordre des hotkeys, qui sont la majorite\n",
    "                \n",
    "                if 'Base' in row[len(row)-i] and t != 0:\n",
    "                    csv_dict['sBase'] += 1/t\n",
    "                    \n",
    "                if 'Mineral' in row[len(row)-i] and t != 0:\n",
    "                    csv_dict['sMineral'] += 1/t\n",
    "                    \n",
    "                if 's' == row[len(row)-i] and t != 0:\n",
    "                    csv_dict['s'] += 1/t\n",
    "                    \n",
    "                if 't' in row[len(row)-i][0] and t==0:\n",
    "                    t = int(row[len(row)-i][1:])\n",
    "            csv_dict['ord_representation'] = hash(ord_representation) #Faire integer\n",
    "            data.append(csv_dict)\n",
    "        return data"
   ]
  },
  {
   "cell_type": "code",
   "execution_count": 4,
   "metadata": {},
   "outputs": [],
   "source": [
    "data, ids = get_train_data()"
   ]
  },
  {
   "cell_type": "code",
   "execution_count": 5,
   "metadata": {
    "_cell_guid": "79c7e3d0-c299-4dcb-8224-4455121ee9b0",
    "_uuid": "d629ff2d2480ee46fbb7e2d37f6b5fab8052498a",
    "scrolled": false
   },
   "outputs": [
    {
     "name": "stdout",
     "output_type": "stream",
     "text": [
      "3052\n",
      "{'id': 'http://eu.battle.net/sc2/en/profile/3074362/1/Stardust/', 'class': 1, 's': 0.3244712990936581, 'sBase': 0.0072507552870090634, 'sMineral': 0, 'ord_representation': 5258272073345635321, 'hotkey0': 0.05135951661631414, 'hotkey1': 0.3111782477341414, 'hotkey2': 0.1389728096676744, 'hotkey3': 0.210876132930515, 'hotkey4': 0.18791540785498606, 'hotkey5': 0, 'hotkey6': 0, 'hotkey7': 0, 'hotkey8': 0.010271903323262836, 'hotkey9': 0.011480362537764344}\n"
     ]
    },
    {
     "data": {
      "text/html": [
       "<div>\n",
       "<style scoped>\n",
       "    .dataframe tbody tr th:only-of-type {\n",
       "        vertical-align: middle;\n",
       "    }\n",
       "\n",
       "    .dataframe tbody tr th {\n",
       "        vertical-align: top;\n",
       "    }\n",
       "\n",
       "    .dataframe thead th {\n",
       "        text-align: right;\n",
       "    }\n",
       "</style>\n",
       "<table border=\"1\" class=\"dataframe\">\n",
       "  <thead>\n",
       "    <tr style=\"text-align: right;\">\n",
       "      <th></th>\n",
       "      <th>id</th>\n",
       "      <th>class</th>\n",
       "      <th>s</th>\n",
       "      <th>sBase</th>\n",
       "      <th>sMineral</th>\n",
       "      <th>ord_representation</th>\n",
       "      <th>hotkey0</th>\n",
       "      <th>hotkey1</th>\n",
       "      <th>hotkey2</th>\n",
       "      <th>hotkey3</th>\n",
       "      <th>hotkey4</th>\n",
       "      <th>hotkey5</th>\n",
       "      <th>hotkey6</th>\n",
       "      <th>hotkey7</th>\n",
       "      <th>hotkey8</th>\n",
       "      <th>hotkey9</th>\n",
       "    </tr>\n",
       "  </thead>\n",
       "  <tbody>\n",
       "    <tr>\n",
       "      <th>0</th>\n",
       "      <td>http://eu.battle.net/sc2/en/profile/4234852/1/...</td>\n",
       "      <td>1</td>\n",
       "      <td>0.407251</td>\n",
       "      <td>0.039275</td>\n",
       "      <td>0.003021</td>\n",
       "      <td>-4813767547408531051</td>\n",
       "      <td>0.027795</td>\n",
       "      <td>0.249547</td>\n",
       "      <td>0.134139</td>\n",
       "      <td>0.242900</td>\n",
       "      <td>0.157100</td>\n",
       "      <td>0.071299</td>\n",
       "      <td>0.012689</td>\n",
       "      <td>0.000604</td>\n",
       "      <td>0.000000</td>\n",
       "      <td>0.002417</td>\n",
       "    </tr>\n",
       "    <tr>\n",
       "      <th>1</th>\n",
       "      <td>http://eu.battle.net/sc2/en/profile/3074362/1/...</td>\n",
       "      <td>1</td>\n",
       "      <td>0.324471</td>\n",
       "      <td>0.007251</td>\n",
       "      <td>0.000000</td>\n",
       "      <td>5258272073345635321</td>\n",
       "      <td>0.051360</td>\n",
       "      <td>0.311178</td>\n",
       "      <td>0.138973</td>\n",
       "      <td>0.210876</td>\n",
       "      <td>0.187915</td>\n",
       "      <td>0.000000</td>\n",
       "      <td>0.000000</td>\n",
       "      <td>0.000000</td>\n",
       "      <td>0.010272</td>\n",
       "      <td>0.011480</td>\n",
       "    </tr>\n",
       "    <tr>\n",
       "      <th>2</th>\n",
       "      <td>http://eu.battle.net/sc2/en/profile/4234852/1/...</td>\n",
       "      <td>1</td>\n",
       "      <td>0.425743</td>\n",
       "      <td>0.045545</td>\n",
       "      <td>0.002970</td>\n",
       "      <td>-5789986429798510823</td>\n",
       "      <td>0.020792</td>\n",
       "      <td>0.145545</td>\n",
       "      <td>0.133663</td>\n",
       "      <td>0.317822</td>\n",
       "      <td>0.135644</td>\n",
       "      <td>0.090099</td>\n",
       "      <td>0.011881</td>\n",
       "      <td>0.000000</td>\n",
       "      <td>0.000000</td>\n",
       "      <td>0.003960</td>\n",
       "    </tr>\n",
       "    <tr>\n",
       "      <th>3</th>\n",
       "      <td>http://eu.battle.net/sc2/en/profile/3074362/1/...</td>\n",
       "      <td>1</td>\n",
       "      <td>0.395025</td>\n",
       "      <td>0.019900</td>\n",
       "      <td>0.000000</td>\n",
       "      <td>-207156918716171596</td>\n",
       "      <td>0.039801</td>\n",
       "      <td>0.289552</td>\n",
       "      <td>0.083582</td>\n",
       "      <td>0.249751</td>\n",
       "      <td>0.284577</td>\n",
       "      <td>0.000000</td>\n",
       "      <td>0.000000</td>\n",
       "      <td>0.000000</td>\n",
       "      <td>0.000000</td>\n",
       "      <td>0.014925</td>\n",
       "    </tr>\n",
       "    <tr>\n",
       "      <th>4</th>\n",
       "      <td>http://eu.battle.net/sc2/en/profile/4234852/1/...</td>\n",
       "      <td>1</td>\n",
       "      <td>0.385185</td>\n",
       "      <td>0.001852</td>\n",
       "      <td>0.000000</td>\n",
       "      <td>-6450083881333443248</td>\n",
       "      <td>0.001852</td>\n",
       "      <td>0.114815</td>\n",
       "      <td>0.081481</td>\n",
       "      <td>0.372222</td>\n",
       "      <td>0.159259</td>\n",
       "      <td>0.027778</td>\n",
       "      <td>0.000000</td>\n",
       "      <td>0.000000</td>\n",
       "      <td>0.000000</td>\n",
       "      <td>0.000000</td>\n",
       "    </tr>\n",
       "  </tbody>\n",
       "</table>\n",
       "</div>"
      ],
      "text/plain": [
       "                                                  id  class         s  \\\n",
       "0  http://eu.battle.net/sc2/en/profile/4234852/1/...      1  0.407251   \n",
       "1  http://eu.battle.net/sc2/en/profile/3074362/1/...      1  0.324471   \n",
       "2  http://eu.battle.net/sc2/en/profile/4234852/1/...      1  0.425743   \n",
       "3  http://eu.battle.net/sc2/en/profile/3074362/1/...      1  0.395025   \n",
       "4  http://eu.battle.net/sc2/en/profile/4234852/1/...      1  0.385185   \n",
       "\n",
       "      sBase  sMineral   ord_representation   hotkey0   hotkey1   hotkey2  \\\n",
       "0  0.039275  0.003021 -4813767547408531051  0.027795  0.249547  0.134139   \n",
       "1  0.007251  0.000000  5258272073345635321  0.051360  0.311178  0.138973   \n",
       "2  0.045545  0.002970 -5789986429798510823  0.020792  0.145545  0.133663   \n",
       "3  0.019900  0.000000  -207156918716171596  0.039801  0.289552  0.083582   \n",
       "4  0.001852  0.000000 -6450083881333443248  0.001852  0.114815  0.081481   \n",
       "\n",
       "    hotkey3   hotkey4   hotkey5   hotkey6   hotkey7   hotkey8   hotkey9  \n",
       "0  0.242900  0.157100  0.071299  0.012689  0.000604  0.000000  0.002417  \n",
       "1  0.210876  0.187915  0.000000  0.000000  0.000000  0.010272  0.011480  \n",
       "2  0.317822  0.135644  0.090099  0.011881  0.000000  0.000000  0.003960  \n",
       "3  0.249751  0.284577  0.000000  0.000000  0.000000  0.000000  0.014925  \n",
       "4  0.372222  0.159259  0.027778  0.000000  0.000000  0.000000  0.000000  "
      ]
     },
     "execution_count": 5,
     "metadata": {},
     "output_type": "execute_result"
    }
   ],
   "source": [
    "#Only for visualization purposes\n",
    "print(len(data))\n",
    "print(data[1])\n",
    "df = pd.DataFrame(data, columns=CSV_KEYS) \n",
    "df.head().fillna(0)"
   ]
  },
  {
   "cell_type": "markdown",
   "metadata": {},
   "source": [
    "# Stratify Sampling"
   ]
  },
  {
   "cell_type": "markdown",
   "metadata": {},
   "source": [
    "Cleaning data"
   ]
  },
  {
   "cell_type": "code",
   "execution_count": 6,
   "metadata": {},
   "outputs": [
    {
     "name": "stdout",
     "output_type": "stream",
     "text": [
      "{'class': 1, 's': 0.40725075528701243, 'sBase': 0.03927492447129905, 'sMineral': 0.0030211480362537764, 'ord_representation': -4813767547408531051, 'hotkey0': 0.027794561933534714, 'hotkey1': 0.24954682779456372, 'hotkey2': 0.1341389728096683, 'hotkey3': 0.24290030211480534, 'hotkey4': 0.15709969788519723, 'hotkey5': 0.07129909365558913, 'hotkey6': 0.012688821752265853, 'hotkey7': 0.0006042296072507553, 'hotkey8': 0, 'hotkey9': 0.002416918429003021} {'class': 0, 's': 1.1153846153846116, 'sBase': 0.012820512820512825, 'sMineral': 0, 'ord_representation': -5782976896838895192, 'hotkey0': 0, 'hotkey1': 0.3880341880341868, 'hotkey2': 0.17264957264957217, 'hotkey3': 0.03247863247863249, 'hotkey4': 0.4401709401709388, 'hotkey5': 0.01367521367521368, 'hotkey6': 0, 'hotkey7': 0, 'hotkey8': 0, 'hotkey9': 0}\n",
      "3052\n",
      "<class 'list'>\n"
     ]
    }
   ],
   "source": [
    "#Separate Labels from features\n",
    "features = []\n",
    "\n",
    "for sample in data:\n",
    "    dict_temp = {}\n",
    "    #New dictionary without the label\n",
    "    for key, value in sample.items():\n",
    "        if key != 'id':\n",
    "            dict_temp[key] = value\n",
    "    #Append to features list\n",
    "    features.append(dict_temp)\n",
    "print(features[0], features[19])\n",
    "print(len(ids))\n",
    "print(type(ids))\n",
    "    "
   ]
  },
  {
   "cell_type": "markdown",
   "metadata": {},
   "source": [
    "Split"
   ]
  },
  {
   "cell_type": "code",
   "execution_count": 7,
   "metadata": {},
   "outputs": [],
   "source": [
    "from sklearn.model_selection import train_test_split\n",
    "\n",
    "df_X = pd.DataFrame(features, columns=CSV_KEYS) \n",
    "X = df_X.fillna(0).values\n",
    "y = np.asarray(ids)\n",
    "\n",
    "X_train, X_valid, y_train, y_valid = train_test_split(X, y, test_size=0.2, shuffle=True, stratify=ids)"
   ]
  },
  {
   "cell_type": "markdown",
   "metadata": {},
   "source": [
    "*Test if we have correct distribution*"
   ]
  },
  {
   "cell_type": "code",
   "execution_count": 8,
   "metadata": {},
   "outputs": [
    {
     "name": "stdout",
     "output_type": "stream",
     "text": [
      "0\n"
     ]
    }
   ],
   "source": [
    "counter = 0\n",
    "\n",
    "for i in y_valid:\n",
    "    if i not in y_train:\n",
    "        counter += 1\n",
    "\n",
    "print(counter)"
   ]
  },
  {
   "cell_type": "markdown",
   "metadata": {},
   "source": [
    "# KNN"
   ]
  },
  {
   "cell_type": "markdown",
   "metadata": {},
   "source": [
    "Following the tutorial at: https://towardsdatascience.com/knn-using-scikit-learn-c6bed765be75"
   ]
  },
  {
   "cell_type": "code",
   "execution_count": 24,
   "metadata": {},
   "outputs": [],
   "source": [
    "#Import the KNeighborsCLassifier class from sklearn\n",
    "from sklearn.neighbors import KNeighborsClassifier\n",
    "\n",
    "#Import metrics model to check the accuracy\n",
    "from sklearn import metrics\n",
    "#Try running from k=1 through 25 and record testing accuracy\n",
    "k_range = range(1, 141)\n",
    "scores = {}\n",
    "scores_list = []\n",
    "for k in k_range:\n",
    "    knn = KNeighborsClassifier(n_neighbors = k)\n",
    "    knn.fit(X_train, y_train)\n",
    "    y_pred = knn.predict(X_valid)\n",
    "    scores[k] = metrics.accuracy_score(y_valid, y_pred)\n",
    "    scores_list.append(scores[k])"
   ]
  },
  {
   "cell_type": "markdown",
   "metadata": {},
   "source": [
    "#Visualize K vs Accuracy"
   ]
  },
  {
   "cell_type": "code",
   "execution_count": 25,
   "metadata": {},
   "outputs": [
    {
     "data": {
      "image/png": "[encoded data removed]",
      "text/plain": [
       "<Figure size 432x288 with 1 Axes>"
      ]
     },
     "metadata": {
      "needs_background": "light"
     },
     "output_type": "display_data"
    }
   ],
   "source": [
    "%matplotlib inline\n",
    "import matplotlib.pyplot as plt\n",
    "\n",
    "#Plot relationship between K and accuracy\n",
    "plt.plot(k_range, scores_list)\n",
    "plt.xlabel('Value of K for KNN')\n",
    "plt.ylabel('Validation Accuracy')\n",
    "\n",
    "#Sauvegarder les graphes pour futures comparaisons\n",
    "#plt.savefig(OUTPUT_CHARTS + fig_name)\n",
    "fig_name = ''"
   ]
  },
  {
   "cell_type": "markdown",
   "metadata": {},
   "source": [
    "**Final model with k=3**"
   ]
  },
  {
   "cell_type": "code",
   "execution_count": 30,
   "metadata": {},
   "outputs": [
    {
     "data": {
      "text/plain": [
       "KNeighborsClassifier(algorithm='auto', leaf_size=30, metric='minkowski',\n",
       "                     metric_params=None, n_jobs=None, n_neighbors=1, p=2,\n",
       "                     weights='uniform')"
      ]
     },
     "execution_count": 30,
     "metadata": {},
     "output_type": "execute_result"
    }
   ],
   "source": [
    "knn = KNeighborsClassifier(n_neighbors=1)\n",
    "knn.fit(X, y)"
   ]
  },
  {
   "cell_type": "code",
   "execution_count": 31,
   "metadata": {},
   "outputs": [
    {
     "name": "stdout",
     "output_type": "stream",
     "text": [
      "{'id': 0, 'class': 0, 's': 0.9611428571428496, 'sBase': 0.02171428571428572, 'sMineral': 0.003428571428571429, 'hotkey0': 0.9817142857142777, 'hotkey1': 0.4400000000000036, 'hotkey2': 0.08799999999999987, 'hotkey3': 0.005714285714285715, 'hotkey4': 0, 'hotkey5': 0, 'hotkey6': 1.1234285714285597, 'hotkey7': 0.053714285714285666, 'hotkey8': 0, 'hotkey9': 0.03999999999999999}\n"
     ]
    }
   ],
   "source": [
    "#Open TEST file and prepare TEST data\n",
    "test_data = get_test_data()\n",
    "print(test_data[0])"
   ]
  },
  {
   "cell_type": "code",
   "execution_count": 32,
   "metadata": {},
   "outputs": [],
   "source": [
    "#Testing\n",
    "df_testX = pd.DataFrame(test_data, columns=CSV_KEYS) \n",
    "X_test = df_testX.fillna(0).values\n",
    "\n",
    "y_predict = knn.predict(X_test)"
   ]
  },
  {
   "cell_type": "code",
   "execution_count": 33,
   "metadata": {},
   "outputs": [],
   "source": [
    "#Save predictions\n",
    "predictions_formatted = []\n",
    "\n",
    "for i, value in enumerate(y_predict, 1):\n",
    "    predictions_formatted.append([i, value])\n",
    "\n",
    "df_predict = pd.DataFrame(predictions_formatted)\n",
    "df_predict.head()\n",
    "\n",
    "import os\n",
    "#Remove if exists\n",
    "if os.path.exists(OUTPUT_SUB):\n",
    "    os.remove(OUTPUT_SUB)\n",
    "df_predict.to_csv(submission_path, header=['RowId','prediction'], mode='w', index=False)"
   ]
  }
 ],
 "metadata": {
  "kernelspec": {
   "display_name": "Python 3",
   "language": "python",
   "name": "python3"
  },
  "language_info": {
   "codemirror_mode": {
    "name": "ipython",
    "version": 3
   },
   "file_extension": ".py",
   "mimetype": "text/x-python",
   "name": "python",
   "nbconvert_exporter": "python",
   "pygments_lexer": "ipython3",
   "version": "3.7.4"
  }
 },
 "nbformat": 4,
 "nbformat_minor": 1
}
