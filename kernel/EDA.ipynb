{
 "cells": [
  {
   "cell_type": "markdown",
   "metadata": {},
   "source": [
    " #                                     Strarcraft 2 prediction Player"
   ]
  },
  {
   "cell_type": "code",
   "execution_count": 2,
   "metadata": {},
   "outputs": [],
   "source": [
    "import numpy as np\n",
    "import pandas as pd\n",
    "from sklearn.preprocessing import StandardScaler\n",
    "from sklearn import preprocessing\n",
    "from imblearn.over_sampling import SMOTE\n",
    "from pandas.plotting import parallel_coordinates,scatter_matrix\n",
    "import seaborn as sns\n",
    "import os\n",
    "import matplotlib.pyplot as plt"
   ]
  },
  {
   "cell_type": "markdown",
   "metadata": {},
   "source": [
    "## Important Variables"
   ]
  },
  {
   "cell_type": "code",
   "execution_count": 3,
   "metadata": {},
   "outputs": [],
   "source": [
    "#To be sure that we get all the right keys\n",
    "CSV_KEYS = ['id', 'class', 's', 'sBase', 'sMineral', 'order']\n",
    "for i in range(10):\n",
    "    CSV_KEYS.append('hotkey' + str(i))\n",
    "\n",
    "#Define map class->value\n",
    "CLASSES = {}\n",
    "\n",
    "#Zerg -> 0\n",
    "#Protoss -> 1\n",
    "#Terran -> 2\n",
    "CLASSES['Zerg'] = 0\n",
    "CLASSES['Protoss'] = 1\n",
    "CLASSES['Terran'] = 2\n",
    "\n",
    "#Define Directories\n",
    "OUTPUT = '../data/output'\n",
    "OUTPUT_SUB = OUTPUT\n",
    "OUTPUT_CHARTS = OUTPUT + '/charts/'\n",
    "INPUT = '../data/input'\n",
    "INPUT_TRAIN = INPUT + '/TRAIN.CSV'\n",
    "INPUT_TEST = INPUT + '/TEST.CSV'"
   ]
  },
  {
   "cell_type": "markdown",
   "metadata": {},
   "source": [
    "## Reading Data"
   ]
  },
  {
   "cell_type": "code",
   "execution_count": 4,
   "metadata": {},
   "outputs": [],
   "source": [
    "import csv\n",
    "from collections import defaultdict\n",
    "csv_file = '../data/input/TRAIN.CSV'\n",
    "\n",
    "def get_train_data_old():    \n",
    "    with open(csv_file, newline='') as csv_text:\n",
    "        cvs_reader = csv.reader(csv_text, delimiter=',')\n",
    "        data = []\n",
    "        ids = []\n",
    "\n",
    "        for row in cvs_reader:\n",
    "\n",
    "            ids.append(row[0])\n",
    "            train_dict = defaultdict(int)\n",
    "            train_dict['id'] = row[0]\n",
    "            train_dict['class'] = row[1]\n",
    "\n",
    "            t = 0\n",
    "            for i in range(1, len(row)-2):\n",
    "                if 'hotkey' in row[len(row)-i] and t != 0:\n",
    "                    train_dict[row[len(row)-i][:-1]] += 1/t\n",
    "                if 't' in row[len(row)-i][0] and t==0:\n",
    "                    t = int(row[len(row)-i][1:])\n",
    "            data.append(train_dict)\n",
    "        \n",
    "def get_train_data(csv_file=INPUT_TRAIN):\n",
    "    with open(csv_file, newline='') as csv_text:\n",
    "        cvs_reader = csv.reader(csv_text, delimiter=',')\n",
    "        data = []\n",
    "        ids = []\n",
    "        #Representation des actions faites dans l'ordre\n",
    "        ord_representation = ''\n",
    "        \n",
    "        for row in cvs_reader:\n",
    "\n",
    "            #Initialize to zero\n",
    "            csv_dict = zero_dict()\n",
    "            ord_representation = ''\n",
    "                \n",
    "            csv_dict['id'] = row[0]\n",
    "            ids.append(row[0])\n",
    "            csv_dict['class'] = CLASSES[row[1]]\n",
    "            t = 0\n",
    "            for i in range(1, len(row)-2):\n",
    "                if 'hotkey' in row[len(row)-i] and t != 0:\n",
    "                    csv_dict[row[len(row)-i][:-1]] += 1/t\n",
    "                    ord_representation += row[len(row)-i][-2:-1]\n",
    "                    \n",
    "                if 'Base' in row[len(row)-i] and t != 0:\n",
    "                    csv_dict['sBase'] += 1/t\n",
    "                    \n",
    "                if 'Mineral' in row[len(row)-i] and t != 0:\n",
    "                    csv_dict['sMineral'] += 1/t\n",
    "                    \n",
    "                if 's' == row[len(row)-i] and t != 0:\n",
    "                    csv_dict['s'] += 1/t\n",
    "                    \n",
    "                if 't' in row[len(row)-i][0] and t==0:\n",
    "                    t = int(row[len(row)-i][1:])\n",
    "            csv_dict['order'] = ord_representation#hash(ord_representation) #Faire integer\n",
    "            data.append(csv_dict)\n",
    "        return (data, ids)\n",
    "    \n",
    "def zero_dict():\n",
    "    new_dict = {}\n",
    "    #Initialize to zero\n",
    "    for i in CSV_KEYS:\n",
    "        new_dict[i] = 0\n",
    "    return new_dict"
   ]
  },
  {
   "cell_type": "code",
   "execution_count": 5,
   "metadata": {},
   "outputs": [
    {
     "name": "stdout",
     "output_type": "stream",
     "text": [
      "Shape of the dataset: (3052, 16)\n"
     ]
    },
    {
     "data": {
      "text/html": [
       "<div>\n",
       "<style scoped>\n",
       "    .dataframe tbody tr th:only-of-type {\n",
       "        vertical-align: middle;\n",
       "    }\n",
       "\n",
       "    .dataframe tbody tr th {\n",
       "        vertical-align: top;\n",
       "    }\n",
       "\n",
       "    .dataframe thead th {\n",
       "        text-align: right;\n",
       "    }\n",
       "</style>\n",
       "<table border=\"1\" class=\"dataframe\">\n",
       "  <thead>\n",
       "    <tr style=\"text-align: right;\">\n",
       "      <th></th>\n",
       "      <th>id</th>\n",
       "      <th>class</th>\n",
       "      <th>s</th>\n",
       "      <th>sBase</th>\n",
       "      <th>sMineral</th>\n",
       "      <th>order</th>\n",
       "      <th>hotkey0</th>\n",
       "      <th>hotkey1</th>\n",
       "      <th>hotkey2</th>\n",
       "      <th>hotkey3</th>\n",
       "      <th>hotkey4</th>\n",
       "      <th>hotkey5</th>\n",
       "      <th>hotkey6</th>\n",
       "      <th>hotkey7</th>\n",
       "      <th>hotkey8</th>\n",
       "      <th>hotkey9</th>\n",
       "    </tr>\n",
       "  </thead>\n",
       "  <tbody>\n",
       "    <tr>\n",
       "      <th>1941</th>\n",
       "      <td>http://us.battle.net/sc2/en/profile/4417787/1/...</td>\n",
       "      <td>0</td>\n",
       "      <td>0.821918</td>\n",
       "      <td>0.038356</td>\n",
       "      <td>0.001370</td>\n",
       "      <td>1414141414141414141114141414141410141181411141...</td>\n",
       "      <td>0.084932</td>\n",
       "      <td>0.461644</td>\n",
       "      <td>0.108219</td>\n",
       "      <td>0.123288</td>\n",
       "      <td>0.536986</td>\n",
       "      <td>0.068493</td>\n",
       "      <td>0.013699</td>\n",
       "      <td>0.016438</td>\n",
       "      <td>0.017808</td>\n",
       "      <td>0.000000</td>\n",
       "    </tr>\n",
       "    <tr>\n",
       "      <th>271</th>\n",
       "      <td>http://eu.battle.net/sc2/en/profile/377576/1/L...</td>\n",
       "      <td>1</td>\n",
       "      <td>0.625217</td>\n",
       "      <td>0.024348</td>\n",
       "      <td>0.002609</td>\n",
       "      <td>2224422222222222222442612244222222224422222222...</td>\n",
       "      <td>0.000000</td>\n",
       "      <td>0.471304</td>\n",
       "      <td>0.666957</td>\n",
       "      <td>0.411304</td>\n",
       "      <td>0.140870</td>\n",
       "      <td>0.309565</td>\n",
       "      <td>0.058261</td>\n",
       "      <td>0.030435</td>\n",
       "      <td>0.000000</td>\n",
       "      <td>0.000000</td>\n",
       "    </tr>\n",
       "    <tr>\n",
       "      <th>2176</th>\n",
       "      <td>http://us.battle.net/sc2/en/profile/4174681/1/...</td>\n",
       "      <td>1</td>\n",
       "      <td>0.342400</td>\n",
       "      <td>0.012800</td>\n",
       "      <td>0.000000</td>\n",
       "      <td>2112111121121212121111212113153214212112142111...</td>\n",
       "      <td>0.001600</td>\n",
       "      <td>0.361600</td>\n",
       "      <td>0.051200</td>\n",
       "      <td>0.449600</td>\n",
       "      <td>0.348800</td>\n",
       "      <td>0.088000</td>\n",
       "      <td>0.001600</td>\n",
       "      <td>0.001600</td>\n",
       "      <td>0.001600</td>\n",
       "      <td>0.001600</td>\n",
       "    </tr>\n",
       "    <tr>\n",
       "      <th>2250</th>\n",
       "      <td>http://kr.battle.net/sc2/en/profile/2343531/1/...</td>\n",
       "      <td>2</td>\n",
       "      <td>0.525234</td>\n",
       "      <td>0.000000</td>\n",
       "      <td>0.001869</td>\n",
       "      <td>1114711654143111111114776465465465465465456546...</td>\n",
       "      <td>0.000935</td>\n",
       "      <td>0.180374</td>\n",
       "      <td>0.221495</td>\n",
       "      <td>0.121495</td>\n",
       "      <td>0.237383</td>\n",
       "      <td>0.114953</td>\n",
       "      <td>0.104673</td>\n",
       "      <td>0.055140</td>\n",
       "      <td>0.002804</td>\n",
       "      <td>0.009346</td>\n",
       "    </tr>\n",
       "    <tr>\n",
       "      <th>2527</th>\n",
       "      <td>http://kr.battle.net/sc2/en/profile/2343240/1/...</td>\n",
       "      <td>1</td>\n",
       "      <td>0.717241</td>\n",
       "      <td>0.136207</td>\n",
       "      <td>0.000000</td>\n",
       "      <td>6861616161616161818181262626216216262143143114...</td>\n",
       "      <td>0.001724</td>\n",
       "      <td>0.468966</td>\n",
       "      <td>0.296552</td>\n",
       "      <td>0.641379</td>\n",
       "      <td>0.384483</td>\n",
       "      <td>0.170690</td>\n",
       "      <td>0.079310</td>\n",
       "      <td>0.000000</td>\n",
       "      <td>0.020690</td>\n",
       "      <td>0.003448</td>\n",
       "    </tr>\n",
       "  </tbody>\n",
       "</table>\n",
       "</div>"
      ],
      "text/plain": [
       "                                                     id  class         s  \\\n",
       "1941  http://us.battle.net/sc2/en/profile/4417787/1/...      0  0.821918   \n",
       "271   http://eu.battle.net/sc2/en/profile/377576/1/L...      1  0.625217   \n",
       "2176  http://us.battle.net/sc2/en/profile/4174681/1/...      1  0.342400   \n",
       "2250  http://kr.battle.net/sc2/en/profile/2343531/1/...      2  0.525234   \n",
       "2527  http://kr.battle.net/sc2/en/profile/2343240/1/...      1  0.717241   \n",
       "\n",
       "         sBase  sMineral                                              order  \\\n",
       "1941  0.038356  0.001370  1414141414141414141114141414141410141181411141...   \n",
       "271   0.024348  0.002609  2224422222222222222442612244222222224422222222...   \n",
       "2176  0.012800  0.000000  2112111121121212121111212113153214212112142111...   \n",
       "2250  0.000000  0.001869  1114711654143111111114776465465465465465456546...   \n",
       "2527  0.136207  0.000000  6861616161616161818181262626216216262143143114...   \n",
       "\n",
       "       hotkey0   hotkey1   hotkey2   hotkey3   hotkey4   hotkey5   hotkey6  \\\n",
       "1941  0.084932  0.461644  0.108219  0.123288  0.536986  0.068493  0.013699   \n",
       "271   0.000000  0.471304  0.666957  0.411304  0.140870  0.309565  0.058261   \n",
       "2176  0.001600  0.361600  0.051200  0.449600  0.348800  0.088000  0.001600   \n",
       "2250  0.000935  0.180374  0.221495  0.121495  0.237383  0.114953  0.104673   \n",
       "2527  0.001724  0.468966  0.296552  0.641379  0.384483  0.170690  0.079310   \n",
       "\n",
       "       hotkey7   hotkey8   hotkey9  \n",
       "1941  0.016438  0.017808  0.000000  \n",
       "271   0.030435  0.000000  0.000000  \n",
       "2176  0.001600  0.001600  0.001600  \n",
       "2250  0.055140  0.002804  0.009346  \n",
       "2527  0.000000  0.020690  0.003448  "
      ]
     },
     "execution_count": 5,
     "metadata": {},
     "output_type": "execute_result"
    }
   ],
   "source": [
    "data, ids= get_train_data()\n",
    "df = pd.DataFrame(data, columns=data[0].keys()) \n",
    "print('Shape of the dataset: ' + str(df.shape))\n",
    "df.sample(n=5).fillna(0)"
   ]
  },
  {
   "cell_type": "code",
   "execution_count": 65,
   "metadata": {},
   "outputs": [
    {
     "name": "stdout",
     "output_type": "stream",
     "text": [
      "{'id': 'http://us.battle.net/sc2/en/profile/2735594/1/coLqxc/', 'class': 2, 's': 0.2, 'sBase': 0, 'sMineral': 0.1, 'order': '1', 'hotkey0': 0, 'hotkey1': 0.1, 'hotkey2': 0, 'hotkey3': 0, 'hotkey4': 0, 'hotkey5': 0, 'hotkey6': 0, 'hotkey7': 0, 'hotkey8': 0, 'hotkey9': 0}\n"
     ]
    }
   ],
   "source": [
    "print(data[561])"
   ]
  },
  {
   "cell_type": "markdown",
   "metadata": {},
   "source": [
    "# EDA ( Exploratory Data Analysis) "
   ]
  },
  {
   "cell_type": "markdown",
   "metadata": {},
   "source": [
    "## Nombre de parties par joueur"
   ]
  },
  {
   "cell_type": "code",
   "execution_count": 7,
   "metadata": {
    "scrolled": true
   },
   "outputs": [
    {
     "data": {
      "text/html": [
       "<div>\n",
       "<style scoped>\n",
       "    .dataframe tbody tr th:only-of-type {\n",
       "        vertical-align: middle;\n",
       "    }\n",
       "\n",
       "    .dataframe tbody tr th {\n",
       "        vertical-align: top;\n",
       "    }\n",
       "\n",
       "    .dataframe thead th {\n",
       "        text-align: right;\n",
       "    }\n",
       "</style>\n",
       "<table border=\"1\" class=\"dataframe\">\n",
       "  <thead>\n",
       "    <tr style=\"text-align: right;\">\n",
       "      <th></th>\n",
       "      <th>id</th>\n",
       "      <th>count</th>\n",
       "    </tr>\n",
       "  </thead>\n",
       "  <tbody>\n",
       "    <tr>\n",
       "      <th>131</th>\n",
       "      <td>http://kr.battle.net/sc2/en/profile/2348639/1/...</td>\n",
       "      <td>58</td>\n",
       "    </tr>\n",
       "    <tr>\n",
       "      <th>86</th>\n",
       "      <td>http://kr.battle.net/sc2/en/profile/2342419/1/...</td>\n",
       "      <td>51</td>\n",
       "    </tr>\n",
       "    <tr>\n",
       "      <th>73</th>\n",
       "      <td>http://kr.battle.net/sc2/en/profile/2341467/1/...</td>\n",
       "      <td>50</td>\n",
       "    </tr>\n",
       "    <tr>\n",
       "      <th>49</th>\n",
       "      <td>http://eu.battle.net/sc2/en/profile/3973341/1/...</td>\n",
       "      <td>44</td>\n",
       "    </tr>\n",
       "    <tr>\n",
       "      <th>66</th>\n",
       "      <td>http://kr.battle.net/sc2/en/profile/2332264/1/...</td>\n",
       "      <td>42</td>\n",
       "    </tr>\n",
       "    <tr>\n",
       "      <th>...</th>\n",
       "      <td>...</td>\n",
       "      <td>...</td>\n",
       "    </tr>\n",
       "    <tr>\n",
       "      <th>139</th>\n",
       "      <td>http://us.battle.net/sc2/en/profile/2192180/1/...</td>\n",
       "      <td>4</td>\n",
       "    </tr>\n",
       "    <tr>\n",
       "      <th>36</th>\n",
       "      <td>http://eu.battle.net/sc2/en/profile/3434150/1/...</td>\n",
       "      <td>4</td>\n",
       "    </tr>\n",
       "    <tr>\n",
       "      <th>84</th>\n",
       "      <td>http://kr.battle.net/sc2/en/profile/2342299/1/...</td>\n",
       "      <td>4</td>\n",
       "    </tr>\n",
       "    <tr>\n",
       "      <th>172</th>\n",
       "      <td>http://us.battle.net/sc2/en/profile/4580957/1/...</td>\n",
       "      <td>4</td>\n",
       "    </tr>\n",
       "    <tr>\n",
       "      <th>125</th>\n",
       "      <td>http://kr.battle.net/sc2/en/profile/2344728/1/...</td>\n",
       "      <td>4</td>\n",
       "    </tr>\n",
       "  </tbody>\n",
       "</table>\n",
       "<p>200 rows × 2 columns</p>\n",
       "</div>"
      ],
      "text/plain": [
       "                                                    id  count\n",
       "131  http://kr.battle.net/sc2/en/profile/2348639/1/...     58\n",
       "86   http://kr.battle.net/sc2/en/profile/2342419/1/...     51\n",
       "73   http://kr.battle.net/sc2/en/profile/2341467/1/...     50\n",
       "49   http://eu.battle.net/sc2/en/profile/3973341/1/...     44\n",
       "66   http://kr.battle.net/sc2/en/profile/2332264/1/...     42\n",
       "..                                                 ...    ...\n",
       "139  http://us.battle.net/sc2/en/profile/2192180/1/...      4\n",
       "36   http://eu.battle.net/sc2/en/profile/3434150/1/...      4\n",
       "84   http://kr.battle.net/sc2/en/profile/2342299/1/...      4\n",
       "172  http://us.battle.net/sc2/en/profile/4580957/1/...      4\n",
       "125  http://kr.battle.net/sc2/en/profile/2344728/1/...      4\n",
       "\n",
       "[200 rows x 2 columns]"
      ]
     },
     "execution_count": 7,
     "metadata": {},
     "output_type": "execute_result"
    }
   ],
   "source": [
    "df.groupby('id').id.count().reset_index(name='count').sort_values('count',ascending=False)"
   ]
  },
  {
   "cell_type": "markdown",
   "metadata": {},
   "source": [
    "Mauvaise répartion des parties pour chaque joueur. Certains ont joués que 4 parties alors que d'autres 50. Comment résoudre cela ? ==> SMOTE ? ADASYN ? permet de over-sampling !!!"
   ]
  },
  {
   "cell_type": "code",
   "execution_count": 8,
   "metadata": {},
   "outputs": [
    {
     "data": {
      "text/html": [
       "<div>\n",
       "<style scoped>\n",
       "    .dataframe tbody tr th:only-of-type {\n",
       "        vertical-align: middle;\n",
       "    }\n",
       "\n",
       "    .dataframe tbody tr th {\n",
       "        vertical-align: top;\n",
       "    }\n",
       "\n",
       "    .dataframe thead th {\n",
       "        text-align: right;\n",
       "    }\n",
       "</style>\n",
       "<table border=\"1\" class=\"dataframe\">\n",
       "  <thead>\n",
       "    <tr style=\"text-align: right;\">\n",
       "      <th></th>\n",
       "      <th>count</th>\n",
       "    </tr>\n",
       "  </thead>\n",
       "  <tbody>\n",
       "    <tr>\n",
       "      <th>count</th>\n",
       "      <td>200.00000</td>\n",
       "    </tr>\n",
       "    <tr>\n",
       "      <th>mean</th>\n",
       "      <td>15.26000</td>\n",
       "    </tr>\n",
       "    <tr>\n",
       "      <th>std</th>\n",
       "      <td>10.41464</td>\n",
       "    </tr>\n",
       "    <tr>\n",
       "      <th>min</th>\n",
       "      <td>4.00000</td>\n",
       "    </tr>\n",
       "    <tr>\n",
       "      <th>25%</th>\n",
       "      <td>7.00000</td>\n",
       "    </tr>\n",
       "    <tr>\n",
       "      <th>50%</th>\n",
       "      <td>12.00000</td>\n",
       "    </tr>\n",
       "    <tr>\n",
       "      <th>75%</th>\n",
       "      <td>20.00000</td>\n",
       "    </tr>\n",
       "    <tr>\n",
       "      <th>max</th>\n",
       "      <td>58.00000</td>\n",
       "    </tr>\n",
       "  </tbody>\n",
       "</table>\n",
       "</div>"
      ],
      "text/plain": [
       "           count\n",
       "count  200.00000\n",
       "mean    15.26000\n",
       "std     10.41464\n",
       "min      4.00000\n",
       "25%      7.00000\n",
       "50%     12.00000\n",
       "75%     20.00000\n",
       "max     58.00000"
      ]
     },
     "execution_count": 8,
     "metadata": {},
     "output_type": "execute_result"
    }
   ],
   "source": [
    "df.groupby('id').id.count().reset_index(name='count').sort_values('count',ascending=False).describe()\n"
   ]
  },
  {
   "cell_type": "markdown",
   "metadata": {},
   "source": [
    "## Nombre de joueur"
   ]
  },
  {
   "cell_type": "code",
   "execution_count": 9,
   "metadata": {},
   "outputs": [
    {
     "name": "stdout",
     "output_type": "stream",
     "text": [
      "200\n"
     ]
    }
   ],
   "source": [
    "\n",
    "nb_joueur = list(dict.fromkeys(ids))\n",
    "print(len(nb_joueur))"
   ]
  },
  {
   "cell_type": "code",
   "execution_count": 10,
   "metadata": {},
   "outputs": [
    {
     "name": "stdout",
     "output_type": "stream",
     "text": [
      "['http://eu.battle.net/sc2/en/profile/4234852/1/First/', 'http://eu.battle.net/sc2/en/profile/3074362/1/Stardust/', 'http://eu.battle.net/sc2/en/profile/3401218/1/Welmu/', 'http://eu.battle.net/sc2/en/profile/2896854/1/MÇ‚ForGG/', 'http://eu.battle.net/sc2/en/profile/3538115/1/Golden/', 'http://eu.battle.net/sc2/en/profile/250458/1/VortiX/', 'http://eu.battle.net/sc2/en/profile/3973341/1/yoeFWSan/', 'http://eu.battle.net/sc2/en/profile/2452136/1/MinChul/', 'http://eu.battle.net/sc2/en/profile/2222468/1/dTefel/', 'http://eu.battle.net/sc2/en/profile/4341883/1/Patience/', 'http://eu.battle.net/sc2/en/profile/950504/1/Grubby/', 'http://eu.battle.net/sc2/en/profile/2898004/1/MMA/', 'http://eu.battle.net/sc2/en/profile/251061/1/LiveZerg/', 'http://eu.battle.net/sc2/en/profile/1021189/1/Dayshi/', 'http://eu.battle.net/sc2/en/profile/326029/1/LiquidTLO/', 'http://eu.battle.net/sc2/en/profile/1058669/1/Happy/', 'http://eu.battle.net/sc2/en/profile/1139573/1/BabyKnight/', 'http://eu.battle.net/sc2/en/profile/2115876/1/FireCake/', 'http://eu.battle.net/sc2/en/profile/3368730/1/ToD/', 'http://eu.battle.net/sc2/en/profile/1143713/1/uThermal/', 'http://eu.battle.net/sc2/en/profile/3090974/1/IMMvp/', 'http://eu.battle.net/sc2/en/profile/4064798/1/yoda/', 'http://eu.battle.net/sc2/en/profile/2383348/1/LiquidBunny/', 'http://eu.battle.net/sc2/en/profile/4149248/1/JJAKJI/', 'http://eu.battle.net/sc2/en/profile/3010872/1/FnticHarstem/', 'http://eu.battle.net/sc2/en/profile/884897/1/LiquidSnute/', 'http://eu.battle.net/sc2/en/profile/2526293/1/Krr/', 'http://eu.battle.net/sc2/en/profile/315813/1/dBlinG/', 'http://eu.battle.net/sc2/en/profile/377576/1/LiquidMaNa/', 'http://eu.battle.net/sc2/en/profile/2101268/1/Stephano/', 'http://eu.battle.net/sc2/en/profile/284466/1/EGDeMusliM/', 'http://eu.battle.net/sc2/en/profile/788178/1/Nerchio/', 'http://eu.battle.net/sc2/en/profile/219517/1/TargA/', 'http://eu.battle.net/sc2/en/profile/1430346/1/ShoWTimE/', 'http://eu.battle.net/sc2/en/profile/239335/1/NightEnD/', 'http://eu.battle.net/sc2/en/profile/377903/1/Starbuck/', 'http://eu.battle.net/sc2/en/profile/2639840/1/Miniraser/', 'http://eu.battle.net/sc2/en/profile/2910724/1/Lilbow/', 'http://eu.battle.net/sc2/en/profile/498165/1/EmpireKas/', 'http://eu.battle.net/sc2/en/profile/1173786/1/VPbenQsLivko/', 'http://eu.battle.net/sc2/en/profile/349650/1/HasuObs/', 'http://eu.battle.net/sc2/en/profile/2048063/1/AcerBly/', 'http://eu.battle.net/sc2/en/profile/2385865/1/elfi/', 'http://eu.battle.net/sc2/en/profile/3437681/1/Lambo/', 'http://eu.battle.net/sc2/en/profile/3971497/1/Genius/', 'http://us.battle.net/sc2/en/profile/4665241/1/Pigbaby/', 'http://us.battle.net/sc2/en/profile/3502513/1/LiquidTaeJa/', 'http://us.battle.net/sc2/en/profile/4417787/1/HyuN/', 'http://us.battle.net/sc2/en/profile/3179642/1/CMStormPolt/', 'http://us.battle.net/sc2/en/profile/4174681/1/AxAlicia/', 'http://us.battle.net/sc2/en/profile/3985949/1/Bomber/', 'http://us.battle.net/sc2/en/profile/3202227/1/viOLet/', 'http://us.battle.net/sc2/en/profile/4167590/1/AxHeart/', 'http://kr.battle.net/sc2/en/profile/1178662/2/llllllllllll/', 'http://us.battle.net/sc2/en/profile/3085708/1/SadArthur/', 'http://us.battle.net/sc2/en/profile/902213/1/Suppy/', 'http://us.battle.net/sc2/en/profile/5393959/1/Sen/', 'http://us.battle.net/sc2/en/profile/4580578/1/ZooCourage/', 'http://us.battle.net/sc2/en/profile/3949344/1/WinDy/', 'http://us.battle.net/sc2/en/profile/3817071/1/iGMacSed/', 'http://us.battle.net/sc2/en/profile/558433/1/Illusion/', 'http://us.battle.net/sc2/en/profile/4589387/1/ToodmingCN/', 'http://us.battle.net/sc2/en/profile/3948354/1/hendralisk/', 'http://kr.battle.net/sc2/en/profile/3488858/1/EGJD/', 'http://kr.battle.net/sc2/en/profile/1126978/2/iGJim/', 'http://us.battle.net/sc2/en/profile/4580957/1/iGJim/', 'http://kr.battle.net/sc2/en/profile/2240191/1/Heart/', 'http://kr.battle.net/sc2/en/profile/4529934/1/SpiderCheck/', 'http://kr.battle.net/sc2/en/profile/1106851/2/IlIlIlllIIll/', 'http://us.battle.net/sc2/en/profile/5376901/1/SpiderCheck/', 'http://us.battle.net/sc2/en/profile/2537456/1/Neeb/', 'http://us.battle.net/sc2/en/profile/2735594/1/coLqxc/', 'http://us.battle.net/sc2/en/profile/3426440/1/llllllllllll/', 'http://us.battle.net/sc2/en/profile/2553612/1/puCK/', 'http://us.battle.net/sc2/en/profile/3650249/1/CranK/', 'http://us.battle.net/sc2/en/profile/2133676/1/aloOla/', 'http://us.battle.net/sc2/en/profile/2541852/1/MaSa/', 'http://us.battle.net/sc2/en/profile/5142993/1/Bomber/', 'http://us.battle.net/sc2/en/profile/2575821/1/HuK/', 'http://us.battle.net/sc2/en/profile/3301677/1/CMRevival/', 'http://us.battle.net/sc2/en/profile/1317068/1/LiquidHerO/', 'http://us.battle.net/sc2/en/profile/3819890/1/shofu/', 'http://us.battle.net/sc2/en/profile/4629528/1/IMNesTea/', 'http://us.battle.net/sc2/en/profile/4819996/1/iGXiGua/', 'http://us.battle.net/sc2/en/profile/3426440/1/PkDOz/', 'http://kr.battle.net/sc2/en/profile/4324250/1/Kane/', 'http://us.battle.net/sc2/en/profile/1640778/1/Guitarcheese/', 'http://us.battle.net/sc2/en/profile/4176016/1/iaguz/', 'http://us.battle.net/sc2/en/profile/2331025/1/Scarlett/', 'http://us.battle.net/sc2/en/profile/4609532/1/aLive/', 'http://us.battle.net/sc2/en/profile/2821952/1/KingkOng/', 'http://us.battle.net/sc2/en/profile/5068246/1/yoeFWSlam/', 'http://us.battle.net/sc2/en/profile/443514/1/desRow/', 'http://kr.battle.net/sc2/en/profile/2342419/1/soO/', 'http://kr.battle.net/sc2/en/profile/2342343/1/Solar/', 'http://kr.battle.net/sc2/en/profile/2343479/1/True/', 'http://kr.battle.net/sc2/en/profile/2332264/1/Zest/', 'http://kr.battle.net/sc2/en/profile/2343012/1/Maru/', 'http://kr.battle.net/sc2/en/profile/2342120/1/Soulkey/', 'http://kr.battle.net/sc2/en/profile/2348639/1/ParalyzE/', 'http://kr.battle.net/sc2/en/profile/2341467/1/Classic/', 'http://kr.battle.net/sc2/en/profile/2344333/1/Leenock/', 'http://kr.battle.net/sc2/en/profile/2334376/1/INnoVation/', 'http://kr.battle.net/sc2/en/profile/2343484/1/herO/', 'http://kr.battle.net/sc2/en/profile/2343733/1/sOs/', 'http://kr.battle.net/sc2/en/profile/2342794/1/Shine/', 'http://kr.battle.net/sc2/en/profile/2344230/1/YongHwa/', 'http://kr.battle.net/sc2/en/profile/2343882/1/SuperNova/', 'http://kr.battle.net/sc2/en/profile/2342766/1/ByuL/', 'http://kr.battle.net/sc2/en/profile/2341492/1/PartinG/', 'http://kr.battle.net/sc2/en/profile/2333068/1/DRG/', 'http://kr.battle.net/sc2/en/profile/2344428/1/MyuNgSiK/', 'http://kr.battle.net/sc2/en/profile/2342147/1/hydra/', 'http://kr.battle.net/sc2/en/profile/2344987/1/Life/', 'http://kr.battle.net/sc2/en/profile/2342269/1/Savage/', 'http://kr.battle.net/sc2/en/profile/2343067/1/Stork/', 'http://kr.battle.net/sc2/en/profile/2343263/1/Ruin/', 'http://kr.battle.net/sc2/en/profile/2344207/1/Symbol/', 'http://kr.battle.net/sc2/en/profile/2343607/1/Rain/', 'http://kr.battle.net/sc2/en/profile/2343240/1/Trap/', 'http://kr.battle.net/sc2/en/profile/2344407/1/Ragnarok/', 'http://kr.battle.net/sc2/en/profile/2344476/1/Dark/', 'http://kr.battle.net/sc2/en/profile/2341700/1/Bbyong/', 'http://kr.battle.net/sc2/en/profile/2333312/1/TAiLS/', 'http://kr.battle.net/sc2/en/profile/2342785/1/FanTaSy/', 'http://kr.battle.net/sc2/en/profile/2341765/1/Billowy/', 'http://kr.battle.net/sc2/en/profile/2340350/1/hitmaN/', 'http://kr.battle.net/sc2/en/profile/2343531/1/Action/', 'http://kr.battle.net/sc2/en/profile/2342923/1/Squirtle/', 'http://kr.battle.net/sc2/en/profile/2343979/1/Pet/', 'http://kr.battle.net/sc2/en/profile/2342491/1/TYTY/', 'http://kr.battle.net/sc2/en/profile/2344602/1/Choya/', 'http://kr.battle.net/sc2/en/profile/2344728/1/Shine/', 'http://kr.battle.net/sc2/en/profile/2343852/1/flash/', 'http://kr.battle.net/sc2/en/profile/2342671/1/Panic/', 'http://kr.battle.net/sc2/en/profile/2344285/1/Stats/', 'http://kr.battle.net/sc2/en/profile/2344079/1/Curious/', 'http://kr.battle.net/sc2/en/profile/2344252/1/Reality/', 'http://kr.battle.net/sc2/en/profile/2343910/1/Journey/', 'http://kr.battle.net/sc2/en/profile/2341575/1/Dear/', 'http://kr.battle.net/sc2/en/profile/2342983/1/Super/', 'http://kr.battle.net/sc2/en/profile/2344031/1/Cure/', 'http://kr.battle.net/sc2/en/profile/2342294/1/Impact/', 'http://kr.battle.net/sc2/en/profile/2341466/1/sora/', 'http://kr.battle.net/sc2/en/profile/2345126/1/RorO/', 'http://eu.battle.net/sc2/en/profile/1058669/1/EmpireHappy/', 'http://eu.battle.net/sc2/en/profile/251061/1/roxkisLZ/', 'http://eu.battle.net/sc2/en/profile/3880481/1/AllianceNani/', 'http://eu.battle.net/sc2/en/profile/2383348/1/Bunny/', 'http://eu.battle.net/sc2/en/profile/2978202/1/LiquidTaeJa/', 'http://eu.battle.net/sc2/en/profile/3746323/1/HyuN/', 'http://eu.battle.net/sc2/en/profile/3611718/1/CMStormPolt/', 'http://eu.battle.net/sc2/en/profile/3311551/1/CMRevival/', 'http://eu.battle.net/sc2/en/profile/3886231/1/OzOz/', 'http://eu.battle.net/sc2/en/profile/3533538/1/Arthur/', 'http://eu.battle.net/sc2/en/profile/4863808/1/Bomber/', 'http://eu.battle.net/sc2/en/profile/4085747/1/Alicia/', 'http://us.battle.net/sc2/en/profile/789884/1/SeleCT/', 'http://us.battle.net/sc2/en/profile/288081/1/Minigun/', 'http://us.battle.net/sc2/en/profile/4585632/1/ZooTop/', 'http://us.battle.net/sc2/en/profile/2575821/1/HuKRC/', 'http://us.battle.net/sc2/en/profile/5495016/1/Has/', 'http://us.battle.net/sc2/en/profile/4669755/1/ByuL/', 'http://us.battle.net/sc2/en/profile/3301677/1/Revival/', 'http://us.battle.net/sc2/en/profile/4408675/1/TheStC/', 'http://us.battle.net/sc2/en/profile/5087767/1/OzOz/', 'http://eu.battle.net/sc2/en/profile/2685580/1/CranK/', 'http://eu.battle.net/sc2/en/profile/4860568/1/iGXiGua/', 'http://eu.battle.net/sc2/en/profile/4854541/1/ZooToodming/', 'http://eu.battle.net/sc2/en/profile/3434150/1/llllllllllll/', 'http://eu.battle.net/sc2/en/profile/3585588/1/llllllllll/', 'http://us.battle.net/sc2/en/profile/4352638/1/Tassadar/', 'http://us.battle.net/sc2/en/profile/2192180/1/PiG/', 'http://us.battle.net/sc2/en/profile/2060165/1/Astrea/', 'http://us.battle.net/sc2/en/profile/2768741/1/CatZ/', 'http://kr.battle.net/sc2/en/profile/2343531/1/DREAM/', 'http://kr.battle.net/sc2/en/profile/2334176/1/GuMiho/', 'http://kr.battle.net/sc2/en/profile/2344780/1/Sleep/', 'http://kr.battle.net/sc2/en/profile/2341920/1/CoCa/', 'http://kr.battle.net/sc2/en/profile/2341545/1/Hack/', 'http://kr.battle.net/sc2/en/profile/2343559/1/Trust/', 'http://kr.battle.net/sc2/en/profile/2344081/1/BravO/', 'http://kr.battle.net/sc2/en/profile/2344728/1/Ryung/', 'http://kr.battle.net/sc2/en/profile/2344151/1/Seed/', 'http://kr.battle.net/sc2/en/profile/2342789/1/sKyHigh/', 'http://kr.battle.net/sc2/en/profile/2345102/1/Hurricane/', 'http://kr.battle.net/sc2/en/profile/2342299/1/KeeN/', 'http://kr.battle.net/sc2/en/profile/2343910/1/effort/', 'http://kr.battle.net/sc2/en/profile/2343183/1/Shine/', 'http://xx.battle.net/sc2/en/profile/415/1/EGJD/', 'http://xx.battle.net/sc2/en/profile/404/1/sOs/', 'http://xx.battle.net/sc2/en/profile/402/1/Dear/', 'http://xx.battle.net/sc2/en/profile/408/1/Polt/', 'http://xx.battle.net/sc2/en/profile/414/1/ducKDeoK/', 'http://xx.battle.net/sc2/en/profile/413/1/Maru/', 'http://xx.battle.net/sc2/en/profile/406/1/INnoVation/', 'http://xx.battle.net/sc2/en/profile/410/1/STBomber/', 'http://xx.battle.net/sc2/en/profile/407/1/NaNiwa/', 'http://xx.battle.net/sc2/en/profile/401/1/Soulkey/', 'http://xx.battle.net/sc2/en/profile/405/1/MMA/']\n"
     ]
    }
   ],
   "source": [
    "nb_joueur = list(dict.fromkeys(ids))\n",
    "print(nb_joueur)"
   ]
  },
  {
   "cell_type": "markdown",
   "metadata": {},
   "source": [
    "## Repartition des races"
   ]
  },
  {
   "cell_type": "markdown",
   "metadata": {},
   "source": [
    "On essaye de comprendre l'influence de la race sur le joueur : il y a t-il des joueurs qui change de champion ?"
   ]
  },
  {
   "cell_type": "code",
   "execution_count": 11,
   "metadata": {},
   "outputs": [
    {
     "name": "stdout",
     "output_type": "stream",
     "text": [
      "Protoss    1210\n",
      "Zerg       1061\n",
      "Terran      781\n",
      "Name: class, dtype: int64\n"
     ]
    },
    {
     "data": {
      "text/plain": [
       "<matplotlib.axes._subplots.AxesSubplot at 0x19f43620288>"
      ]
     },
     "execution_count": 11,
     "metadata": {},
     "output_type": "execute_result"
    },
    {
     "data": {
      "image/png": "[encoded data removed]",
      "text/plain": [
       "<Figure size 432x288 with 1 Axes>"
      ]
     },
     "metadata": {
      "needs_background": "light"
     },
     "output_type": "display_data"
    }
   ],
   "source": [
    "races = df['class'].value_counts()\n",
    "print(races)\n",
    "races.plot.bar()"
   ]
  },
  {
   "cell_type": "code",
   "execution_count": 37,
   "metadata": {},
   "outputs": [
    {
     "data": {
      "text/plain": [
       "class  id                                                         \n",
       "0      http://eu.battle.net/sc2/en/profile/1173786/1/VPbenQsLivko/    12\n",
       "       http://eu.battle.net/sc2/en/profile/2048063/1/AcerBly/         13\n",
       "       http://eu.battle.net/sc2/en/profile/2101268/1/Stephano/        12\n",
       "       http://eu.battle.net/sc2/en/profile/2115876/1/FireCake/        16\n",
       "       http://eu.battle.net/sc2/en/profile/219517/1/TargA/             7\n",
       "                                                                      ..\n",
       "2      http://xx.battle.net/sc2/en/profile/405/1/MMA/                  4\n",
       "       http://xx.battle.net/sc2/en/profile/406/1/INnoVation/           4\n",
       "       http://xx.battle.net/sc2/en/profile/408/1/Polt/                 6\n",
       "       http://xx.battle.net/sc2/en/profile/410/1/STBomber/            15\n",
       "       http://xx.battle.net/sc2/en/profile/413/1/Maru/                15\n",
       "Name: id, Length: 200, dtype: int64"
      ]
     },
     "execution_count": 37,
     "metadata": {},
     "output_type": "execute_result"
    }
   ],
   "source": [
    "df.groupby(['class','id'])['id'].count()"
   ]
  },
  {
   "cell_type": "code",
   "execution_count": 13,
   "metadata": {},
   "outputs": [
    {
     "data": {
      "image/png": "[encoded data removed]",
      "text/plain": [
       "<Figure size 1080x288 with 200 Axes>"
      ]
     },
     "metadata": {
      "needs_background": "light"
     },
     "output_type": "display_data"
    }
   ],
   "source": [
    "\n",
    "\n",
    "f,ax=plt.subplots(200,1,figsize=(15,4))\n",
    "dfi = df.set_index(\"id\")\n",
    "\n",
    "\n",
    "for i in range (0,200) :\n",
    "    races_joueur = dfi.loc[nb_joueur[i]]['class'].value_counts()\n",
    "    races_joueur.plot.bar(ax=ax[i])\n",
    "    \n",
    "    \n",
    "plt.show()  "
   ]
  },
  {
   "cell_type": "code",
   "execution_count": 14,
   "metadata": {},
   "outputs": [
    {
     "data": {
      "text/plain": [
       "<matplotlib.axes._subplots.AxesSubplot at 0x19f4b535688>"
      ]
     },
     "execution_count": 14,
     "metadata": {},
     "output_type": "execute_result"
    },
    {
     "data": {
      "image/png": "[encoded data removed]",
      "text/plain": [
       "<Figure size 432x288 with 1 Axes>"
      ]
     },
     "metadata": {
      "needs_background": "light"
     },
     "output_type": "display_data"
    }
   ],
   "source": [
    "races_joueur = dfi.loc[ids[100]]['class'].value_counts()\n",
    "races_joueur.plot.bar()"
   ]
  },
  {
   "cell_type": "markdown",
   "metadata": {},
   "source": [
    "### Remarque : Chaque joueur ne joue qu'un seul type de personnage ( ligne droite pas de déviation). Donc cette feature est très importante pour nous. !!!!!"
   ]
  },
  {
   "cell_type": "code",
   "execution_count": 15,
   "metadata": {},
   "outputs": [
    {
     "data": {
      "text/plain": [
       "<matplotlib.axes._subplots.AxesSubplot at 0x19f4b793948>"
      ]
     },
     "execution_count": 15,
     "metadata": {},
     "output_type": "execute_result"
    },
    {
     "data": {
      "image/png": "[encoded data removed]",
      "text/plain": [
       "<Figure size 432x288 with 1 Axes>"
      ]
     },
     "metadata": {
      "needs_background": "light"
     },
     "output_type": "display_data"
    }
   ],
   "source": [
    "df.var().plot.bar()"
   ]
  },
  {
   "cell_type": "markdown",
   "metadata": {},
   "source": [
    "on pourrait supprimer les hotckey 8,9 , 0 ,7 car ils sont très peu fréquents ( biais pour la classification)"
   ]
  },
  {
   "cell_type": "code",
   "execution_count": 16,
   "metadata": {},
   "outputs": [
    {
     "data": {
      "text/plain": [
       "array([[<matplotlib.axes._subplots.AxesSubplot object at 0x0000019F4B7B3D48>,\n",
       "        <matplotlib.axes._subplots.AxesSubplot object at 0x0000019F4B42F0C8>,\n",
       "        <matplotlib.axes._subplots.AxesSubplot object at 0x0000019F4B35B2C8>],\n",
       "       [<matplotlib.axes._subplots.AxesSubplot object at 0x0000019F4B347FC8>,\n",
       "        <matplotlib.axes._subplots.AxesSubplot object at 0x0000019F4B378108>,\n",
       "        <matplotlib.axes._subplots.AxesSubplot object at 0x0000019F4B394208>],\n",
       "       [<matplotlib.axes._subplots.AxesSubplot object at 0x0000019F4B3B7308>,\n",
       "        <matplotlib.axes._subplots.AxesSubplot object at 0x0000019F4B3DB448>,\n",
       "        <matplotlib.axes._subplots.AxesSubplot object at 0x0000019F4B3E58C8>],\n",
       "       [<matplotlib.axes._subplots.AxesSubplot object at 0x0000019F4B45EA88>,\n",
       "        <matplotlib.axes._subplots.AxesSubplot object at 0x0000019F4B9037C8>,\n",
       "        <matplotlib.axes._subplots.AxesSubplot object at 0x0000019F4B93C848>]],\n",
       "      dtype=object)"
      ]
     },
     "execution_count": 16,
     "metadata": {},
     "output_type": "execute_result"
    },
    {
     "data": {
      "image/png": "[encoded data removed]",
      "text/plain": [
       "<Figure size 1152x1440 with 12 Axes>"
      ]
     },
     "metadata": {
      "needs_background": "light"
     },
     "output_type": "display_data"
    }
   ],
   "source": [
    "df.hist(figsize = (16,20), stacked= False)"
   ]
  },
  {
   "cell_type": "code",
   "execution_count": 17,
   "metadata": {},
   "outputs": [
    {
     "data": {
      "image/png": "[encoded data removed]",
      "text/plain": [
       "<Figure size 720x576 with 2 Axes>"
      ]
     },
     "metadata": {
      "needs_background": "light"
     },
     "output_type": "display_data"
    }
   ],
   "source": [
    "sns.heatmap(df.corr(),annot=True,cmap='RdYlGn',linewidths=0.2) #data.corr()-->correlation matrix\n",
    "fig=plt.gcf()\n",
    "fig.set_size_inches(10,8)\n",
    "plt.show()"
   ]
  },
  {
   "cell_type": "markdown",
   "metadata": {},
   "source": [
    "Les corrélations ne sont pas suffisante pour pouvoir appliquer une supprésion de features. les features sont tous bien corrolé . Voir avec race ??"
   ]
  },
  {
   "cell_type": "markdown",
   "metadata": {},
   "source": [
    "## Ordre des touches appuyée"
   ]
  },
  {
   "cell_type": "markdown",
   "metadata": {},
   "source": [
    "Il se pourrait que les touches (au moins les prémières) appuyé soit caractéristiques pour chaque jouer"
   ]
  },
  {
   "cell_type": "code",
   "execution_count": 8,
   "metadata": {},
   "outputs": [],
   "source": [
    "temp_table = {'range': [], 'nmLines': []}"
   ]
  },
  {
   "cell_type": "code",
   "execution_count": 19,
   "metadata": {},
   "outputs": [],
   "source": [
    "idxInit = 0\n",
    "idxEnd = 3"
   ]
  },
  {
   "cell_type": "code",
   "execution_count": 20,
   "metadata": {},
   "outputs": [
    {
     "data": {
      "text/plain": [
       "id                                                     orderPart\n",
       "http://eu.battle.net/sc2/en/profile/1021189/1/Dayshi/  111          2\n",
       "                                                       112          1\n",
       "                                                       121          3\n",
       "                                                       122          5\n",
       "                                                       124          1\n",
       "                                                                   ..\n",
       "http://xx.battle.net/sc2/en/profile/415/1/EGJD/        441          1\n",
       "                                                       444          1\n",
       "                                                       455          1\n",
       "                                                       465          1\n",
       "                                                       515          1\n",
       "Name: orderPart, Length: 1927, dtype: int64"
      ]
     },
     "execution_count": 20,
     "metadata": {},
     "output_type": "execute_result"
    }
   ],
   "source": [
    "df_temp = df.copy(deep=True)\n",
    "for i, value in enumerate(df_temp['order']):\n",
    "    df_temp.loc[i, ('orderPart')] = '{:<20}'.format(value)[idxInit:idxEnd]\n",
    "\n",
    "temp_table['range'].append(str(idxInit) + ':' + str(idxEnd))\n",
    "temp_table['nmLines'].append(\n",
    "    len(df_temp.groupby(['id', 'orderPart'])['orderPart'].count()))\n",
    "df_temp.groupby(['id', 'orderPart'])['orderPart'].count()"
   ]
  },
  {
   "cell_type": "markdown",
   "metadata": {},
   "source": [
    "J'ai testé avec les index, et le nombre des résultats (lignes) est: "
   ]
  },
  {
   "cell_type": "code",
   "execution_count": 144,
   "metadata": {},
   "outputs": [
    {
     "name": "stdout",
     "output_type": "stream",
     "text": [
      "Range\tnmLines\n",
      "0:5\t2417\n",
      "5:10\t2444\n",
      "0:10\t2806\n",
      "0:1\t777\n",
      "0:2\t1480\n",
      "1:2\t809\n",
      "2:3\t792\n",
      "2:4\t1512\n",
      "3:4\t813\n"
     ]
    }
   ],
   "source": [
    "print('Range\\tnmLines')\n",
    "temp_table\n",
    "for i, val in enumerate(temp_table['range']):\n",
    "    print('{}\\t{}'.format(val, temp_table['nmLines'][i]))"
   ]
  },
  {
   "cell_type": "markdown",
   "metadata": {},
   "source": [
    "Les index qui ont donnés le moindre de ligne sont: [0:1](777), [2:3](792), [1:2](809)\n",
    "Donc s'il y a une différence, elle doit se trouver dans la/les prémière/s touche/s appuyé/es"
   ]
  },
  {
   "cell_type": "code",
   "execution_count": 21,
   "metadata": {},
   "outputs": [
    {
     "data": {
      "text/html": [
       "<div>\n",
       "<style scoped>\n",
       "    .dataframe tbody tr th:only-of-type {\n",
       "        vertical-align: middle;\n",
       "    }\n",
       "\n",
       "    .dataframe tbody tr th {\n",
       "        vertical-align: top;\n",
       "    }\n",
       "\n",
       "    .dataframe thead th {\n",
       "        text-align: right;\n",
       "    }\n",
       "</style>\n",
       "<table border=\"1\" class=\"dataframe\">\n",
       "  <thead>\n",
       "    <tr style=\"text-align: right;\">\n",
       "      <th></th>\n",
       "      <th>id</th>\n",
       "      <th>orderPart</th>\n",
       "      <th>count</th>\n",
       "    </tr>\n",
       "  </thead>\n",
       "  <tbody>\n",
       "    <tr>\n",
       "      <th>1186</th>\n",
       "      <td>http://kr.battle.net/sc2/en/profile/2344031/1/...</td>\n",
       "      <td>444</td>\n",
       "      <td>18</td>\n",
       "    </tr>\n",
       "    <tr>\n",
       "      <th>563</th>\n",
       "      <td>http://eu.battle.net/sc2/en/profile/788178/1/N...</td>\n",
       "      <td>111</td>\n",
       "      <td>16</td>\n",
       "    </tr>\n",
       "    <tr>\n",
       "      <th>105</th>\n",
       "      <td>http://eu.battle.net/sc2/en/profile/2222468/1/...</td>\n",
       "      <td>111</td>\n",
       "      <td>15</td>\n",
       "    </tr>\n",
       "    <tr>\n",
       "      <th>1330</th>\n",
       "      <td>http://kr.battle.net/sc2/en/profile/2344987/1/...</td>\n",
       "      <td>141</td>\n",
       "      <td>13</td>\n",
       "    </tr>\n",
       "    <tr>\n",
       "      <th>319</th>\n",
       "      <td>http://eu.battle.net/sc2/en/profile/326029/1/L...</td>\n",
       "      <td>666</td>\n",
       "      <td>11</td>\n",
       "    </tr>\n",
       "    <tr>\n",
       "      <th>...</th>\n",
       "      <td>...</td>\n",
       "      <td>...</td>\n",
       "      <td>...</td>\n",
       "    </tr>\n",
       "    <tr>\n",
       "      <th>844</th>\n",
       "      <td>http://kr.battle.net/sc2/en/profile/2342294/1/...</td>\n",
       "      <td>532</td>\n",
       "      <td>1</td>\n",
       "    </tr>\n",
       "    <tr>\n",
       "      <th>1074</th>\n",
       "      <td>http://kr.battle.net/sc2/en/profile/2343531/1/...</td>\n",
       "      <td>676</td>\n",
       "      <td>1</td>\n",
       "    </tr>\n",
       "    <tr>\n",
       "      <th>1003</th>\n",
       "      <td>http://kr.battle.net/sc2/en/profile/2343183/1/...</td>\n",
       "      <td>999</td>\n",
       "      <td>1</td>\n",
       "    </tr>\n",
       "    <tr>\n",
       "      <th>542</th>\n",
       "      <td>http://eu.battle.net/sc2/en/profile/4860568/1/...</td>\n",
       "      <td>112</td>\n",
       "      <td>1</td>\n",
       "    </tr>\n",
       "    <tr>\n",
       "      <th>620</th>\n",
       "      <td>http://kr.battle.net/sc2/en/profile/1178662/2/...</td>\n",
       "      <td>711</td>\n",
       "      <td>1</td>\n",
       "    </tr>\n",
       "  </tbody>\n",
       "</table>\n",
       "<p>200 rows × 3 columns</p>\n",
       "</div>"
      ],
      "text/plain": [
       "                                                     id orderPart  count\n",
       "1186  http://kr.battle.net/sc2/en/profile/2344031/1/...       444     18\n",
       "563   http://eu.battle.net/sc2/en/profile/788178/1/N...       111     16\n",
       "105   http://eu.battle.net/sc2/en/profile/2222468/1/...       111     15\n",
       "1330  http://kr.battle.net/sc2/en/profile/2344987/1/...       141     13\n",
       "319   http://eu.battle.net/sc2/en/profile/326029/1/L...       666     11\n",
       "...                                                 ...       ...    ...\n",
       "844   http://kr.battle.net/sc2/en/profile/2342294/1/...       532      1\n",
       "1074  http://kr.battle.net/sc2/en/profile/2343531/1/...       676      1\n",
       "1003  http://kr.battle.net/sc2/en/profile/2343183/1/...       999      1\n",
       "542   http://eu.battle.net/sc2/en/profile/4860568/1/...       112      1\n",
       "620   http://kr.battle.net/sc2/en/profile/1178662/2/...       711      1\n",
       "\n",
       "[200 rows x 3 columns]"
      ]
     },
     "execution_count": 21,
     "metadata": {},
     "output_type": "execute_result"
    }
   ],
   "source": [
    "#Obtenir les sequences plus frequentes de chaque jouer\n",
    "df_max_seq = df_temp.groupby(['id', 'orderPart']).orderPart.count().reset_index(name='count').sort_values('count', ascending=False).drop_duplicates(subset='id', keep='first')\n",
    "df_max_seq"
   ]
  },
  {
   "cell_type": "markdown",
   "metadata": {},
   "source": [
    "Voyons l'unicité de chaque séquence"
   ]
  },
  {
   "cell_type": "code",
   "execution_count": 56,
   "metadata": {},
   "outputs": [
    {
     "data": {
      "text/html": [
       "<div>\n",
       "<style scoped>\n",
       "    .dataframe tbody tr th:only-of-type {\n",
       "        vertical-align: middle;\n",
       "    }\n",
       "\n",
       "    .dataframe tbody tr th {\n",
       "        vertical-align: top;\n",
       "    }\n",
       "\n",
       "    .dataframe thead th {\n",
       "        text-align: right;\n",
       "    }\n",
       "</style>\n",
       "<table border=\"1\" class=\"dataframe\">\n",
       "  <thead>\n",
       "    <tr style=\"text-align: right;\">\n",
       "      <th></th>\n",
       "      <th>id</th>\n",
       "      <th>orderPart</th>\n",
       "      <th>count</th>\n",
       "    </tr>\n",
       "  </thead>\n",
       "  <tbody>\n",
       "    <tr>\n",
       "      <th>1186</th>\n",
       "      <td>http://kr.battle.net/sc2/en/profile/2344031/1/...</td>\n",
       "      <td>444</td>\n",
       "      <td>18</td>\n",
       "    </tr>\n",
       "    <tr>\n",
       "      <th>563</th>\n",
       "      <td>http://eu.battle.net/sc2/en/profile/788178/1/N...</td>\n",
       "      <td>111</td>\n",
       "      <td>16</td>\n",
       "    </tr>\n",
       "    <tr>\n",
       "      <th>1330</th>\n",
       "      <td>http://kr.battle.net/sc2/en/profile/2344987/1/...</td>\n",
       "      <td>141</td>\n",
       "      <td>13</td>\n",
       "    </tr>\n",
       "    <tr>\n",
       "      <th>319</th>\n",
       "      <td>http://eu.battle.net/sc2/en/profile/326029/1/L...</td>\n",
       "      <td>666</td>\n",
       "      <td>11</td>\n",
       "    </tr>\n",
       "    <tr>\n",
       "      <th>1043</th>\n",
       "      <td>http://kr.battle.net/sc2/en/profile/2343479/1/...</td>\n",
       "      <td>515</td>\n",
       "      <td>11</td>\n",
       "    </tr>\n",
       "    <tr>\n",
       "      <th>...</th>\n",
       "      <td>...</td>\n",
       "      <td>...</td>\n",
       "      <td>...</td>\n",
       "    </tr>\n",
       "    <tr>\n",
       "      <th>926</th>\n",
       "      <td>http://kr.battle.net/sc2/en/profile/2342766/1/...</td>\n",
       "      <td>512</td>\n",
       "      <td>1</td>\n",
       "    </tr>\n",
       "    <tr>\n",
       "      <th>844</th>\n",
       "      <td>http://kr.battle.net/sc2/en/profile/2342294/1/...</td>\n",
       "      <td>532</td>\n",
       "      <td>1</td>\n",
       "    </tr>\n",
       "    <tr>\n",
       "      <th>1074</th>\n",
       "      <td>http://kr.battle.net/sc2/en/profile/2343531/1/...</td>\n",
       "      <td>676</td>\n",
       "      <td>1</td>\n",
       "    </tr>\n",
       "    <tr>\n",
       "      <th>1003</th>\n",
       "      <td>http://kr.battle.net/sc2/en/profile/2343183/1/...</td>\n",
       "      <td>999</td>\n",
       "      <td>1</td>\n",
       "    </tr>\n",
       "    <tr>\n",
       "      <th>620</th>\n",
       "      <td>http://kr.battle.net/sc2/en/profile/1178662/2/...</td>\n",
       "      <td>711</td>\n",
       "      <td>1</td>\n",
       "    </tr>\n",
       "  </tbody>\n",
       "</table>\n",
       "<p>68 rows × 3 columns</p>\n",
       "</div>"
      ],
      "text/plain": [
       "                                                     id orderPart  count\n",
       "1186  http://kr.battle.net/sc2/en/profile/2344031/1/...       444     18\n",
       "563   http://eu.battle.net/sc2/en/profile/788178/1/N...       111     16\n",
       "1330  http://kr.battle.net/sc2/en/profile/2344987/1/...       141     13\n",
       "319   http://eu.battle.net/sc2/en/profile/326029/1/L...       666     11\n",
       "1043  http://kr.battle.net/sc2/en/profile/2343479/1/...       515     11\n",
       "...                                                 ...       ...    ...\n",
       "926   http://kr.battle.net/sc2/en/profile/2342766/1/...       512      1\n",
       "844   http://kr.battle.net/sc2/en/profile/2342294/1/...       532      1\n",
       "1074  http://kr.battle.net/sc2/en/profile/2343531/1/...       676      1\n",
       "1003  http://kr.battle.net/sc2/en/profile/2343183/1/...       999      1\n",
       "620   http://kr.battle.net/sc2/en/profile/1178662/2/...       711      1\n",
       "\n",
       "[68 rows x 3 columns]"
      ]
     },
     "execution_count": 56,
     "metadata": {},
     "output_type": "execute_result"
    }
   ],
   "source": [
    "df_repeted_seq = df_max_seq.drop_duplicates(subset='orderPart', keep='first')\n",
    "df_repeted_seq"
   ]
  },
  {
   "cell_type": "markdown",
   "metadata": {},
   "source": [
    "Puisqu'il y a seulement 68 sequences uniques pour 200 jouers, on ne peut pas dire si ces données seront ou pas utiles! :("
   ]
  }
 ],
 "metadata": {
  "celltoolbar": "Format de la Cellule Texte Brut",
  "kernelspec": {
   "display_name": "Python 3",
   "language": "python",
   "name": "python3"
  },
  "language_info": {
   "codemirror_mode": {
    "name": "ipython",
    "version": 3
   },
   "file_extension": ".py",
   "mimetype": "text/x-python",
   "name": "python",
   "nbconvert_exporter": "python",
   "pygments_lexer": "ipython3",
   "version": "3.8.0"
  }
 },
 "nbformat": 4,
 "nbformat_minor": 2
}
