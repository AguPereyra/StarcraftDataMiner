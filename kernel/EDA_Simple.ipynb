{
 "cells": [
  {
   "cell_type": "markdown",
   "metadata": {},
   "source": [
    "# Predicting Starcraft 2 players\n",
    "[Kaggle Starcraft II Prediction Challenge](https://www.kaggle.com/c/insa-5if-2018)"
   ]
  },
  {
   "cell_type": "markdown",
   "metadata": {},
   "source": [
    "## Initialisation\n",
    "We will use Python3 with [Numpy](http://www.numpy.org/) for linear algebra, [Pandas](https://pandas.pydata.org/) for data processing and CSV files I/O, and [scikit-learn](https://scikit-learn.org/stable/) for predictions. The environment is defined by the [Kaggle Python docker image](https://github.com/kaggle/docker-python)."
   ]
  },
  {
   "cell_type": "code",
   "execution_count": 1,
   "metadata": {},
   "outputs": [],
   "source": [
    "import numpy as np\n",
    "import pandas as pd\n",
    "from sklearn.preprocessing import StandardScaler\n",
    "from sklearn.model_selection import train_test_split\n",
    "from sklearn import preprocessing\n",
    "from imblearn.over_sampling import SMOTE\n",
    "from pandas.plotting import parallel_coordinates,scatter_matrix\n",
    "import seaborn as sns\n",
    "import os\n",
    "import matplotlib.pyplot as plt\n",
    "import copy\n",
    "from sklearn.neighbors import KNeighborsClassifier\n",
    "from sklearn.tree import DecisionTreeClassifier\n",
    "from sklearn.ensemble import RandomForestClassifier\n",
    "from sklearn.linear_model import LogisticRegression\n",
    "from sklearn.metrics import f1_score"
   ]
  },
  {
   "cell_type": "markdown",
   "metadata": {},
   "source": [
    "## Important Variables"
   ]
  },
  {
   "cell_type": "markdown",
   "metadata": {},
   "source": [
    "Some of these variables are useful in order to be sure that we get what we need, and making our code easier to modify."
   ]
  },
  {
   "cell_type": "code",
   "execution_count": 2,
   "metadata": {},
   "outputs": [],
   "source": [
    "#To be sure that we get all the right keys\n",
    "CSV_KEYS = ['id', 'class']\n",
    "for i in range(10):\n",
    "    CSV_KEYS.append('hotkey' + str(i))\n",
    "\n",
    "#Define map class->value\n",
    "CLASSES = {}\n",
    "\n",
    "#Zerg -> 0\n",
    "#Protoss -> 1\n",
    "#Terran -> 2\n",
    "CLASSES['Zerg'] = 0\n",
    "CLASSES['Protoss'] = 1\n",
    "CLASSES['Terran'] = 2\n",
    "\n",
    "#Define Paths\n",
    "OUTPUT = '../data/output'\n",
    "OUTPUT_SUB = OUTPUT\n",
    "OUTPUT_CHARTS = OUTPUT + '/charts/'\n",
    "INPUT = '../data/input'\n",
    "INPUT_TRAIN = INPUT + '/TRAIN.CSV'\n",
    "INPUT_TEST = INPUT + '/TEST.CSV'\n",
    "INPUT_TRAIN_LONG = INPUT + '/TRAIN_LONG.CSV'"
   ]
  },
  {
   "cell_type": "markdown",
   "metadata": {},
   "source": [
    "## Reading Data"
   ]
  },
  {
   "cell_type": "markdown",
   "metadata": {},
   "source": [
    "Lets get the data to analyze it. The next function is usefull to get csv data as list."
   ]
  },
  {
   "cell_type": "code",
   "execution_count": 3,
   "metadata": {},
   "outputs": [],
   "source": [
    "import csv\n",
    "from collections import defaultdict\n",
    "\n",
    "def get_train_data(csv_file=INPUT_TRAIN):    \n",
    "    with open(csv_file, newline='') as csv_text:\n",
    "        cvs_reader = csv.reader(csv_text, delimiter=',')\n",
    "        data = []\n",
    "        ids = []\n",
    "\n",
    "        for row in cvs_reader:\n",
    "\n",
    "            ids.append(row[0])\n",
    "            train_dict = defaultdict(int)\n",
    "            train_dict['id'] = row[0]\n",
    "            train_dict['class'] = CLASSES[row[1]]\n",
    "\n",
    "            t = 0\n",
    "            for i in range(1, len(row)-2):\n",
    "                if 'hotkey' in row[len(row)-i] and t != 0:\n",
    "                    train_dict[row[len(row)-i][:-1]] += 1/t\n",
    "                if 't' in row[len(row)-i][0] and t==0:\n",
    "                    t = int(row[len(row)-i][1:])\n",
    "            data.append(train_dict)\n",
    "        return (data, ids)\n",
    "    \n",
    "def get_test_data(csv_file=INPUT_TEST):    \n",
    "    with open(csv_file, newline='') as csv_text:\n",
    "        cvs_reader = csv.reader(csv_text, delimiter=',')\n",
    "        data = []\n",
    "\n",
    "        for row in cvs_reader:\n",
    "            train_dict = defaultdict(int)\n",
    "            train_dict['class'] = CLASSES[row[0]]\n",
    "            t = 0\n",
    "            for i in range(1, len(row)-1):\n",
    "                if 'hotkey' in row[len(row)-i] and t != 0:\n",
    "                    train_dict[row[len(row)-i][:-1]] += 1/t\n",
    "                if 't' in row[len(row)-i][0] and t==0:\n",
    "                    t = int(row[len(row)-i][1:])\n",
    "            data.append(train_dict)\n",
    "        return data   "
   ]
  },
  {
   "cell_type": "markdown",
   "metadata": {},
   "source": [
    "Now we have **data**, which contains all matchs information, and **ids**, which contains only the ids we are interested on. It is time to pass it to a DataFrame for future work."
   ]
  },
  {
   "cell_type": "code",
   "execution_count": 4,
   "metadata": {},
   "outputs": [
    {
     "name": "stdout",
     "output_type": "stream",
     "text": [
      "Shape of the dataset: (3052, 12)\n"
     ]
    },
    {
     "data": {
      "text/html": [
       "<div>\n",
       "<style scoped>\n",
       "    .dataframe tbody tr th:only-of-type {\n",
       "        vertical-align: middle;\n",
       "    }\n",
       "\n",
       "    .dataframe tbody tr th {\n",
       "        vertical-align: top;\n",
       "    }\n",
       "\n",
       "    .dataframe thead th {\n",
       "        text-align: right;\n",
       "    }\n",
       "</style>\n",
       "<table border=\"1\" class=\"dataframe\">\n",
       "  <thead>\n",
       "    <tr style=\"text-align: right;\">\n",
       "      <th></th>\n",
       "      <th>id</th>\n",
       "      <th>class</th>\n",
       "      <th>hotkey0</th>\n",
       "      <th>hotkey1</th>\n",
       "      <th>hotkey2</th>\n",
       "      <th>hotkey3</th>\n",
       "      <th>hotkey4</th>\n",
       "      <th>hotkey5</th>\n",
       "      <th>hotkey6</th>\n",
       "      <th>hotkey7</th>\n",
       "      <th>hotkey8</th>\n",
       "      <th>hotkey9</th>\n",
       "    </tr>\n",
       "  </thead>\n",
       "  <tbody>\n",
       "    <tr>\n",
       "      <th>115</th>\n",
       "      <td>http://eu.battle.net/sc2/en/profile/1058669/1/...</td>\n",
       "      <td>2</td>\n",
       "      <td>0.010976</td>\n",
       "      <td>0.792073</td>\n",
       "      <td>0.138415</td>\n",
       "      <td>0.073171</td>\n",
       "      <td>0.678049</td>\n",
       "      <td>0.022561</td>\n",
       "      <td>0.000000</td>\n",
       "      <td>0.118293</td>\n",
       "      <td>0.003659</td>\n",
       "      <td>0.004268</td>\n",
       "    </tr>\n",
       "    <tr>\n",
       "      <th>2046</th>\n",
       "      <td>http://eu.battle.net/sc2/en/profile/3311551/1/...</td>\n",
       "      <td>0</td>\n",
       "      <td>0.160494</td>\n",
       "      <td>0.088066</td>\n",
       "      <td>0.551440</td>\n",
       "      <td>0.117695</td>\n",
       "      <td>0.183539</td>\n",
       "      <td>0.679835</td>\n",
       "      <td>0.204938</td>\n",
       "      <td>0.060082</td>\n",
       "      <td>0.003292</td>\n",
       "      <td>0.001646</td>\n",
       "    </tr>\n",
       "    <tr>\n",
       "      <th>1345</th>\n",
       "      <td>http://kr.battle.net/sc2/en/profile/2345126/1/...</td>\n",
       "      <td>0</td>\n",
       "      <td>0.000000</td>\n",
       "      <td>0.304276</td>\n",
       "      <td>0.220724</td>\n",
       "      <td>0.171053</td>\n",
       "      <td>0.159868</td>\n",
       "      <td>0.062829</td>\n",
       "      <td>0.018421</td>\n",
       "      <td>0.000000</td>\n",
       "      <td>0.082237</td>\n",
       "      <td>0.000000</td>\n",
       "    </tr>\n",
       "  </tbody>\n",
       "</table>\n",
       "</div>"
      ],
      "text/plain": [
       "                                                     id  class   hotkey0  \\\n",
       "115   http://eu.battle.net/sc2/en/profile/1058669/1/...      2  0.010976   \n",
       "2046  http://eu.battle.net/sc2/en/profile/3311551/1/...      0  0.160494   \n",
       "1345  http://kr.battle.net/sc2/en/profile/2345126/1/...      0  0.000000   \n",
       "\n",
       "       hotkey1   hotkey2   hotkey3   hotkey4   hotkey5   hotkey6   hotkey7  \\\n",
       "115   0.792073  0.138415  0.073171  0.678049  0.022561  0.000000  0.118293   \n",
       "2046  0.088066  0.551440  0.117695  0.183539  0.679835  0.204938  0.060082   \n",
       "1345  0.304276  0.220724  0.171053  0.159868  0.062829  0.018421  0.000000   \n",
       "\n",
       "       hotkey8   hotkey9  \n",
       "115   0.003659  0.004268  \n",
       "2046  0.003292  0.001646  \n",
       "1345  0.082237  0.000000  "
      ]
     },
     "execution_count": 4,
     "metadata": {},
     "output_type": "execute_result"
    }
   ],
   "source": [
    "data, ids = get_train_data()\n",
    "df = pd.DataFrame(data, columns=CSV_KEYS) \n",
    "print('Shape of the dataset: ' + str(df.shape))\n",
    "df.sample(n=3).fillna(0)"
   ]
  },
  {
   "cell_type": "markdown",
   "metadata": {},
   "source": [
    "# EDA (Exploratory Data Analysis) "
   ]
  },
  {
   "cell_type": "markdown",
   "metadata": {},
   "source": [
    "## Number of games of each player"
   ]
  },
  {
   "cell_type": "code",
   "execution_count": 5,
   "metadata": {
    "scrolled": true
   },
   "outputs": [
    {
     "data": {
      "text/html": [
       "<div>\n",
       "<style scoped>\n",
       "    .dataframe tbody tr th:only-of-type {\n",
       "        vertical-align: middle;\n",
       "    }\n",
       "\n",
       "    .dataframe tbody tr th {\n",
       "        vertical-align: top;\n",
       "    }\n",
       "\n",
       "    .dataframe thead th {\n",
       "        text-align: right;\n",
       "    }\n",
       "</style>\n",
       "<table border=\"1\" class=\"dataframe\">\n",
       "  <thead>\n",
       "    <tr style=\"text-align: right;\">\n",
       "      <th></th>\n",
       "      <th>id</th>\n",
       "      <th>count</th>\n",
       "    </tr>\n",
       "  </thead>\n",
       "  <tbody>\n",
       "    <tr>\n",
       "      <th>6</th>\n",
       "      <td>http://eu.battle.net/sc2/en/profile/1430346/1/...</td>\n",
       "      <td>11</td>\n",
       "    </tr>\n",
       "    <tr>\n",
       "      <th>172</th>\n",
       "      <td>http://us.battle.net/sc2/en/profile/4580957/1/...</td>\n",
       "      <td>4</td>\n",
       "    </tr>\n",
       "    <tr>\n",
       "      <th>106</th>\n",
       "      <td>http://kr.battle.net/sc2/en/profile/2343733/1/...</td>\n",
       "      <td>23</td>\n",
       "    </tr>\n",
       "    <tr>\n",
       "      <th>194</th>\n",
       "      <td>http://xx.battle.net/sc2/en/profile/407/1/NaNiwa/</td>\n",
       "      <td>4</td>\n",
       "    </tr>\n",
       "    <tr>\n",
       "      <th>117</th>\n",
       "      <td>http://kr.battle.net/sc2/en/profile/2344230/1/...</td>\n",
       "      <td>20</td>\n",
       "    </tr>\n",
       "  </tbody>\n",
       "</table>\n",
       "</div>"
      ],
      "text/plain": [
       "                                                    id  count\n",
       "6    http://eu.battle.net/sc2/en/profile/1430346/1/...     11\n",
       "172  http://us.battle.net/sc2/en/profile/4580957/1/...      4\n",
       "106  http://kr.battle.net/sc2/en/profile/2343733/1/...     23\n",
       "194  http://xx.battle.net/sc2/en/profile/407/1/NaNiwa/      4\n",
       "117  http://kr.battle.net/sc2/en/profile/2344230/1/...     20"
      ]
     },
     "execution_count": 5,
     "metadata": {},
     "output_type": "execute_result"
    }
   ],
   "source": [
    "df.groupby('id').id.count().reset_index(name='count').sort_values('count',ascending=True).sample(n=5)"
   ]
  },
  {
   "cell_type": "markdown",
   "metadata": {},
   "source": [
    "We can observe that there is not a good distribution in terms of quantity of matchs per gamer. While some of them have just played 4, others have 50 registered.\n",
    "This problem could be alleviate using over/under-sampling tools, like SMOTE or ADASYN."
   ]
  },
  {
   "cell_type": "markdown",
   "metadata": {},
   "source": [
    "Lets check how is the distribution of matchs of the whole sample."
   ]
  },
  {
   "cell_type": "code",
   "execution_count": 6,
   "metadata": {},
   "outputs": [
    {
     "data": {
      "text/html": [
       "<div>\n",
       "<style scoped>\n",
       "    .dataframe tbody tr th:only-of-type {\n",
       "        vertical-align: middle;\n",
       "    }\n",
       "\n",
       "    .dataframe tbody tr th {\n",
       "        vertical-align: top;\n",
       "    }\n",
       "\n",
       "    .dataframe thead th {\n",
       "        text-align: right;\n",
       "    }\n",
       "</style>\n",
       "<table border=\"1\" class=\"dataframe\">\n",
       "  <thead>\n",
       "    <tr style=\"text-align: right;\">\n",
       "      <th></th>\n",
       "      <th>count</th>\n",
       "    </tr>\n",
       "  </thead>\n",
       "  <tbody>\n",
       "    <tr>\n",
       "      <th>count</th>\n",
       "      <td>200.00000</td>\n",
       "    </tr>\n",
       "    <tr>\n",
       "      <th>mean</th>\n",
       "      <td>15.26000</td>\n",
       "    </tr>\n",
       "    <tr>\n",
       "      <th>std</th>\n",
       "      <td>10.41464</td>\n",
       "    </tr>\n",
       "    <tr>\n",
       "      <th>min</th>\n",
       "      <td>4.00000</td>\n",
       "    </tr>\n",
       "    <tr>\n",
       "      <th>25%</th>\n",
       "      <td>7.00000</td>\n",
       "    </tr>\n",
       "    <tr>\n",
       "      <th>50%</th>\n",
       "      <td>12.00000</td>\n",
       "    </tr>\n",
       "    <tr>\n",
       "      <th>75%</th>\n",
       "      <td>20.00000</td>\n",
       "    </tr>\n",
       "    <tr>\n",
       "      <th>max</th>\n",
       "      <td>58.00000</td>\n",
       "    </tr>\n",
       "  </tbody>\n",
       "</table>\n",
       "</div>"
      ],
      "text/plain": [
       "           count\n",
       "count  200.00000\n",
       "mean    15.26000\n",
       "std     10.41464\n",
       "min      4.00000\n",
       "25%      7.00000\n",
       "50%     12.00000\n",
       "75%     20.00000\n",
       "max     58.00000"
      ]
     },
     "execution_count": 6,
     "metadata": {},
     "output_type": "execute_result"
    }
   ],
   "source": [
    "df.groupby('id').id.count().reset_index(name='count').sort_values('count',ascending=False).describe()"
   ]
  },
  {
   "cell_type": "markdown",
   "metadata": {},
   "source": [
    "This reinforce our observetion, as the standar deviation is of 10, and given that our maximum value is almost 60, we have a variance of data that represents about a sixth of the range.\n",
    "We can also notice that most of our players don't have more than 20 games registered for each other."
   ]
  },
  {
   "cell_type": "markdown",
   "metadata": {},
   "source": [
    "## Number of players"
   ]
  },
  {
   "cell_type": "markdown",
   "metadata": {},
   "source": [
    "How many players do we have?"
   ]
  },
  {
   "cell_type": "code",
   "execution_count": 7,
   "metadata": {},
   "outputs": [
    {
     "name": "stdout",
     "output_type": "stream",
     "text": [
      "200\n"
     ]
    }
   ],
   "source": [
    "nb_joueur = list(dict.fromkeys(ids))\n",
    "print(len(nb_joueur))"
   ]
  },
  {
   "cell_type": "markdown",
   "metadata": {},
   "source": [
    "We can visualize what these players look like."
   ]
  },
  {
   "cell_type": "code",
   "execution_count": 8,
   "metadata": {},
   "outputs": [
    {
     "name": "stdout",
     "output_type": "stream",
     "text": [
      "http://eu.battle.net/sc2/en/profile/4234852/1/First/\n",
      "http://eu.battle.net/sc2/en/profile/3074362/1/Stardust/\n"
     ]
    }
   ],
   "source": [
    "nb_joueur = list(dict.fromkeys(ids))\n",
    "print(nb_joueur[0] + '\\n' + nb_joueur[1])"
   ]
  },
  {
   "cell_type": "markdown",
   "metadata": {},
   "source": [
    "## Races's distribution"
   ]
  },
  {
   "cell_type": "markdown",
   "metadata": {},
   "source": [
    "Now we try to understand how races influence players. \n",
    "1. Are all races chosen in an equally distribution?\n",
    "2. Do gamers eventually change the class they use?"
   ]
  },
  {
   "cell_type": "code",
   "execution_count": 9,
   "metadata": {},
   "outputs": [
    {
     "name": "stdout",
     "output_type": "stream",
     "text": [
      "1    1210\n",
      "0    1061\n",
      "2     781\n",
      "Name: class, dtype: int64\n"
     ]
    },
    {
     "data": {
      "text/plain": [
       "<matplotlib.axes._subplots.AxesSubplot at 0x7fbd8bba03a0>"
      ]
     },
     "execution_count": 9,
     "metadata": {},
     "output_type": "execute_result"
    },
    {
     "data": {
      "image/png": "[encoded data removed]",
      "text/plain": [
       "<Figure size 432x288 with 1 Axes>"
      ]
     },
     "metadata": {
      "needs_background": "light"
     },
     "output_type": "display_data"
    }
   ],
   "source": [
    "races = df['class'].value_counts()\n",
    "print(races)\n",
    "races.plot.bar()"
   ]
  },
  {
   "cell_type": "markdown",
   "metadata": {},
   "source": [
    "So the most played class is Protoss. Either way, considering about 3000 games, and almost 1000 matchs per race in the case of Protoss and Zerg, we can say they are pretty used. But it seems it is not the same for Zerg.\n",
    "And about players changing their race?"
   ]
  },
  {
   "cell_type": "code",
   "execution_count": 10,
   "metadata": {},
   "outputs": [
    {
     "data": {
      "text/plain": [
       "class  id                                                         \n",
       "0      http://eu.battle.net/sc2/en/profile/1173786/1/VPbenQsLivko/    12\n",
       "       http://eu.battle.net/sc2/en/profile/2048063/1/AcerBly/         13\n",
       "       http://eu.battle.net/sc2/en/profile/2101268/1/Stephano/        12\n",
       "       http://eu.battle.net/sc2/en/profile/2115876/1/FireCake/        16\n",
       "       http://eu.battle.net/sc2/en/profile/219517/1/TargA/             7\n",
       "                                                                      ..\n",
       "2      http://xx.battle.net/sc2/en/profile/405/1/MMA/                  4\n",
       "       http://xx.battle.net/sc2/en/profile/406/1/INnoVation/           4\n",
       "       http://xx.battle.net/sc2/en/profile/408/1/Polt/                 6\n",
       "       http://xx.battle.net/sc2/en/profile/410/1/STBomber/            15\n",
       "       http://xx.battle.net/sc2/en/profile/413/1/Maru/                15\n",
       "Name: id, Length: 200, dtype: int64"
      ]
     },
     "execution_count": 10,
     "metadata": {},
     "output_type": "execute_result"
    }
   ],
   "source": [
    "df.groupby(['class','id'])['id'].count()"
   ]
  },
  {
   "cell_type": "markdown",
   "metadata": {},
   "source": [
    "Even though we can't see all matches, we can notice that there are only 200 different lines. And as we have 200 different players, it means there are no 2 classes with the same player!\n",
    "So every gamer choose always the same race."
   ]
  },
  {
   "cell_type": "code",
   "execution_count": 11,
   "metadata": {},
   "outputs": [
    {
     "data": {
      "image/png": "[encoded data removed]",
      "text/plain": [
       "<Figure size 576x576 with 200 Axes>"
      ]
     },
     "metadata": {},
     "output_type": "display_data"
    }
   ],
   "source": [
    "f,ax=plt.subplots(20,10,figsize=(8,8))\n",
    "dfi = df.set_index(\"id\")\n",
    "nb_joueur_temp = copy.deepcopy(nb_joueur)\n",
    "for x in range(0,20) :\n",
    "    for y in range(0, 10):\n",
    "        races_joueur = dfi.loc[nb_joueur_temp.pop()]['class'].value_counts()\n",
    "        races_joueur.plot.bar(ax=ax[x, y])    \n",
    "    \n",
    "plt.subplots_adjust(top=0.98, bottom=0.04, left=0.10, right=0.95, hspace=0.55,\n",
    "                    wspace=0.35)\n",
    "#Get rid of tick to make show clearer\n",
    "for row in ax:\n",
    "    for col in row:\n",
    "        col.set_xticks([])\n",
    "        col.set_yticks([])\n",
    "\n",
    "plt.show()  "
   ]
  },
  {
   "cell_type": "markdown",
   "metadata": {},
   "source": [
    "Even though we got rid of labels in order to make it more clean, basically in x axis we have the race chosen, and in y we have the number of games played with each race, where each plot corresponds to one player. As we can see, each player only has one bar, which means that (as we saw above), the same player never uses two differents races."
   ]
  },
  {
   "cell_type": "code",
   "execution_count": 12,
   "metadata": {},
   "outputs": [
    {
     "data": {
      "text/plain": [
       "<matplotlib.axes._subplots.AxesSubplot at 0x7fbd89ae5d60>"
      ]
     },
     "execution_count": 12,
     "metadata": {},
     "output_type": "execute_result"
    },
    {
     "data": {
      "image/png": "[encoded data removed]",
      "text/plain": [
       "<Figure size 432x288 with 1 Axes>"
      ]
     },
     "metadata": {
      "needs_background": "light"
     },
     "output_type": "display_data"
    }
   ],
   "source": [
    "races_joueur = dfi.loc[ids[100]]['class'].value_counts()\n",
    "races_joueur.plot.bar()"
   ]
  },
  {
   "cell_type": "markdown",
   "metadata": {},
   "source": [
    "**Conclusion: Race feature is important.**"
   ]
  },
  {
   "cell_type": "markdown",
   "metadata": {},
   "source": [
    "And what about the hotkeys used?"
   ]
  },
  {
   "cell_type": "markdown",
   "metadata": {},
   "source": [
    "Check the variance of use of the hotkeys."
   ]
  },
  {
   "cell_type": "code",
   "execution_count": 13,
   "metadata": {},
   "outputs": [
    {
     "data": {
      "text/plain": [
       "<matplotlib.axes._subplots.AxesSubplot at 0x7fbd86ec8c10>"
      ]
     },
     "execution_count": 13,
     "metadata": {},
     "output_type": "execute_result"
    },
    {
     "data": {
      "image/png": "[encoded data removed]",
      "text/plain": [
       "<Figure size 432x288 with 1 Axes>"
      ]
     },
     "metadata": {
      "needs_background": "light"
     },
     "output_type": "display_data"
    }
   ],
   "source": [
    "df.var().plot.bar()"
   ]
  },
  {
   "cell_type": "markdown",
   "metadata": {},
   "source": [
    "It seems that hotkeys 8,9, 0 and 7 are always used the same way. However, we can not assume that these features could be deleted, as they are maybe used only by some specific players, which would be helpful to rapidly detect them."
   ]
  },
  {
   "cell_type": "code",
   "execution_count": 14,
   "metadata": {},
   "outputs": [
    {
     "data": {
      "text/plain": [
       "array([[<matplotlib.axes._subplots.AxesSubplot object at 0x7fbd86638ee0>,\n",
       "        <matplotlib.axes._subplots.AxesSubplot object at 0x7fbd8688adf0>,\n",
       "        <matplotlib.axes._subplots.AxesSubplot object at 0x7fbd868f4580>],\n",
       "       [<matplotlib.axes._subplots.AxesSubplot object at 0x7fbd86920bb0>,\n",
       "        <matplotlib.axes._subplots.AxesSubplot object at 0x7fbd868d4430>,\n",
       "        <matplotlib.axes._subplots.AxesSubplot object at 0x7fbd8683ec70>],\n",
       "       [<matplotlib.axes._subplots.AxesSubplot object at 0x7fbd8684bb80>,\n",
       "        <matplotlib.axes._subplots.AxesSubplot object at 0x7fbd86802460>,\n",
       "        <matplotlib.axes._subplots.AxesSubplot object at 0x7fbd8660f5b0>],\n",
       "       [<matplotlib.axes._subplots.AxesSubplot object at 0x7fbd865badf0>,\n",
       "        <matplotlib.axes._subplots.AxesSubplot object at 0x7fbd8656e670>,\n",
       "        <matplotlib.axes._subplots.AxesSubplot object at 0x7fbd865a4ca0>]],\n",
       "      dtype=object)"
      ]
     },
     "execution_count": 14,
     "metadata": {},
     "output_type": "execute_result"
    },
    {
     "data": {
      "image/png": "[encoded data removed]",
      "text/plain": [
       "<Figure size 1152x1440 with 12 Axes>"
      ]
     },
     "metadata": {
      "needs_background": "light"
     },
     "output_type": "display_data"
    }
   ],
   "source": [
    "df.hist(figsize = (16,20), stacked= False)"
   ]
  },
  {
   "cell_type": "markdown",
   "metadata": {},
   "source": [
    "By the figures above we can certify what we said above, hotkeys 9, 8, 7 and 0 merely vary in their frequency."
   ]
  },
  {
   "cell_type": "markdown",
   "metadata": {},
   "source": [
    "Now lets find if we can find some correlation between hotkeys."
   ]
  },
  {
   "cell_type": "code",
   "execution_count": 15,
   "metadata": {},
   "outputs": [
    {
     "data": {
      "image/png": "[encoded data removed]",
      "text/plain": [
       "<Figure size 720x576 with 2 Axes>"
      ]
     },
     "metadata": {
      "needs_background": "light"
     },
     "output_type": "display_data"
    }
   ],
   "source": [
    "sns.heatmap(df.corr(),annot=True,cmap='RdYlGn',linewidths=0.2) #data.corr()-->correlation matrix\n",
    "fig=plt.gcf()\n",
    "fig.set_size_inches(10,8)\n",
    "plt.show()"
   ]
  },
  {
   "cell_type": "markdown",
   "metadata": {},
   "source": [
    "It seems that they are not too much correlated, so that it may be better to keep them all in order to not to loose information about the player."
   ]
  },
  {
   "cell_type": "markdown",
   "metadata": {},
   "source": [
    "# Models"
   ]
  },
  {
   "cell_type": "markdown",
   "metadata": {},
   "source": [
    "Now we will test some models in these features."
   ]
  },
  {
   "cell_type": "markdown",
   "metadata": {},
   "source": [
    "## Prepare features"
   ]
  },
  {
   "cell_type": "code",
   "execution_count": 16,
   "metadata": {},
   "outputs": [],
   "source": [
    "x, _ = get_train_data()\n",
    "df_X = pd.DataFrame(x, columns=CSV_KEYS) \n",
    "df_X = df_X.drop(columns='id')\n",
    "X = df_X.fillna(0).values\n",
    "y = np.asarray(ids)\n",
    "# Stratify data in train and valid, taking care of having each player at least one time in each sample\n",
    "X_train, X_valid, y_train, y_valid = train_test_split(X, y,\n",
    "                                                    stratify= ids, \n",
    "                                                    test_size=0.20)\n",
    "\n",
    "#Overfit as there is not even repartition of matchs\n",
    "smt = SMOTE(k_neighbors=1)\n",
    "X_train, y_train = smt.fit_sample(X_train, y_train)\n",
    "\n",
    "#Scale data, although it shouldn't be necessary because it is all in the range of 0-1 except from classes.\n",
    "scaler = StandardScaler()\n",
    "X_train = scaler.fit_transform(X_train)\n",
    "X_valid = scaler.transform(X_valid)"
   ]
  },
  {
   "cell_type": "markdown",
   "metadata": {},
   "source": [
    "## Choose some models"
   ]
  },
  {
   "cell_type": "code",
   "execution_count": 17,
   "metadata": {},
   "outputs": [],
   "source": [
    "f1_scores = {}\n",
    "# DESICION TREE\n",
    "\n",
    "classifier = DecisionTreeClassifier(random_state=42)\n",
    "classifier.fit(X_train,y_train)\n",
    "y_predict = classifier.predict(X_valid)\n",
    "f1_scores['decision_tree'] = f1_score(y_valid, y_predict, average='micro')\n",
    "\n",
    "# Logistic Regression\n",
    "\n",
    "classifier1 = LogisticRegression(random_state=0, solver='liblinear', multi_class='auto', max_iter=2000)\n",
    "classifier1.fit(X_train,y_train)\n",
    "y_predict1 = classifier1.predict(X_valid)\n",
    "f1_scores['logistic regression'] = f1_score(y_valid, y_predict1, average='micro')\n",
    "\n",
    "# Random forest\n",
    "\n",
    "classifier2 = RandomForestClassifier(random_state=42, n_estimators=500)\n",
    "classifier2.fit(X_train,y_train)\n",
    "y_predict2 = classifier2.predict(X_valid)\n",
    "f1_scores['random_forest'] = f1_score(y_valid, y_predict2, average='micro')\n",
    "\n",
    "# KNN with K=3\n",
    "\n",
    "classifier3 = KNeighborsClassifier(n_neighbors=3)\n",
    "classifier3.fit(X, y)\n",
    "y_predict3 = classifier3.predict(X_valid)\n",
    "f1_scores['knn_k=3'] = f1_score(y_valid, y_predict3, average='micro')"
   ]
  },
  {
   "cell_type": "code",
   "execution_count": 18,
   "metadata": {},
   "outputs": [
    {
     "name": "stdout",
     "output_type": "stream",
     "text": [
      "decision_tree                    0.7414075286415713\n",
      "\n",
      "logistic regression              0.7463175122749591\n",
      "\n",
      "random_forest                    0.8756137479541735\n",
      "\n",
      "knn_k=3                          0.2193126022913257\n",
      "\n"
     ]
    }
   ],
   "source": [
    "#Show different f1s\n",
    "for key, value in f1_scores.items():\n",
    "    print('{:<32} {:<12}\\n'.format(key, value))"
   ]
  }
 ],
 "metadata": {
  "celltoolbar": "Format de la Cellule Texte Brut",
  "kernelspec": {
   "display_name": "Python 3",
   "language": "python",
   "name": "python3"
  },
  "language_info": {
   "codemirror_mode": {
    "name": "ipython",
    "version": 3
   },
   "file_extension": ".py",
   "mimetype": "text/x-python",
   "name": "python",
   "nbconvert_exporter": "python",
   "pygments_lexer": "ipython3",
   "version": "3.8.0"
  }
 },
 "nbformat": 4,
 "nbformat_minor": 2
}
