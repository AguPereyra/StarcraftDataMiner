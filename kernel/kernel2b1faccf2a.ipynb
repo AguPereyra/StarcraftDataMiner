{
 "cells": [
  {
   "cell_type": "markdown",
   "metadata": {},
   "source": [
    "# Interpretability\n",
    "## Some tools: https://towardsdatascience.com/interpretable-machine-learning-1dec0f2f3e6b"
   ]
  },
  {
   "cell_type": "markdown",
   "metadata": {},
   "source": [
    "When to scale: https://medium.com/greyatom/why-how-and-when-to-scale-your-features-4b30ab09db5e, KNN and PCA need scaling, while Trees don't.\n",
    "For future work on data: https://towardsdatascience.com/dimensionality-reduction-does-pca-really-improve-classification-outcome-6e9ba21f0a32"
   ]
  },
  {
   "cell_type": "code",
   "execution_count": 70,
   "metadata": {
    "_cell_guid": "b1076dfc-b9ad-4769-8c92-a6c4dae69d19",
    "_uuid": "8f2839f25d086af736a60e9eeb907d3b93b6e0e5"
   },
   "outputs": [
    {
     "name": "stdout",
     "output_type": "stream",
     "text": [
      "../data/SAMPLE_SUBMISSION.CSV\n",
      "../data/starcraft-2-player-prediction-challenge-2019.zip\n",
      "../data/submission.csv\n",
      "../data/TEST.CSV\n",
      "../data/TEST_LONG.CSV\n",
      "../data/TRAIN.CSV\n",
      "../data/TRAIN_LONG.CSV\n"
     ]
    }
   ],
   "source": [
    "# This Python 3 environment comes with many helpful analytics libraries installed\n",
    "# It is defined by the kaggle/python docker image: https://github.com/kaggle/docker-python\n",
    "# For example, here's several helpful packages to load in \n",
    "\n",
    "import numpy as np # linear algebra\n",
    "import pandas as pd # data processing, CSV file I/O (e.g. pd.read_csv)\n",
    "\n",
    "# Input data files are available in the \"../input/\" directory.\n",
    "# For example, running this (by clicking run or pressing Shift+Enter) will list all files under the input directory\n",
    "\n",
    "import os\n",
    "for dirname, _, filenames in os.walk('../data/'):\n",
    "    for filename in filenames:\n",
    "        print(os.path.join(dirname, filename))\n",
    "\n",
    "# Any results you write to the current directory are saved as output."
   ]
  },
  {
   "cell_type": "code",
   "execution_count": 71,
   "metadata": {},
   "outputs": [],
   "source": [
    "import csv\n",
    "from collections import defaultdict\n",
    "csv_file = '../data/TRAIN.CSV'\n",
    "with open(csv_file, newline='') as csv_text:\n",
    "    cvs_reader = csv.reader(csv_text, delimiter=',')\n",
    "    data = []\n",
    "    ids = []\n",
    "    \n",
    "    for row in cvs_reader:\n",
    "        \n",
    "        csv_dict = defaultdict(int)\n",
    "        csv_dict['id'] = row[0]\n",
    "        ids.append(row[0])\n",
    "        csv_dict['class'] = row[1]\n",
    "        t = 0\n",
    "        for i in range(1, len(row)-2):\n",
    "            if 'hotkey' in row[len(row)-i] and t != 0:\n",
    "                csv_dict[row[len(row)-i][:-1]] += 1/t\n",
    "                \n",
    "            if 'Base' in row[len(row)-i] and t != 0:\n",
    "                csv_dict['base'] += 1/t\n",
    "            \n",
    "            if 'Mineral' in row[len(row)-i] and t != 0:\n",
    "                csv_dict['mineral'] += 1/t\n",
    "                \n",
    "            if 's' == row[len(row)-i] and t != 0:\n",
    "                csv_dict['s'] += 1/t\n",
    "                \n",
    "            if 't' in row[len(row)-i][0] and t==0:\n",
    "                t = int(row[len(row)-i][1:])\n",
    "        data.append(csv_dict)"
   ]
  },
  {
   "cell_type": "code",
   "execution_count": 72,
   "metadata": {},
   "outputs": [
    {
     "name": "stdout",
     "output_type": "stream",
     "text": [
      "defaultdict(<class 'int'>, {'id': 'http://eu.battle.net/sc2/en/profile/4234852/1/First/', 'class': 'Protoss', 'hotkey6': 0.012688821752265853, 'hotkey5': 0.07129909365558913, 'hotkey4': 0.15709969788519723, 'hotkey3': 0.24290030211480534, 's': 0.40725075528701243, 'hotkey1': 0.24954682779456372, 'hotkey2': 0.1341389728096683, 'hotkey0': 0.027794561933534714, 'base': 0.03927492447129905, 'hotkey9': 0.002416918429003021, 'mineral': 0.0030211480362537764, 'hotkey7': 0.0006042296072507553}) defaultdict(<class 'int'>, {'id': 'http://eu.battle.net/sc2/en/profile/251061/1/LiveZerg/', 'class': 'Zerg', 'hotkey1': 0.36326530612244756, 's': 1.0517006802721012, 'hotkey4': 0.5768707482993151, 'base': 0.010884353741496598, 'hotkey2': 0.04081632653061224, 'hotkey3': 0.005442176870748299})\n"
     ]
    }
   ],
   "source": [
    "print(data[0], data[80])"
   ]
  },
  {
   "cell_type": "code",
   "execution_count": 73,
   "metadata": {},
   "outputs": [
    {
     "name": "stdout",
     "output_type": "stream",
     "text": [
      "['id', 'class', 'base', 's', 'mineral', 'hotkey0', 'hotkey1', 'hotkey2', 'hotkey3', 'hotkey4', 'hotkey5', 'hotkey6', 'hotkey7', 'hotkey8', 'hotkey9']\n"
     ]
    }
   ],
   "source": [
    "#To be sure that we get all the right keys\n",
    "csv_keys = ['id', 'class', 'base', 's', 'mineral']\n",
    "for i in range(10):\n",
    "    csv_keys.append('hotkey' + str(i))\n",
    "print(csv_keys)"
   ]
  },
  {
   "cell_type": "code",
   "execution_count": 74,
   "metadata": {},
   "outputs": [
    {
     "name": "stdout",
     "output_type": "stream",
     "text": [
      "3052\n",
      "3052\n"
     ]
    }
   ],
   "source": [
    "print(len(data))\n",
    "print(len(ids))"
   ]
  },
  {
   "cell_type": "code",
   "execution_count": 75,
   "metadata": {
    "_cell_guid": "79c7e3d0-c299-4dcb-8224-4455121ee9b0",
    "_uuid": "d629ff2d2480ee46fbb7e2d37f6b5fab8052498a",
    "scrolled": false
   },
   "outputs": [
    {
     "data": {
      "text/html": [
       "<div>\n",
       "<style scoped>\n",
       "    .dataframe tbody tr th:only-of-type {\n",
       "        vertical-align: middle;\n",
       "    }\n",
       "\n",
       "    .dataframe tbody tr th {\n",
       "        vertical-align: top;\n",
       "    }\n",
       "\n",
       "    .dataframe thead th {\n",
       "        text-align: right;\n",
       "    }\n",
       "</style>\n",
       "<table border=\"1\" class=\"dataframe\">\n",
       "  <thead>\n",
       "    <tr style=\"text-align: right;\">\n",
       "      <th></th>\n",
       "      <th>id</th>\n",
       "      <th>class</th>\n",
       "      <th>base</th>\n",
       "      <th>s</th>\n",
       "      <th>mineral</th>\n",
       "      <th>hotkey0</th>\n",
       "      <th>hotkey1</th>\n",
       "      <th>hotkey2</th>\n",
       "      <th>hotkey3</th>\n",
       "      <th>hotkey4</th>\n",
       "      <th>hotkey5</th>\n",
       "      <th>hotkey6</th>\n",
       "      <th>hotkey7</th>\n",
       "      <th>hotkey8</th>\n",
       "      <th>hotkey9</th>\n",
       "    </tr>\n",
       "  </thead>\n",
       "  <tbody>\n",
       "    <tr>\n",
       "      <th>0</th>\n",
       "      <td>http://eu.battle.net/sc2/en/profile/4234852/1/...</td>\n",
       "      <td>Protoss</td>\n",
       "      <td>0.039275</td>\n",
       "      <td>0.407251</td>\n",
       "      <td>0.003021</td>\n",
       "      <td>0.027795</td>\n",
       "      <td>0.249547</td>\n",
       "      <td>0.134139</td>\n",
       "      <td>0.242900</td>\n",
       "      <td>0.157100</td>\n",
       "      <td>0.071299</td>\n",
       "      <td>0.012689</td>\n",
       "      <td>0.000604</td>\n",
       "      <td>0.000000</td>\n",
       "      <td>0.002417</td>\n",
       "    </tr>\n",
       "    <tr>\n",
       "      <th>1</th>\n",
       "      <td>http://eu.battle.net/sc2/en/profile/3074362/1/...</td>\n",
       "      <td>Protoss</td>\n",
       "      <td>0.007251</td>\n",
       "      <td>0.324471</td>\n",
       "      <td>0.000000</td>\n",
       "      <td>0.051360</td>\n",
       "      <td>0.311178</td>\n",
       "      <td>0.138973</td>\n",
       "      <td>0.210876</td>\n",
       "      <td>0.187915</td>\n",
       "      <td>0.000000</td>\n",
       "      <td>0.000000</td>\n",
       "      <td>0.000000</td>\n",
       "      <td>0.010272</td>\n",
       "      <td>0.011480</td>\n",
       "    </tr>\n",
       "    <tr>\n",
       "      <th>2</th>\n",
       "      <td>http://eu.battle.net/sc2/en/profile/4234852/1/...</td>\n",
       "      <td>Protoss</td>\n",
       "      <td>0.045545</td>\n",
       "      <td>0.425743</td>\n",
       "      <td>0.002970</td>\n",
       "      <td>0.020792</td>\n",
       "      <td>0.145545</td>\n",
       "      <td>0.133663</td>\n",
       "      <td>0.317822</td>\n",
       "      <td>0.135644</td>\n",
       "      <td>0.090099</td>\n",
       "      <td>0.011881</td>\n",
       "      <td>0.000000</td>\n",
       "      <td>0.000000</td>\n",
       "      <td>0.003960</td>\n",
       "    </tr>\n",
       "    <tr>\n",
       "      <th>3</th>\n",
       "      <td>http://eu.battle.net/sc2/en/profile/3074362/1/...</td>\n",
       "      <td>Protoss</td>\n",
       "      <td>0.019900</td>\n",
       "      <td>0.395025</td>\n",
       "      <td>0.000000</td>\n",
       "      <td>0.039801</td>\n",
       "      <td>0.289552</td>\n",
       "      <td>0.083582</td>\n",
       "      <td>0.249751</td>\n",
       "      <td>0.284577</td>\n",
       "      <td>0.000000</td>\n",
       "      <td>0.000000</td>\n",
       "      <td>0.000000</td>\n",
       "      <td>0.000000</td>\n",
       "      <td>0.014925</td>\n",
       "    </tr>\n",
       "    <tr>\n",
       "      <th>4</th>\n",
       "      <td>http://eu.battle.net/sc2/en/profile/4234852/1/...</td>\n",
       "      <td>Protoss</td>\n",
       "      <td>0.001852</td>\n",
       "      <td>0.385185</td>\n",
       "      <td>0.000000</td>\n",
       "      <td>0.001852</td>\n",
       "      <td>0.114815</td>\n",
       "      <td>0.081481</td>\n",
       "      <td>0.372222</td>\n",
       "      <td>0.159259</td>\n",
       "      <td>0.027778</td>\n",
       "      <td>0.000000</td>\n",
       "      <td>0.000000</td>\n",
       "      <td>0.000000</td>\n",
       "      <td>0.000000</td>\n",
       "    </tr>\n",
       "  </tbody>\n",
       "</table>\n",
       "</div>"
      ],
      "text/plain": [
       "                                                  id    class      base  \\\n",
       "0  http://eu.battle.net/sc2/en/profile/4234852/1/...  Protoss  0.039275   \n",
       "1  http://eu.battle.net/sc2/en/profile/3074362/1/...  Protoss  0.007251   \n",
       "2  http://eu.battle.net/sc2/en/profile/4234852/1/...  Protoss  0.045545   \n",
       "3  http://eu.battle.net/sc2/en/profile/3074362/1/...  Protoss  0.019900   \n",
       "4  http://eu.battle.net/sc2/en/profile/4234852/1/...  Protoss  0.001852   \n",
       "\n",
       "          s   mineral   hotkey0   hotkey1   hotkey2   hotkey3   hotkey4  \\\n",
       "0  0.407251  0.003021  0.027795  0.249547  0.134139  0.242900  0.157100   \n",
       "1  0.324471  0.000000  0.051360  0.311178  0.138973  0.210876  0.187915   \n",
       "2  0.425743  0.002970  0.020792  0.145545  0.133663  0.317822  0.135644   \n",
       "3  0.395025  0.000000  0.039801  0.289552  0.083582  0.249751  0.284577   \n",
       "4  0.385185  0.000000  0.001852  0.114815  0.081481  0.372222  0.159259   \n",
       "\n",
       "    hotkey5   hotkey6   hotkey7   hotkey8   hotkey9  \n",
       "0  0.071299  0.012689  0.000604  0.000000  0.002417  \n",
       "1  0.000000  0.000000  0.000000  0.010272  0.011480  \n",
       "2  0.090099  0.011881  0.000000  0.000000  0.003960  \n",
       "3  0.000000  0.000000  0.000000  0.000000  0.014925  \n",
       "4  0.027778  0.000000  0.000000  0.000000  0.000000  "
      ]
     },
     "execution_count": 75,
     "metadata": {},
     "output_type": "execute_result"
    }
   ],
   "source": [
    "#Only for visualization purposes\n",
    "df = pd.DataFrame(data, columns=csv_keys) \n",
    "df.head().fillna(0)"
   ]
  },
  {
   "cell_type": "markdown",
   "metadata": {},
   "source": [
    "# Stratify Sampling"
   ]
  },
  {
   "cell_type": "markdown",
   "metadata": {},
   "source": [
    "Cleaning data"
   ]
  },
  {
   "cell_type": "code",
   "execution_count": 76,
   "metadata": {},
   "outputs": [],
   "source": [
    "#Define map class->value\n",
    "CLASSES = {}\n",
    "\n",
    "#Zerg -> 0\n",
    "#Protoss -> 1\n",
    "#Terran -> 2\n",
    "CLASSES['Zerg'] = 0\n",
    "CLASSES['Protoss'] = 1\n",
    "CLASSES['Terran'] = 2"
   ]
  },
  {
   "cell_type": "code",
   "execution_count": 77,
   "metadata": {},
   "outputs": [
    {
     "name": "stdout",
     "output_type": "stream",
     "text": [
      "{'class': 1, 'hotkey6': 0.012688821752265853, 'hotkey5': 0.07129909365558913, 'hotkey4': 0.15709969788519723, 'hotkey3': 0.24290030211480534, 's': 0.40725075528701243, 'hotkey1': 0.24954682779456372, 'hotkey2': 0.1341389728096683, 'hotkey0': 0.027794561933534714, 'base': 0.03927492447129905, 'hotkey9': 0.002416918429003021, 'mineral': 0.0030211480362537764, 'hotkey7': 0.0006042296072507553} {'class': 0, 's': 1.1153846153846116, 'hotkey1': 0.3880341880341868, 'hotkey4': 0.4401709401709388, 'hotkey2': 0.17264957264957217, 'hotkey5': 0.01367521367521368, 'base': 0.012820512820512825, 'hotkey3': 0.03247863247863249}\n"
     ]
    }
   ],
   "source": [
    "#Separate Labels from features\n",
    "features = []\n",
    "\n",
    "for sample in data:\n",
    "    dict_temp = {}\n",
    "    #New dictionary without the label\n",
    "    for key, value in sample.items():\n",
    "        if key != 'id':\n",
    "            #Change classes names into numbers\n",
    "            if key == 'class':\n",
    "                value = CLASSES[value]\n",
    "            dict_temp[key] = value\n",
    "    #Append to features list\n",
    "    features.append(dict_temp)\n",
    "print(features[0], features[19])    "
   ]
  },
  {
   "cell_type": "markdown",
   "metadata": {},
   "source": [
    "Split"
   ]
  },
  {
   "cell_type": "code",
   "execution_count": 78,
   "metadata": {},
   "outputs": [],
   "source": [
    "from sklearn.model_selection import train_test_split\n",
    "\n",
    "df_X = pd.DataFrame(features, columns=csv_keys) \n",
    "X = df_X.fillna(0).values\n",
    "y = np.asarray(ids)\n",
    "\n",
    "X_train, X_valid, y_train, y_valid = train_test_split(X, y, test_size=0.2, shuffle=True, stratify=ids)"
   ]
  },
  {
   "cell_type": "markdown",
   "metadata": {},
   "source": [
    "*Test if we have correct distribution*"
   ]
  },
  {
   "cell_type": "code",
   "execution_count": 79,
   "metadata": {},
   "outputs": [
    {
     "name": "stdout",
     "output_type": "stream",
     "text": [
      "0\n"
     ]
    }
   ],
   "source": [
    "counter = 0\n",
    "\n",
    "for i in y_valid:\n",
    "    if i not in y_train:\n",
    "        counter += 1\n",
    "\n",
    "print(counter)"
   ]
  },
  {
   "cell_type": "markdown",
   "metadata": {},
   "source": [
    "# KNN"
   ]
  },
  {
   "cell_type": "markdown",
   "metadata": {},
   "source": [
    "Following the tutorial at: https://towardsdatascience.com/knn-using-scikit-learn-c6bed765be75"
   ]
  },
  {
   "cell_type": "code",
   "execution_count": 88,
   "metadata": {},
   "outputs": [],
   "source": [
    "#Import the KNeighborsCLassifier class from sklearn\n",
    "from sklearn.neighbors import KNeighborsClassifier\n",
    "\n",
    "#Import metrics model to check the accuracy\n",
    "from sklearn import metrics\n",
    "#Try running from k=1 through 25 and record testing accuracy\n",
    "k_range = range(1, 5)\n",
    "scores = {}\n",
    "scores_list = []\n",
    "for k in k_range:\n",
    "    knn = KNeighborsClassifier(n_neighbors = k)\n",
    "    knn.fit(X_train, y_train)\n",
    "    y_pred = knn.predict(X_valid)\n",
    "    scores[k] = metrics.accuracy_score(y_valid, y_pred)\n",
    "    scores_list.append(scores[k])"
   ]
  },
  {
   "cell_type": "code",
   "execution_count": null,
   "metadata": {},
   "outputs": [],
   "source": [
    "#Visualize K vs Accuracy"
   ]
  },
  {
   "cell_type": "code",
   "execution_count": 89,
   "metadata": {},
   "outputs": [
    {
     "data": {
      "text/plain": [
       "Text(0, 0.5, 'Validation Accuracy')"
      ]
     },
     "execution_count": 89,
     "metadata": {},
     "output_type": "execute_result"
    },
    {
     "data": {
      "image/png": "[encoded data removed]",
      "text/plain": [
       "<Figure size 432x288 with 1 Axes>"
      ]
     },
     "metadata": {
      "needs_background": "light"
     },
     "output_type": "display_data"
    }
   ],
   "source": [
    "%matplotlib inline\n",
    "import matplotlib.pyplot as plt\n",
    "\n",
    "#Plot relationship between K and accuracy\n",
    "plt.plot(k_range, scores_list)\n",
    "plt.xlabel('Value of K for KNN')\n",
    "plt.ylabel('Validation Accuracy')"
   ]
  },
  {
   "cell_type": "markdown",
   "metadata": {},
   "source": [
    "**Final model with k=3**"
   ]
  },
  {
   "cell_type": "code",
   "execution_count": 15,
   "metadata": {},
   "outputs": [
    {
     "data": {
      "text/plain": [
       "KNeighborsClassifier(algorithm='auto', leaf_size=30, metric='minkowski',\n",
       "                     metric_params=None, n_jobs=None, n_neighbors=3, p=2,\n",
       "                     weights='uniform')"
      ]
     },
     "execution_count": 15,
     "metadata": {},
     "output_type": "execute_result"
    }
   ],
   "source": [
    "knn = KNeighborsClassifier(n_neighbors=3)\n",
    "knn.fit(X, y)"
   ]
  },
  {
   "cell_type": "code",
   "execution_count": 16,
   "metadata": {},
   "outputs": [
    {
     "name": "stdout",
     "output_type": "stream",
     "text": [
      "defaultdict(<class 'int'>, {'class': 0, 'hotkey6': 1.1234285714285597, 'hotkey1': 0.4400000000000036, 'hotkey0': 0.9817142857142777, 'hotkey2': 0.08799999999999987, 'hotkey9': 0.03999999999999999, 'hotkey7': 0.053714285714285666, 'hotkey3': 0.005714285714285715})\n"
     ]
    }
   ],
   "source": [
    "#Open TEST file and prepare TEST data\n",
    "csv_file = '../data/TEST.CSV'\n",
    "with open(csv_file, newline='') as csv_text:\n",
    "    test_reader = csv.reader(csv_text, delimiter=',')\n",
    "    test_data = []\n",
    "    \n",
    "    for row in test_reader:\n",
    "        \n",
    "        test_dict = defaultdict(int)\n",
    "        test_dict['class'] = CLASSES[row[0]] #On prend deja le numero\n",
    "        t = 0\n",
    "        for i in range(1, len(row)-1):\n",
    "            if 'hotkey' in row[len(row)-i] and t != 0:\n",
    "                test_dict[row[len(row)-i][:-1]] += 1/t\n",
    "            if 't' in row[len(row)-i][0] and t==0:\n",
    "                t = int(row[len(row)-i][1:])\n",
    "        test_data.append(test_dict)\n",
    "    print(test_data[0])"
   ]
  },
  {
   "cell_type": "code",
   "execution_count": 17,
   "metadata": {},
   "outputs": [],
   "source": [
    "#Testing\n",
    "df_testX = pd.DataFrame(test_data, columns=csv_keys) \n",
    "X_test = df_testX.fillna(0).values\n",
    "\n",
    "y_predict = knn.predict(X_test)"
   ]
  },
  {
   "cell_type": "code",
   "execution_count": 18,
   "metadata": {},
   "outputs": [
    {
     "data": {
      "text/html": [
       "<div>\n",
       "<style scoped>\n",
       "    .dataframe tbody tr th:only-of-type {\n",
       "        vertical-align: middle;\n",
       "    }\n",
       "\n",
       "    .dataframe tbody tr th {\n",
       "        vertical-align: top;\n",
       "    }\n",
       "\n",
       "    .dataframe thead th {\n",
       "        text-align: right;\n",
       "    }\n",
       "</style>\n",
       "<table border=\"1\" class=\"dataframe\">\n",
       "  <thead>\n",
       "    <tr style=\"text-align: right;\">\n",
       "      <th></th>\n",
       "      <th>0</th>\n",
       "      <th>1</th>\n",
       "    </tr>\n",
       "  </thead>\n",
       "  <tbody>\n",
       "    <tr>\n",
       "      <th>0</th>\n",
       "      <td>1</td>\n",
       "      <td>http://eu.battle.net/sc2/en/profile/3538115/1/...</td>\n",
       "    </tr>\n",
       "    <tr>\n",
       "      <th>1</th>\n",
       "      <td>2</td>\n",
       "      <td>http://eu.battle.net/sc2/en/profile/2896854/1/...</td>\n",
       "    </tr>\n",
       "    <tr>\n",
       "      <th>2</th>\n",
       "      <td>3</td>\n",
       "      <td>http://eu.battle.net/sc2/en/profile/3973341/1/...</td>\n",
       "    </tr>\n",
       "    <tr>\n",
       "      <th>3</th>\n",
       "      <td>4</td>\n",
       "      <td>http://eu.battle.net/sc2/en/profile/250458/1/V...</td>\n",
       "    </tr>\n",
       "    <tr>\n",
       "      <th>4</th>\n",
       "      <td>5</td>\n",
       "      <td>http://eu.battle.net/sc2/en/profile/950504/1/G...</td>\n",
       "    </tr>\n",
       "  </tbody>\n",
       "</table>\n",
       "</div>"
      ],
      "text/plain": [
       "   0                                                  1\n",
       "0  1  http://eu.battle.net/sc2/en/profile/3538115/1/...\n",
       "1  2  http://eu.battle.net/sc2/en/profile/2896854/1/...\n",
       "2  3  http://eu.battle.net/sc2/en/profile/3973341/1/...\n",
       "3  4  http://eu.battle.net/sc2/en/profile/250458/1/V...\n",
       "4  5  http://eu.battle.net/sc2/en/profile/950504/1/G..."
      ]
     },
     "execution_count": 18,
     "metadata": {},
     "output_type": "execute_result"
    }
   ],
   "source": [
    "#Save predictions\n",
    "predictions_formatted = []\n",
    "\n",
    "for i, value in enumerate(y_predict, 1):\n",
    "    predictions_formatted.append([i, value])\n",
    "\n",
    "df_predict = pd.DataFrame(predictions_formatted)\n",
    "df_predict.head()"
   ]
  },
  {
   "cell_type": "code",
   "execution_count": 19,
   "metadata": {},
   "outputs": [],
   "source": [
    "import os\n",
    "#Remove if exists\n",
    "submission_path = '../data/submission.csv'\n",
    "if os.path.exists(submission_path):\n",
    "    os.remove(submission_path)\n",
    "df_predict.to_csv(submission_path, header=['RowId','prediction'], mode='w', index=False)"
   ]
  },
  {
   "cell_type": "markdown",
   "metadata": {},
   "source": [
    "# RNN\n",
    "C'est parallelizable et on peut donner des poids et détecter des outliers"
   ]
  },
  {
   "cell_type": "code",
   "execution_count": 20,
   "metadata": {},
   "outputs": [],
   "source": [
    "#Load libraries\n",
    "from sklearn.neighbors import RadiusNeighborsClassifier\n",
    "from sklearn.preprocessing import StandardScaler"
   ]
  },
  {
   "cell_type": "code",
   "execution_count": 67,
   "metadata": {},
   "outputs": [],
   "source": [
    "#Train a radius neighbors classifier\n",
    "#rnn = RadiusNeighborsClassifier(radius = 0.5, n_jobs = -1).fit(X_std, y_valid)\n",
    "\n",
    "#Import metrics model to check the accuracy\n",
    "from sklearn import metrics\n",
    "#Try running from r=0.5 through 10 with a step of 0.5 and record testing accuracy\n",
    "step = 0.25\n",
    "r_range = range(17)\n",
    "scores = {}\n",
    "scores_list = []\n",
    "for r in r_range:\n",
    "    rnn = RadiusNeighborsClassifier(radius = (r*step), n_jobs = 1)\n",
    "    rnn.fit(X_train, y_train)\n",
    "    try:\n",
    "        y_pred = rnn.predict(X_valid)\n",
    "    except ValueError:\n",
    "        y_pred = []\n",
    "        for _ in range(len(y_valid)):\n",
    "            y_pred.append('null')\n",
    "    scores[r] = metrics.accuracy_score(y_valid, y_pred)\n",
    "    scores_list.append(scores[r])"
   ]
  },
  {
   "cell_type": "code",
   "execution_count": 68,
   "metadata": {},
   "outputs": [
    {
     "data": {
      "text/plain": [
       "Text(0, 0.5, 'Validation Accuracy')"
      ]
     },
     "execution_count": 68,
     "metadata": {},
     "output_type": "execute_result"
    },
    {
     "data": {
      "image/png": "[encoded data removed]",
      "text/plain": [
       "<Figure size 432x288 with 1 Axes>"
      ]
     },
     "metadata": {
      "needs_background": "light"
     },
     "output_type": "display_data"
    }
   ],
   "source": [
    "#Visualize R vs Accuracy\n",
    "%matplotlib inline\n",
    "import matplotlib.pyplot as plt\n",
    "\n",
    "#Plot relationship between R and accuracy\n",
    "a = [item*step for item in r_range]\n",
    "plt.plot(a, scores_list)\n",
    "plt.xlabel('Value of R for RNN')\n",
    "plt.ylabel('Validation Accuracy')"
   ]
  }
 ],
 "metadata": {
  "kernelspec": {
   "display_name": "Python 3",
   "language": "python",
   "name": "python3"
  },
  "language_info": {
   "codemirror_mode": {
    "name": "ipython",
    "version": 3
   },
   "file_extension": ".py",
   "mimetype": "text/x-python",
   "name": "python",
   "nbconvert_exporter": "python",
   "pygments_lexer": "ipython3",
   "version": "3.7.4"
  }
 },
 "nbformat": 4,
 "nbformat_minor": 1
}
