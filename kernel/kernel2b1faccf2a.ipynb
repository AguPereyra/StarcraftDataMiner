{
 "cells": [
  {
   "cell_type": "code",
   "execution_count": 1,
   "metadata": {
    "_cell_guid": "b1076dfc-b9ad-4769-8c92-a6c4dae69d19",
    "_uuid": "8f2839f25d086af736a60e9eeb907d3b93b6e0e5"
   },
   "outputs": [
    {
     "name": "stdout",
     "output_type": "stream",
     "text": [
      "../data/starcraft-2-player-prediction-challenge-2019.zip\n",
      "../data/input/SAMPLE_SUBMISSION.CSV\n",
      "../data/input/TEST.CSV\n",
      "../data/input/TEST_LONG.CSV\n",
      "../data/input/TRAIN.CSV\n",
      "../data/input/TRAIN_LONG.CSV\n",
      "../data/output/submission.csv\n",
      "../data/output/charts/.png\n",
      "../data/output/charts/v1.png\n"
     ]
    }
   ],
   "source": [
    "# This Python 3 environment comes with many helpful analytics libraries installed\n",
    "# It is defined by the kaggle/python docker image: https://github.com/kaggle/docker-python\n",
    "# For example, here's several helpful packages to load in \n",
    "\n",
    "import numpy as np # linear algebra\n",
    "import pandas as pd # data processing, CSV file I/O (e.g. pd.read_csv)\n",
    "\n",
    "# Input data files are available in the \"../input/\" directory.\n",
    "# For example, running this (by clicking run or pressing Shift+Enter) will list all files under the input directory\n",
    "\n",
    "import os\n",
    "for dirname, _, filenames in os.walk('../data/'):\n",
    "    for filename in filenames:\n",
    "        print(os.path.join(dirname, filename))\n",
    "\n",
    "# Any results you write to the current directory are saved as output."
   ]
  },
  {
   "cell_type": "markdown",
   "metadata": {},
   "source": [
    "Important definitions"
   ]
  },
  {
   "cell_type": "code",
   "execution_count": 2,
   "metadata": {},
   "outputs": [],
   "source": [
    "#To be sure that we get all the right keys\n",
    "CSV_KEYS = ['id', 'class', 's', 'sBase', 'sMineral', 'ord_representation']\n",
    "for i in range(10):\n",
    "    CSV_KEYS.append('hotkey' + str(i))\n",
    "\n",
    "#Define map class->value\n",
    "CLASSES = {}\n",
    "\n",
    "#Zerg -> 0\n",
    "#Protoss -> 1\n",
    "#Terran -> 2\n",
    "CLASSES['Zerg'] = 0\n",
    "CLASSES['Protoss'] = 1\n",
    "CLASSES['Terran'] = 2\n",
    "\n",
    "#Define Directories\n",
    "OUTPUT = '../data/output'\n",
    "OUTPUT_SUB = OUTPUT\n",
    "OUTPUT_CHARTS = OUTPUT + '/charts/'\n",
    "INPUT = '../data/input'\n",
    "INPUT_TRAIN = INPUT + '/TRAIN.CSV'\n",
    "INPUT_TEST = INPUT + '/TEST.CSV'"
   ]
  },
  {
   "cell_type": "markdown",
   "metadata": {},
   "source": [
    "Functions to get clean data"
   ]
  },
  {
   "cell_type": "code",
   "execution_count": 3,
   "metadata": {},
   "outputs": [],
   "source": [
    "import csv\n",
    "from collections import defaultdict\n",
    "\n",
    "def zero_dict():\n",
    "    new_dict = {}\n",
    "    #Initialize to zero\n",
    "    for i in CSV_KEYS:\n",
    "        new_dict[i] = 0\n",
    "    return new_dict\n",
    "\n",
    "def get_train_data(csv_file=INPUT_TRAIN):\n",
    "    \n",
    "    with open(csv_file, newline='') as csv_text:\n",
    "        cvs_reader = csv.reader(csv_text, delimiter=',')\n",
    "        data = []\n",
    "        ids = []\n",
    "        #Representation des actions faites dans l'ordre\n",
    "        ord_representation = ''\n",
    "        \n",
    "        for row in cvs_reader:\n",
    "\n",
    "            #Initialize to zero\n",
    "            csv_dict = zero_dict()\n",
    "                \n",
    "            csv_dict['id'] = row[0]\n",
    "            ids.append(row[0])\n",
    "            csv_dict['class'] = CLASSES[row[1]]\n",
    "            t = 0\n",
    "            for i in range(1, len(row)-2):\n",
    "                if 'hotkey' in row[len(row)-i] and t != 0:\n",
    "                    csv_dict[row[len(row)-i][:-1]] += 1/t\n",
    "                    \n",
    "                if 'Base' in row[len(row)-i] and t != 0:\n",
    "                    csv_dict['sBase'] += 1/t\n",
    "                    \n",
    "                if 'Mineral' in row[len(row)-i] and t != 0:\n",
    "                    csv_dict['sMineral'] += 1/t\n",
    "                    \n",
    "                if 's' == row[len(row)-i] and t != 0:\n",
    "                    csv_dict['s'] += 1/t\n",
    "                    \n",
    "                if 't' in row[len(row)-i][0] and t==0:\n",
    "                    t = int(row[len(row)-i][1:])\n",
    "            csv_dict['ord_representation'] = hash(ord_representation) #Faire integer\n",
    "            data.append(csv_dict)\n",
    "        return (data, ids)\n",
    "\n",
    "def get_test_data(csv_file=INPUT_TEST):\n",
    "    with open(csv_file, newline='') as csv_text:\n",
    "        cvs_reader = csv.reader(csv_text, delimiter=',')\n",
    "        data = []\n",
    "        #Representation des actions faites dans l'ordre\n",
    "        ord_representation = ''\n",
    "        \n",
    "        for row in cvs_reader:\n",
    "\n",
    "            #Initialize to zero\n",
    "            csv_dict = zero_dict()\n",
    "            \n",
    "            csv_dict['class'] = CLASSES[row[0]]\n",
    "            t = 0\n",
    "            for i in range(1, len(row)-1):\n",
    "                if 'hotkey' in row[len(row)-i] and t != 0:\n",
    "                    csv_dict[row[len(row)-i][:-1]] += 1/t\n",
    "                    ord_representation += row[len(row)-i][:-1]#Seulement representer l'ordre des hotkeys, qui sont la majorite\n",
    "                \n",
    "                if 'Base' in row[len(row)-i] and t != 0:\n",
    "                    csv_dict['sBase'] += 1/t\n",
    "                    \n",
    "                if 'Mineral' in row[len(row)-i] and t != 0:\n",
    "                    csv_dict['sMineral'] += 1/t\n",
    "                    \n",
    "                if 's' == row[len(row)-i] and t != 0:\n",
    "                    csv_dict['s'] += 1/t\n",
    "                    \n",
    "                if 't' in row[len(row)-i][0] and t==0:\n",
    "                    t = int(row[len(row)-i][1:])\n",
    "            csv_dict['ord_representation'] = hash(ord_representation) #Faire integer\n",
    "            data.append(csv_dict)\n",
    "        return data"
   ]
  },
  {
   "cell_type": "code",
   "execution_count": 4,
   "metadata": {},
   "outputs": [],
   "source": [
    "data, ids = get_train_data()"
   ]
  },
  {
   "cell_type": "code",
   "execution_count": 5,
   "metadata": {
    "_cell_guid": "79c7e3d0-c299-4dcb-8224-4455121ee9b0",
    "_uuid": "d629ff2d2480ee46fbb7e2d37f6b5fab8052498a",
    "scrolled": false
   },
   "outputs": [
    {
     "name": "stdout",
     "output_type": "stream",
     "text": [
      "3052\n",
      "{'id': 'http://eu.battle.net/sc2/en/profile/3074362/1/Stardust/', 'class': 1, 's': 0.3244712990936581, 'sBase': 0.0072507552870090634, 'sMineral': 0, 'ord_representation': 0, 'hotkey0': 0.05135951661631414, 'hotkey1': 0.3111782477341414, 'hotkey2': 0.1389728096676744, 'hotkey3': 0.210876132930515, 'hotkey4': 0.18791540785498606, 'hotkey5': 0, 'hotkey6': 0, 'hotkey7': 0, 'hotkey8': 0.010271903323262836, 'hotkey9': 0.011480362537764344}\n"
     ]
    },
    {
     "data": {
      "text/html": [
       "<div>\n",
       "<style scoped>\n",
       "    .dataframe tbody tr th:only-of-type {\n",
       "        vertical-align: middle;\n",
       "    }\n",
       "\n",
       "    .dataframe tbody tr th {\n",
       "        vertical-align: top;\n",
       "    }\n",
       "\n",
       "    .dataframe thead th {\n",
       "        text-align: right;\n",
       "    }\n",
       "</style>\n",
       "<table border=\"1\" class=\"dataframe\">\n",
       "  <thead>\n",
       "    <tr style=\"text-align: right;\">\n",
       "      <th></th>\n",
       "      <th>id</th>\n",
       "      <th>class</th>\n",
       "      <th>s</th>\n",
       "      <th>sBase</th>\n",
       "      <th>sMineral</th>\n",
       "      <th>ord_representation</th>\n",
       "      <th>hotkey0</th>\n",
       "      <th>hotkey1</th>\n",
       "      <th>hotkey2</th>\n",
       "      <th>hotkey3</th>\n",
       "      <th>hotkey4</th>\n",
       "      <th>hotkey5</th>\n",
       "      <th>hotkey6</th>\n",
       "      <th>hotkey7</th>\n",
       "      <th>hotkey8</th>\n",
       "      <th>hotkey9</th>\n",
       "    </tr>\n",
       "  </thead>\n",
       "  <tbody>\n",
       "    <tr>\n",
       "      <th>0</th>\n",
       "      <td>http://eu.battle.net/sc2/en/profile/4234852/1/...</td>\n",
       "      <td>1</td>\n",
       "      <td>0.407251</td>\n",
       "      <td>0.039275</td>\n",
       "      <td>0.003021</td>\n",
       "      <td>0</td>\n",
       "      <td>0.027795</td>\n",
       "      <td>0.249547</td>\n",
       "      <td>0.134139</td>\n",
       "      <td>0.242900</td>\n",
       "      <td>0.157100</td>\n",
       "      <td>0.071299</td>\n",
       "      <td>0.012689</td>\n",
       "      <td>0.000604</td>\n",
       "      <td>0.000000</td>\n",
       "      <td>0.002417</td>\n",
       "    </tr>\n",
       "    <tr>\n",
       "      <th>1</th>\n",
       "      <td>http://eu.battle.net/sc2/en/profile/3074362/1/...</td>\n",
       "      <td>1</td>\n",
       "      <td>0.324471</td>\n",
       "      <td>0.007251</td>\n",
       "      <td>0.000000</td>\n",
       "      <td>0</td>\n",
       "      <td>0.051360</td>\n",
       "      <td>0.311178</td>\n",
       "      <td>0.138973</td>\n",
       "      <td>0.210876</td>\n",
       "      <td>0.187915</td>\n",
       "      <td>0.000000</td>\n",
       "      <td>0.000000</td>\n",
       "      <td>0.000000</td>\n",
       "      <td>0.010272</td>\n",
       "      <td>0.011480</td>\n",
       "    </tr>\n",
       "    <tr>\n",
       "      <th>2</th>\n",
       "      <td>http://eu.battle.net/sc2/en/profile/4234852/1/...</td>\n",
       "      <td>1</td>\n",
       "      <td>0.425743</td>\n",
       "      <td>0.045545</td>\n",
       "      <td>0.002970</td>\n",
       "      <td>0</td>\n",
       "      <td>0.020792</td>\n",
       "      <td>0.145545</td>\n",
       "      <td>0.133663</td>\n",
       "      <td>0.317822</td>\n",
       "      <td>0.135644</td>\n",
       "      <td>0.090099</td>\n",
       "      <td>0.011881</td>\n",
       "      <td>0.000000</td>\n",
       "      <td>0.000000</td>\n",
       "      <td>0.003960</td>\n",
       "    </tr>\n",
       "    <tr>\n",
       "      <th>3</th>\n",
       "      <td>http://eu.battle.net/sc2/en/profile/3074362/1/...</td>\n",
       "      <td>1</td>\n",
       "      <td>0.395025</td>\n",
       "      <td>0.019900</td>\n",
       "      <td>0.000000</td>\n",
       "      <td>0</td>\n",
       "      <td>0.039801</td>\n",
       "      <td>0.289552</td>\n",
       "      <td>0.083582</td>\n",
       "      <td>0.249751</td>\n",
       "      <td>0.284577</td>\n",
       "      <td>0.000000</td>\n",
       "      <td>0.000000</td>\n",
       "      <td>0.000000</td>\n",
       "      <td>0.000000</td>\n",
       "      <td>0.014925</td>\n",
       "    </tr>\n",
       "    <tr>\n",
       "      <th>4</th>\n",
       "      <td>http://eu.battle.net/sc2/en/profile/4234852/1/...</td>\n",
       "      <td>1</td>\n",
       "      <td>0.385185</td>\n",
       "      <td>0.001852</td>\n",
       "      <td>0.000000</td>\n",
       "      <td>0</td>\n",
       "      <td>0.001852</td>\n",
       "      <td>0.114815</td>\n",
       "      <td>0.081481</td>\n",
       "      <td>0.372222</td>\n",
       "      <td>0.159259</td>\n",
       "      <td>0.027778</td>\n",
       "      <td>0.000000</td>\n",
       "      <td>0.000000</td>\n",
       "      <td>0.000000</td>\n",
       "      <td>0.000000</td>\n",
       "    </tr>\n",
       "  </tbody>\n",
       "</table>\n",
       "</div>"
      ],
      "text/plain": [
       "                                                  id  class         s  \\\n",
       "0  http://eu.battle.net/sc2/en/profile/4234852/1/...      1  0.407251   \n",
       "1  http://eu.battle.net/sc2/en/profile/3074362/1/...      1  0.324471   \n",
       "2  http://eu.battle.net/sc2/en/profile/4234852/1/...      1  0.425743   \n",
       "3  http://eu.battle.net/sc2/en/profile/3074362/1/...      1  0.395025   \n",
       "4  http://eu.battle.net/sc2/en/profile/4234852/1/...      1  0.385185   \n",
       "\n",
       "      sBase  sMineral  ord_representation   hotkey0   hotkey1   hotkey2  \\\n",
       "0  0.039275  0.003021                   0  0.027795  0.249547  0.134139   \n",
       "1  0.007251  0.000000                   0  0.051360  0.311178  0.138973   \n",
       "2  0.045545  0.002970                   0  0.020792  0.145545  0.133663   \n",
       "3  0.019900  0.000000                   0  0.039801  0.289552  0.083582   \n",
       "4  0.001852  0.000000                   0  0.001852  0.114815  0.081481   \n",
       "\n",
       "    hotkey3   hotkey4   hotkey5   hotkey6   hotkey7   hotkey8   hotkey9  \n",
       "0  0.242900  0.157100  0.071299  0.012689  0.000604  0.000000  0.002417  \n",
       "1  0.210876  0.187915  0.000000  0.000000  0.000000  0.010272  0.011480  \n",
       "2  0.317822  0.135644  0.090099  0.011881  0.000000  0.000000  0.003960  \n",
       "3  0.249751  0.284577  0.000000  0.000000  0.000000  0.000000  0.014925  \n",
       "4  0.372222  0.159259  0.027778  0.000000  0.000000  0.000000  0.000000  "
      ]
     },
     "execution_count": 5,
     "metadata": {},
     "output_type": "execute_result"
    }
   ],
   "source": [
    "#Only for visualization purposes\n",
    "print(len(data))\n",
    "print(data[1])\n",
    "df = pd.DataFrame(data, columns=CSV_KEYS) \n",
    "df.head().fillna(0)"
   ]
  },
  {
   "cell_type": "markdown",
   "metadata": {},
   "source": [
    "# Stratify Sampling"
   ]
  },
  {
   "cell_type": "markdown",
   "metadata": {},
   "source": [
    "Cleaning data"
   ]
  },
  {
   "cell_type": "code",
   "execution_count": 6,
   "metadata": {},
   "outputs": [
    {
     "name": "stdout",
     "output_type": "stream",
     "text": [
      "{'class': 1, 's': 0.40725075528701243, 'sBase': 0.03927492447129905, 'sMineral': 0.0030211480362537764, 'ord_representation': 0, 'hotkey0': 0.027794561933534714, 'hotkey1': 0.24954682779456372, 'hotkey2': 0.1341389728096683, 'hotkey3': 0.24290030211480534, 'hotkey4': 0.15709969788519723, 'hotkey5': 0.07129909365558913, 'hotkey6': 0.012688821752265853, 'hotkey7': 0.0006042296072507553, 'hotkey8': 0, 'hotkey9': 0.002416918429003021} {'class': 0, 's': 1.1153846153846116, 'sBase': 0.012820512820512825, 'sMineral': 0, 'ord_representation': 0, 'hotkey0': 0, 'hotkey1': 0.3880341880341868, 'hotkey2': 0.17264957264957217, 'hotkey3': 0.03247863247863249, 'hotkey4': 0.4401709401709388, 'hotkey5': 0.01367521367521368, 'hotkey6': 0, 'hotkey7': 0, 'hotkey8': 0, 'hotkey9': 0}\n",
      "3052\n",
      "<class 'list'>\n"
     ]
    }
   ],
   "source": [
    "#Separate Labels from features\n",
    "features = []\n",
    "\n",
    "for sample in data:\n",
    "    dict_temp = {}\n",
    "    #New dictionary without the label\n",
    "    for key, value in sample.items():\n",
    "        if key != 'id':\n",
    "            dict_temp[key] = value\n",
    "    #Append to features list\n",
    "    features.append(dict_temp)\n",
    "print(features[0], features[19])\n",
    "print(len(ids))\n",
    "print(type(ids))\n",
    "    "
   ]
  },
  {
   "cell_type": "markdown",
   "metadata": {},
   "source": [
    "Split"
   ]
  },
  {
   "cell_type": "code",
   "execution_count": 7,
   "metadata": {},
   "outputs": [],
   "source": [
    "from sklearn.model_selection import train_test_split\n",
    "\n",
    "df_X = pd.DataFrame(features, columns=CSV_KEYS) \n",
    "X = df_X.fillna(0).values\n",
    "y = np.asarray(ids)\n",
    "\n",
    "X_train, X_valid, y_train, y_valid = train_test_split(X, y, test_size=0.2, shuffle=True, stratify=ids)"
   ]
  },
  {
   "cell_type": "markdown",
   "metadata": {},
   "source": [
    "*Test if we have correct distribution*"
   ]
  },
  {
   "cell_type": "code",
   "execution_count": 8,
   "metadata": {},
   "outputs": [
    {
     "name": "stdout",
     "output_type": "stream",
     "text": [
      "0\n"
     ]
    }
   ],
   "source": [
    "counter = 0\n",
    "\n",
    "for i in y_valid:\n",
    "    if i not in y_train:\n",
    "        counter += 1\n",
    "\n",
    "print(counter)"
   ]
  },
  {
   "cell_type": "markdown",
   "metadata": {},
   "source": [
    "# KNN"
   ]
  },
  {
   "cell_type": "markdown",
   "metadata": {},
   "source": [
    "Following the tutorial at: https://towardsdatascience.com/knn-using-scikit-learn-c6bed765be75"
   ]
  },
  {
   "cell_type": "code",
   "execution_count": 9,
   "metadata": {},
   "outputs": [],
   "source": [
    "#Import the KNeighborsCLassifier class from sklearn\n",
    "from sklearn.neighbors import KNeighborsClassifier\n",
    "\n",
    "#Import metrics model to check the mean f1\n",
    "from sklearn import metrics\n",
    "#Try running from k=1 through 50 and record testing accuracy\n",
    "k_range = range(1, 51)\n",
    "scores = {}\n",
    "scores_list = []\n",
    "for k in k_range:\n",
    "    knn = KNeighborsClassifier(n_neighbors = k)\n",
    "    knn.fit(X_train, y_train)\n",
    "    y_pred = knn.predict(X_valid)\n",
    "    scores[k] = metrics.f1_score(y_valid, y_pred, average='micro')\n",
    "    scores_list.append(scores[k])"
   ]
  },
  {
   "cell_type": "code",
   "execution_count": 12,
   "metadata": {},
   "outputs": [],
   "source": [
    "max_k = max(scores)\n"
   ]
  },
  {
   "cell_type": "markdown",
   "metadata": {},
   "source": [
    "#Visualize K vs F1 MICRO"
   ]
  },
  {
   "cell_type": "code",
   "execution_count": 11,
   "metadata": {},
   "outputs": [
    {
     "data": {
      "image/png": "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\n",
      "text/plain": [
       "<Figure size 432x288 with 1 Axes>"
      ]
     },
     "metadata": {
      "needs_background": "light"
     },
     "output_type": "display_data"
    }
   ],
   "source": [
    "%matplotlib inline\n",
    "import matplotlib.pyplot as plt\n",
    "\n",
    "#fig_name = 'v1.png'\n",
    "\n",
    "#Plot relationship between K and F1 MICRO\n",
    "plt.plot(k_range, scores_list)\n",
    "plt.xlabel('Value of K for KNN')\n",
    "plt.ylabel('Validation F1 MICRO')\n",
    "\n",
    "#Sauvegarder les graphes pour futures comparaisons\n",
    "plt.savefig(OUTPUT_CHARTS + fig_name)"
   ]
  },
  {
   "cell_type": "markdown",
   "metadata": {},
   "source": [
    "**Final model with k=3**"
   ]
  },
  {
   "cell_type": "code",
   "execution_count": null,
   "metadata": {},
   "outputs": [],
   "source": [
    "knn = KNeighborsClassifier(n_neighbors=1)\n",
    "knn.fit(X, y)"
   ]
  },
  {
   "cell_type": "code",
   "execution_count": null,
   "metadata": {},
   "outputs": [],
   "source": [
    "#Open TEST file and prepare TEST data\n",
    "test_data = get_test_data()\n",
    "print(test_data[0])"
   ]
  },
  {
   "cell_type": "code",
   "execution_count": null,
   "metadata": {},
   "outputs": [],
   "source": [
    "#Testing\n",
    "df_testX = pd.DataFrame(test_data, columns=CSV_KEYS) \n",
    "X_test = df_testX.fillna(0).values\n",
    "\n",
    "y_predict = knn.predict(X_test)"
   ]
  },
  {
   "cell_type": "code",
   "execution_count": null,
   "metadata": {},
   "outputs": [],
   "source": [
    "#Save predictions\n",
    "predictions_formatted = []\n",
    "\n",
    "for i, value in enumerate(y_predict, 1):\n",
    "    predictions_formatted.append([i, value])\n",
    "\n",
    "df_predict = pd.DataFrame(predictions_formatted)\n",
    "df_predict.head()\n",
    "\n",
    "import os\n",
    "#Remove if exists\n",
    "if os.path.exists(OUTPUT_SUB):\n",
    "    os.remove(OUTPUT_SUB)\n",
    "df_predict.to_csv(submission_path, header=['RowId','prediction'], mode='w', index=False)"
   ]
  }
 ],
 "metadata": {
  "kernelspec": {
   "display_name": "Python 3",
   "language": "python",
   "name": "python3"
  },
  "language_info": {
   "codemirror_mode": {
    "name": "ipython",
    "version": 3
   },
   "file_extension": ".py",
   "mimetype": "text/x-python",
   "name": "python",
   "nbconvert_exporter": "python",
   "pygments_lexer": "ipython3",
<<<<<<< Updated upstream
   "version": "3.8.0"
=======
   "version": "3.7.5"
>>>>>>> Stashed changes
  }
 },
 "nbformat": 4,
 "nbformat_minor": 1
}
