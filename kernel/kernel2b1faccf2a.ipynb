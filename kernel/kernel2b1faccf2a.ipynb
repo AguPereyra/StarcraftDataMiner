{
 "cells": [
  {
   "cell_type": "markdown",
   "metadata": {},
   "source": [
    "## mehdikaytoue, renomer le fichier suivie du numero de fichier"
   ]
  },
  {
   "cell_type": "code",
   "execution_count": 27,
   "metadata": {
    "_cell_guid": "b1076dfc-b9ad-4769-8c92-a6c4dae69d19",
    "_uuid": "8f2839f25d086af736a60e9eeb907d3b93b6e0e5"
   },
   "outputs": [
    {
     "name": "stdout",
     "output_type": "stream",
     "text": [
      "../data/starcraft-2-player-prediction-challenge-2019.zip\n",
      "../data/input/SAMPLE_SUBMISSION.CSV\n",
      "../data/input/TEST.CSV\n",
      "../data/input/TEST_LONG.CSV\n",
      "../data/input/TRAIN.CSV\n",
      "../data/input/TRAIN_LONG.CSV\n",
      "../data/output/submission.csv\n",
      "../data/output/charts/.png\n",
      "../data/output/charts/v1.png\n",
      "../data/output/charts/v1_historic_only.png\n",
      "../data/output/charts/v2_historic_only.png\n",
      "../data/output/charts/v3_historic_only.png\n",
      "../data/output/charts/v4_historic_only.png\n"
     ]
    }
   ],
   "source": [
    "# This Python 3 environment comes with many helpful analytics libraries installed\n",
    "# It is defined by the kaggle/python docker image: https://github.com/kaggle/docker-python\n",
    "# For example, here's several helpful packages to load in \n",
    "\n",
    "import numpy as np # linear algebra\n",
    "import pandas as pd # data processing, CSV file I/O (e.g. pd.read_csv)\n",
    "\n",
    "# Input data files are available in the \"../input/\" directory.\n",
    "# For example, running this (by clicking run or pressing Shift+Enter) will list all files under the input directory\n",
    "\n",
    "import os\n",
    "for dirname, _, filenames in os.walk('../data/'):\n",
    "    for filename in filenames:\n",
    "        print(os.path.join(dirname, filename))\n",
    "\n",
    "# Any results you write to the current directory are saved as output."
   ]
  },
  {
   "cell_type": "markdown",
   "metadata": {},
   "source": [
    "Important definitions"
   ]
  },
  {
   "cell_type": "code",
   "execution_count": 28,
   "metadata": {},
   "outputs": [],
   "source": [
    "#To be sure that we get all the right keys\n",
    "CSV_KEYS = ['id', 'class', 's', 'sBase', 'sMineral', 'order']\n",
    "for i in range(10):\n",
    "    CSV_KEYS.append('hotkey' + str(i))\n",
    "\n",
    "#Define map class->value\n",
    "CLASSES = {}\n",
    "\n",
    "#Zerg -> 0\n",
    "#Protoss -> 1\n",
    "#Terran -> 2\n",
    "CLASSES['Zerg'] = 0\n",
    "CLASSES['Protoss'] = 1\n",
    "CLASSES['Terran'] = 2\n",
    "\n",
    "#Define Directories\n",
    "OUTPUT = '../data/output'\n",
    "OUTPUT_SUB = OUTPUT + '/submission.csv'\n",
    "OUTPUT_CHARTS = OUTPUT + '/charts/'\n",
    "INPUT = '../data/input'\n",
    "INPUT_TRAIN = INPUT + '/TRAIN.CSV'\n",
    "INPUT_TEST = INPUT + '/TEST.CSV'\n",
    "\n",
    "#Define HISTORIC_KEYS\n",
    "HISTORIC_KEYS = {'2':[], '3':[]}\n",
    "for i in range(10):\n",
    "    for j in range(10):\n",
    "        HISTORIC_KEYS['2'].append( str(i) + str(j) )\n",
    "        \n",
    "for i in range(10):\n",
    "    for j in range(10):\n",
    "        for k in range(10):\n",
    "            HISTORIC_KEYS['3'].append( str(i) + str(j) + str(k) )"
   ]
  },
  {
   "cell_type": "markdown",
   "metadata": {},
   "source": [
    "Functions to get clean data"
   ]
  },
  {
   "cell_type": "code",
   "execution_count": 29,
   "metadata": {},
   "outputs": [],
   "source": [
    "import csv\n",
    "from collections import defaultdict\n",
    "\n",
    "def zero_dict():\n",
    "    new_dict = {}\n",
    "    #Initialize to zero\n",
    "    for i in CSV_KEYS:\n",
    "        new_dict[i] = 0\n",
    "    return new_dict\n",
    "\n",
    "def get_train_data(csv_file=INPUT_TRAIN):\n",
    "    with open(csv_file, newline='') as csv_text:\n",
    "        cvs_reader = csv.reader(csv_text, delimiter=',')\n",
    "        data = []\n",
    "        ids = []\n",
    "        \n",
    "        for row in cvs_reader:\n",
    "\n",
    "            #Initialize to zero\n",
    "            csv_dict = zero_dict()\n",
    "            ord_representation = ''\n",
    "            csv_dict['id'] = row[0]\n",
    "            ids.append(row[0])\n",
    "            csv_dict['class'] = CLASSES[row[1]]\n",
    "            t = 0\n",
    "            for i in range(1, len(row)-2):\n",
    "                if 'hotkey' in row[len(row)-i] and t != 0:\n",
    "                    csv_dict[row[len(row)-i][:-1]] += 1/t\n",
    "                    ord_representation += row[len(row)-i][-2:-1]\n",
    "                    \n",
    "                if 'Base' in row[len(row)-i] and t != 0:\n",
    "                    csv_dict['sBase'] += 1/t\n",
    "                    \n",
    "                if 'Mineral' in row[len(row)-i] and t != 0:\n",
    "                    csv_dict['sMineral'] += 1/t\n",
    "                    \n",
    "                if 's' == row[len(row)-i] and t != 0:\n",
    "                    csv_dict['s'] += 1/t\n",
    "                    \n",
    "                if 't' in row[len(row)-i][0] and t==0:\n",
    "                    t = int(row[len(row)-i][1:])\n",
    "            csv_dict['order'] = ord_representation\n",
    "            data.append(csv_dict)\n",
    "        return (data, ids)\n",
    "    \n",
    "def get_test_data(csv_file=INPUT_TEST):\n",
    "    with open(csv_file, newline='') as csv_text:\n",
    "        cvs_reader = csv.reader(csv_text, delimiter=',')\n",
    "        data = []\n",
    "        \n",
    "        for row in cvs_reader:\n",
    "\n",
    "            #Initialize to zero\n",
    "            csv_dict = zero_dict()\n",
    "            ord_representation = ''\n",
    "            \n",
    "            csv_dict['class'] = CLASSES[row[0]]\n",
    "            t = 0\n",
    "            for i in range(1, len(row)-1):\n",
    "                if 'hotkey' in row[len(row)-i] and t != 0:\n",
    "                    csv_dict[row[len(row)-i][:-1]] += 1/t\n",
    "                    ord_representation += row[len(row)-i][-2:-1]\n",
    "                \n",
    "                if 'Base' in row[len(row)-i] and t != 0:\n",
    "                    csv_dict['sBase'] += 1/t\n",
    "                    \n",
    "                if 'Mineral' in row[len(row)-i] and t != 0:\n",
    "                    csv_dict['sMineral'] += 1/t\n",
    "                    \n",
    "                if 's' == row[len(row)-i] and t != 0:\n",
    "                    csv_dict['s'] += 1/t\n",
    "                    \n",
    "                if 't' in row[len(row)-i][0] and t==0:\n",
    "                    t = int(row[len(row)-i][1:])\n",
    "            csv_dict['order'] = ord_representation\n",
    "            data.append(csv_dict)\n",
    "        return data"
   ]
  },
  {
   "cell_type": "markdown",
   "metadata": {},
   "source": [
    "# Generate different features"
   ]
  },
  {
   "cell_type": "markdown",
   "metadata": {},
   "source": [
    "We are going to test five different combinations of features with KNN:\n",
    "1. The number of times the player used a given sequence of 2 keys\n",
    "2. The number of times the player used a given sequence of 3 keys\n",
    "3. Combination of 1 with 2\n",
    "4. Combination of 1 with 3"
   ]
  },
  {
   "cell_type": "code",
   "execution_count": 30,
   "metadata": {},
   "outputs": [],
   "source": [
    "##Only sequence features\n",
    "def generate_df_only_sequence(df=None, slice_size=2):\n",
    "    historic_by_id = []\n",
    "    window = slice_size-1\n",
    "\n",
    "    for idx, _ in df['order'].items():\n",
    "        historic_by_id.append(defaultdict(int))\n",
    "\n",
    "    for idx, value in df['order'].items():\n",
    "        for j in range(0, len(value)-window):\n",
    "            #Data is in the same order as ids's list\n",
    "            if slice_size == 2:\n",
    "                sequence = str(value[j]) + str(value[j+window])\n",
    "            elif slice_size == 3:\n",
    "                sequence = str(value[j]) + str(value[j+window-1]) + str(value[j+window])\n",
    "                \n",
    "            historic_by_id[ idx ][ sequence ] += 1\n",
    "            \n",
    "    df_X = pd.DataFrame(historic_by_id, columns=HISTORIC_KEYS[ str(slice_size) ]) \n",
    "    return df_X\n",
    "\n",
    "##Concat of basic and sequence features\n",
    "def generate_df_with_sequence(df=None, slice_size=2):\n",
    "    #Fusion boths data frames\n",
    "    df_historic = generate_df_only_sequence(df, slice_size)\n",
    "    df_X = pd.concat([df.drop(labels='order', axis=1), df_historic], axis=1, join='inner')\n",
    "    return df_X\n",
    "\n"
   ]
  },
  {
   "cell_type": "code",
   "execution_count": 32,
   "metadata": {},
   "outputs": [],
   "source": [
    "#0.\n",
    "data, ids = get_train_data()\n",
    "df_0 = pd.DataFrame(data, columns=CSV_KEYS) \n",
    "#1.\n",
    "df_1 = generate_df_only_sequence(df=df_0, slice_size=2)\n",
    "#2.\n",
    "df_2 = generate_df_only_sequence(df=df_0, slice_size=3)\n",
    "#3.\n",
    "df_3 = generate_df_with_sequence(df=df_0, slice_size=2)\n",
    "#4.\n",
    "df_4 = generate_df_with_sequence(df=df_0, slice_size=3)\n",
    "\n",
    "##Clean innecesary labels\n",
    "df_3 = df_3.drop(columns=['id'])\n",
    "df_4 = df_4.drop(columns=['id'])"
   ]
  },
  {
   "cell_type": "code",
   "execution_count": 33,
   "metadata": {},
   "outputs": [
    {
     "name": "stdout",
     "output_type": "stream",
     "text": [
      "1.\n",
      "\n"
     ]
    },
    {
     "data": {
      "text/html": [
       "<div>\n",
       "<style scoped>\n",
       "    .dataframe tbody tr th:only-of-type {\n",
       "        vertical-align: middle;\n",
       "    }\n",
       "\n",
       "    .dataframe tbody tr th {\n",
       "        vertical-align: top;\n",
       "    }\n",
       "\n",
       "    .dataframe thead th {\n",
       "        text-align: right;\n",
       "    }\n",
       "</style>\n",
       "<table border=\"1\" class=\"dataframe\">\n",
       "  <thead>\n",
       "    <tr style=\"text-align: right;\">\n",
       "      <th></th>\n",
       "      <th>00</th>\n",
       "      <th>01</th>\n",
       "      <th>02</th>\n",
       "      <th>03</th>\n",
       "      <th>04</th>\n",
       "      <th>05</th>\n",
       "      <th>06</th>\n",
       "      <th>07</th>\n",
       "      <th>08</th>\n",
       "      <th>09</th>\n",
       "      <th>...</th>\n",
       "      <th>90</th>\n",
       "      <th>91</th>\n",
       "      <th>92</th>\n",
       "      <th>93</th>\n",
       "      <th>94</th>\n",
       "      <th>95</th>\n",
       "      <th>96</th>\n",
       "      <th>97</th>\n",
       "      <th>98</th>\n",
       "      <th>99</th>\n",
       "    </tr>\n",
       "  </thead>\n",
       "  <tbody>\n",
       "    <tr>\n",
       "      <th>0</th>\n",
       "      <td>1.0</td>\n",
       "      <td>4.0</td>\n",
       "      <td>4.0</td>\n",
       "      <td>4.0</td>\n",
       "      <td>2.0</td>\n",
       "      <td>25.0</td>\n",
       "      <td>2.0</td>\n",
       "      <td>NaN</td>\n",
       "      <td>NaN</td>\n",
       "      <td>4.0</td>\n",
       "      <td>...</td>\n",
       "      <td>2.0</td>\n",
       "      <td>NaN</td>\n",
       "      <td>NaN</td>\n",
       "      <td>2.0</td>\n",
       "      <td>NaN</td>\n",
       "      <td>NaN</td>\n",
       "      <td>NaN</td>\n",
       "      <td>NaN</td>\n",
       "      <td>NaN</td>\n",
       "      <td>NaN</td>\n",
       "    </tr>\n",
       "  </tbody>\n",
       "</table>\n",
       "<p>1 rows × 100 columns</p>\n",
       "</div>"
      ],
      "text/plain": [
       "    00   01   02   03   04    05   06  07  08   09  ...   90  91  92   93  94  \\\n",
       "0  1.0  4.0  4.0  4.0  2.0  25.0  2.0 NaN NaN  4.0  ...  2.0 NaN NaN  2.0 NaN   \n",
       "\n",
       "   95  96  97  98  99  \n",
       "0 NaN NaN NaN NaN NaN  \n",
       "\n",
       "[1 rows x 100 columns]"
      ]
     },
     "metadata": {},
     "output_type": "display_data"
    },
    {
     "name": "stdout",
     "output_type": "stream",
     "text": [
      "\t-----------------------------------------------------------------------\n",
      "\n",
      "2.\n",
      "\n"
     ]
    },
    {
     "data": {
      "text/html": [
       "<div>\n",
       "<style scoped>\n",
       "    .dataframe tbody tr th:only-of-type {\n",
       "        vertical-align: middle;\n",
       "    }\n",
       "\n",
       "    .dataframe tbody tr th {\n",
       "        vertical-align: top;\n",
       "    }\n",
       "\n",
       "    .dataframe thead th {\n",
       "        text-align: right;\n",
       "    }\n",
       "</style>\n",
       "<table border=\"1\" class=\"dataframe\">\n",
       "  <thead>\n",
       "    <tr style=\"text-align: right;\">\n",
       "      <th></th>\n",
       "      <th>000</th>\n",
       "      <th>001</th>\n",
       "      <th>002</th>\n",
       "      <th>003</th>\n",
       "      <th>004</th>\n",
       "      <th>005</th>\n",
       "      <th>006</th>\n",
       "      <th>007</th>\n",
       "      <th>008</th>\n",
       "      <th>009</th>\n",
       "      <th>...</th>\n",
       "      <th>990</th>\n",
       "      <th>991</th>\n",
       "      <th>992</th>\n",
       "      <th>993</th>\n",
       "      <th>994</th>\n",
       "      <th>995</th>\n",
       "      <th>996</th>\n",
       "      <th>997</th>\n",
       "      <th>998</th>\n",
       "      <th>999</th>\n",
       "    </tr>\n",
       "  </thead>\n",
       "  <tbody>\n",
       "    <tr>\n",
       "      <th>0</th>\n",
       "      <td>NaN</td>\n",
       "      <td>NaN</td>\n",
       "      <td>NaN</td>\n",
       "      <td>NaN</td>\n",
       "      <td>1.0</td>\n",
       "      <td>NaN</td>\n",
       "      <td>NaN</td>\n",
       "      <td>NaN</td>\n",
       "      <td>NaN</td>\n",
       "      <td>NaN</td>\n",
       "      <td>...</td>\n",
       "      <td>NaN</td>\n",
       "      <td>NaN</td>\n",
       "      <td>NaN</td>\n",
       "      <td>NaN</td>\n",
       "      <td>NaN</td>\n",
       "      <td>NaN</td>\n",
       "      <td>NaN</td>\n",
       "      <td>NaN</td>\n",
       "      <td>NaN</td>\n",
       "      <td>NaN</td>\n",
       "    </tr>\n",
       "  </tbody>\n",
       "</table>\n",
       "<p>1 rows × 1000 columns</p>\n",
       "</div>"
      ],
      "text/plain": [
       "   000  001  002  003  004  005  006  007  008  009  ...  990  991  992  993  \\\n",
       "0  NaN  NaN  NaN  NaN  1.0  NaN  NaN  NaN  NaN  NaN  ...  NaN  NaN  NaN  NaN   \n",
       "\n",
       "   994  995  996  997  998  999  \n",
       "0  NaN  NaN  NaN  NaN  NaN  NaN  \n",
       "\n",
       "[1 rows x 1000 columns]"
      ]
     },
     "metadata": {},
     "output_type": "display_data"
    },
    {
     "name": "stdout",
     "output_type": "stream",
     "text": [
      "\t-----------------------------------------------------------------------\n",
      "\n",
      "3.\n",
      "\n"
     ]
    },
    {
     "data": {
      "text/html": [
       "<div>\n",
       "<style scoped>\n",
       "    .dataframe tbody tr th:only-of-type {\n",
       "        vertical-align: middle;\n",
       "    }\n",
       "\n",
       "    .dataframe tbody tr th {\n",
       "        vertical-align: top;\n",
       "    }\n",
       "\n",
       "    .dataframe thead th {\n",
       "        text-align: right;\n",
       "    }\n",
       "</style>\n",
       "<table border=\"1\" class=\"dataframe\">\n",
       "  <thead>\n",
       "    <tr style=\"text-align: right;\">\n",
       "      <th></th>\n",
       "      <th>class</th>\n",
       "      <th>s</th>\n",
       "      <th>sBase</th>\n",
       "      <th>sMineral</th>\n",
       "      <th>hotkey0</th>\n",
       "      <th>hotkey1</th>\n",
       "      <th>hotkey2</th>\n",
       "      <th>hotkey3</th>\n",
       "      <th>hotkey4</th>\n",
       "      <th>hotkey5</th>\n",
       "      <th>...</th>\n",
       "      <th>90</th>\n",
       "      <th>91</th>\n",
       "      <th>92</th>\n",
       "      <th>93</th>\n",
       "      <th>94</th>\n",
       "      <th>95</th>\n",
       "      <th>96</th>\n",
       "      <th>97</th>\n",
       "      <th>98</th>\n",
       "      <th>99</th>\n",
       "    </tr>\n",
       "  </thead>\n",
       "  <tbody>\n",
       "    <tr>\n",
       "      <th>0</th>\n",
       "      <td>1</td>\n",
       "      <td>0.407251</td>\n",
       "      <td>0.039275</td>\n",
       "      <td>0.003021</td>\n",
       "      <td>0.027795</td>\n",
       "      <td>0.249547</td>\n",
       "      <td>0.134139</td>\n",
       "      <td>0.2429</td>\n",
       "      <td>0.1571</td>\n",
       "      <td>0.071299</td>\n",
       "      <td>...</td>\n",
       "      <td>2.0</td>\n",
       "      <td>NaN</td>\n",
       "      <td>NaN</td>\n",
       "      <td>2.0</td>\n",
       "      <td>NaN</td>\n",
       "      <td>NaN</td>\n",
       "      <td>NaN</td>\n",
       "      <td>NaN</td>\n",
       "      <td>NaN</td>\n",
       "      <td>NaN</td>\n",
       "    </tr>\n",
       "  </tbody>\n",
       "</table>\n",
       "<p>1 rows × 114 columns</p>\n",
       "</div>"
      ],
      "text/plain": [
       "   class         s     sBase  sMineral   hotkey0   hotkey1   hotkey2  hotkey3  \\\n",
       "0      1  0.407251  0.039275  0.003021  0.027795  0.249547  0.134139   0.2429   \n",
       "\n",
       "   hotkey4   hotkey5  ...   90  91  92   93  94  95  96  97  98  99  \n",
       "0   0.1571  0.071299  ...  2.0 NaN NaN  2.0 NaN NaN NaN NaN NaN NaN  \n",
       "\n",
       "[1 rows x 114 columns]"
      ]
     },
     "metadata": {},
     "output_type": "display_data"
    },
    {
     "name": "stdout",
     "output_type": "stream",
     "text": [
      "\t-----------------------------------------------------------------------\n",
      "\n",
      "4.\n",
      "\n"
     ]
    },
    {
     "data": {
      "text/html": [
       "<div>\n",
       "<style scoped>\n",
       "    .dataframe tbody tr th:only-of-type {\n",
       "        vertical-align: middle;\n",
       "    }\n",
       "\n",
       "    .dataframe tbody tr th {\n",
       "        vertical-align: top;\n",
       "    }\n",
       "\n",
       "    .dataframe thead th {\n",
       "        text-align: right;\n",
       "    }\n",
       "</style>\n",
       "<table border=\"1\" class=\"dataframe\">\n",
       "  <thead>\n",
       "    <tr style=\"text-align: right;\">\n",
       "      <th></th>\n",
       "      <th>class</th>\n",
       "      <th>s</th>\n",
       "      <th>sBase</th>\n",
       "      <th>sMineral</th>\n",
       "      <th>hotkey0</th>\n",
       "      <th>hotkey1</th>\n",
       "      <th>hotkey2</th>\n",
       "      <th>hotkey3</th>\n",
       "      <th>hotkey4</th>\n",
       "      <th>hotkey5</th>\n",
       "      <th>...</th>\n",
       "      <th>990</th>\n",
       "      <th>991</th>\n",
       "      <th>992</th>\n",
       "      <th>993</th>\n",
       "      <th>994</th>\n",
       "      <th>995</th>\n",
       "      <th>996</th>\n",
       "      <th>997</th>\n",
       "      <th>998</th>\n",
       "      <th>999</th>\n",
       "    </tr>\n",
       "  </thead>\n",
       "  <tbody>\n",
       "    <tr>\n",
       "      <th>0</th>\n",
       "      <td>1</td>\n",
       "      <td>0.407251</td>\n",
       "      <td>0.039275</td>\n",
       "      <td>0.003021</td>\n",
       "      <td>0.027795</td>\n",
       "      <td>0.249547</td>\n",
       "      <td>0.134139</td>\n",
       "      <td>0.2429</td>\n",
       "      <td>0.1571</td>\n",
       "      <td>0.071299</td>\n",
       "      <td>...</td>\n",
       "      <td>NaN</td>\n",
       "      <td>NaN</td>\n",
       "      <td>NaN</td>\n",
       "      <td>NaN</td>\n",
       "      <td>NaN</td>\n",
       "      <td>NaN</td>\n",
       "      <td>NaN</td>\n",
       "      <td>NaN</td>\n",
       "      <td>NaN</td>\n",
       "      <td>NaN</td>\n",
       "    </tr>\n",
       "  </tbody>\n",
       "</table>\n",
       "<p>1 rows × 1014 columns</p>\n",
       "</div>"
      ],
      "text/plain": [
       "   class         s     sBase  sMineral   hotkey0   hotkey1   hotkey2  hotkey3  \\\n",
       "0      1  0.407251  0.039275  0.003021  0.027795  0.249547  0.134139   0.2429   \n",
       "\n",
       "   hotkey4   hotkey5  ...  990  991  992  993  994  995  996  997  998  999  \n",
       "0   0.1571  0.071299  ...  NaN  NaN  NaN  NaN  NaN  NaN  NaN  NaN  NaN  NaN  \n",
       "\n",
       "[1 rows x 1014 columns]"
      ]
     },
     "metadata": {},
     "output_type": "display_data"
    }
   ],
   "source": [
    "from IPython.core import display as ICD\n",
    "#Visualize\n",
    "print('1.\\n')\n",
    "ICD.display(df_1.head(1))\n",
    "print('\\t-----------------------------------------------------------------------\\n')\n",
    "print('2.\\n')\n",
    "ICD.display(df_2.head(1))\n",
    "print('\\t-----------------------------------------------------------------------\\n')\n",
    "print('3.\\n')\n",
    "ICD.display(df_3.head(1))\n",
    "print('\\t-----------------------------------------------------------------------\\n')\n",
    "print('4.\\n')\n",
    "ICD.display(df_4.head(1))"
   ]
  },
  {
   "cell_type": "markdown",
   "metadata": {},
   "source": [
    "# Stratify Sampling and Training KNN"
   ]
  },
  {
   "cell_type": "markdown",
   "metadata": {},
   "source": [
    "Separate the data into train and valid, making sure that we have at least one instance of each class in both of the groups"
   ]
  },
  {
   "cell_type": "code",
   "execution_count": 34,
   "metadata": {},
   "outputs": [],
   "source": [
    "def isStratified(y_valid=None, y_train=None):    \n",
    "    counter = 0\n",
    "\n",
    "    for i in y_valid:\n",
    "        if i not in y_train:\n",
    "            counter += 1\n",
    "\n",
    "    return 0 == counter"
   ]
  },
  {
   "cell_type": "markdown",
   "metadata": {},
   "source": [
    "Following the tutorial at: https://towardsdatascience.com/knn-using-scikit-learn-c6bed765be75"
   ]
  },
  {
   "cell_type": "code",
   "execution_count": 35,
   "metadata": {},
   "outputs": [],
   "source": [
    "#Import the KNeighborsCLassifier class from sklearn\n",
    "from sklearn.neighbors import KNeighborsClassifier\n",
    "#Import metrics model to check the mean f1\n",
    "from sklearn import metrics\n",
    "\n",
    "def run_knn(X_train, y_train, y_valid,till=25):\n",
    "    #Try running from k=1 through \"till\" and record testing accuracy\n",
    "    k_range = range(1, till)\n",
    "    scores = {}\n",
    "    scores_list = []\n",
    "    for k in k_range:\n",
    "        knn = KNeighborsClassifier(n_neighbors = k)\n",
    "        knn.fit(X_train, y_train)\n",
    "        y_pred = knn.predict(X_valid)\n",
    "        scores[k] = metrics.f1_score(y_valid, y_pred, average='micro')\n",
    "        scores_list.append(scores[k])\n",
    "    return (k_range, scores_list)"
   ]
  },
  {
   "cell_type": "markdown",
   "metadata": {},
   "source": [
    "### Train and validate"
   ]
  },
  {
   "cell_type": "code",
   "execution_count": 36,
   "metadata": {},
   "outputs": [],
   "source": [
    "from sklearn.model_selection import train_test_split\n",
    "\n",
    "#Put all together to iterete\n",
    "dfs = [df_1, df_2, df_3, df_4]\n",
    "all_ranges = []\n",
    "all_scores = []\n",
    "\n",
    "for i in range(4):    \n",
    "    X = dfs[i].fillna(0).values\n",
    "    y = np.asarray(ids)\n",
    "\n",
    "    X_train, X_valid, y_train, y_valid = train_test_split(X, y, test_size=0.2, shuffle=True, stratify=ids)\n",
    "    if not isStratified(y_valid, y_train):\n",
    "        raise Exception(\"Not stratified sample\")\n",
    "    k_range, scores_list = run_knn(X_train, y_train, y_valid)\n",
    "    all_ranges.append(k_range)\n",
    "    all_scores.append(scores_list)"
   ]
  },
  {
   "cell_type": "markdown",
   "metadata": {},
   "source": [
    "Visualize"
   ]
  },
  {
   "cell_type": "code",
   "execution_count": 37,
   "metadata": {},
   "outputs": [
    {
     "data": {
      "image/png": "[encoded data removed]",
      "text/plain": [
       "<Figure size 432x288 with 4 Axes>"
      ]
     },
     "metadata": {
      "needs_background": "light"
     },
     "output_type": "display_data"
    }
   ],
   "source": [
    "fig, axs = plt.subplots(2, 2)\n",
    "axs[0, 0].plot(all_ranges[0], all_scores[0])\n",
    "axs[0, 0].set_title('DF_1')\n",
    "axs[0, 1].plot(all_ranges[1], all_scores[1], 'tab:orange')\n",
    "axs[0, 1].set_title('DF_2')\n",
    "axs[1, 0].plot(all_ranges[2], all_scores[2], 'tab:green')\n",
    "axs[1, 0].set_title('DF_3')\n",
    "axs[1, 1].plot(all_ranges[3], all_scores[3], 'tab:red')\n",
    "axs[1, 1].set_title('DF_4')\n",
    "\n",
    "for ax in axs.flat:\n",
    "    ax.set(xlabel='K', ylabel='F1-Minor')\n",
    "    \n",
    "plt.subplots_adjust(top=0.98, bottom=0.04, left=0.10, right=0.95, hspace=0.55,\n",
    "                    wspace=0.35)"
   ]
  },
  {
   "cell_type": "markdown",
   "metadata": {},
   "source": [
    "# Testing and Saving"
   ]
  },
  {
   "cell_type": "code",
   "execution_count": 40,
   "metadata": {},
   "outputs": [
    {
     "data": {
      "text/plain": [
       "KNeighborsClassifier(algorithm='auto', leaf_size=30, metric='minkowski',\n",
       "                     metric_params=None, n_jobs=None, n_neighbors=1, p=2,\n",
       "                     weights='uniform')"
      ]
     },
     "execution_count": 40,
     "metadata": {},
     "output_type": "execute_result"
    }
   ],
   "source": [
    "X = dfs[0].fillna(0).values\n",
    "y = np.asarray(ids)\n",
    "knn = KNeighborsClassifier(n_neighbors=1)\n",
    "knn.fit(X, y)"
   ]
  },
  {
   "cell_type": "code",
   "execution_count": null,
   "metadata": {},
   "outputs": [],
   "source": [
    "#Open TEST file and prepare TEST data\n",
    "test_data = get_test_data()\n",
    "#Testing\n",
    "df_testX = generate_df_only_sequence(df=df_0, slice_size=2)\n",
    "X_test = df_testX.fillna(0).values\n",
    "\n",
    "y_predict = knn.predict(X_test)"
   ]
  },
  {
   "cell_type": "code",
   "execution_count": 74,
   "metadata": {},
   "outputs": [],
   "source": [
    "#Save predictions\n",
    "predictions_formatted = []\n",
    "\n",
    "for i, value in enumerate(y_predict, 1):\n",
    "    predictions_formatted.append([i, value])\n",
    "\n",
    "df_predict = pd.DataFrame(predictions_formatted)\n",
    "df_predict.head()\n",
    "\n",
    "import os\n",
    "#Remove if exists\n",
    "if os.path.exists(OUTPUT_SUB):\n",
    "    os.remove(OUTPUT_SUB)\n",
    "df_predict.to_csv(OUTPUT_SUB, header=['RowId','prediction'], mode='w', index=False)"
   ]
  }
 ],
 "metadata": {
  "kernelspec": {
   "display_name": "Python 3",
   "language": "python",
   "name": "python3"
  },
  "language_info": {
   "codemirror_mode": {
    "name": "ipython",
    "version": 3
   },
   "file_extension": ".py",
   "mimetype": "text/x-python",
   "name": "python",
   "nbconvert_exporter": "python",
   "pygments_lexer": "ipython3",
   "version": "3.8.0"
  }
 },
 "nbformat": 4,
 "nbformat_minor": 1
}
