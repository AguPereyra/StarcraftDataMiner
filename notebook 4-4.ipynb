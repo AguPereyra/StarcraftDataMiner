{
 "cells": [
  {
   "cell_type": "markdown",
   "metadata": {},
   "source": [
    "   ### Here we are showing that  only the Xth first seconds are necessary to have a good prediction with simple features"
   ]
  },
  {
   "cell_type": "code",
   "execution_count": 1,
   "metadata": {},
   "outputs": [],
   "source": [
    "import numpy as np\n",
    "import pandas as pd\n",
    "from sklearn.ensemble import RandomForestClassifier\n",
    "from sklearn.preprocessing import StandardScaler\n",
    "from sklearn.model_selection import train_test_split\n",
    "from sklearn.metrics import classification_report, f1_score\n",
    "import os\n",
    "\n",
    "import matplotlib.pyplot as plt"
   ]
  },
  {
   "cell_type": "code",
   "execution_count": 2,
   "metadata": {},
   "outputs": [
    {
     "name": "stderr",
     "output_type": "stream",
     "text": [
      "Using TensorFlow backend.\n"
     ]
    }
   ],
   "source": [
    "import csv\n",
    "from collections import defaultdict\n",
    "from imblearn.over_sampling import ADASYN\n",
    "from imblearn.under_sampling import RandomUnderSampler\n",
    "from collections import Counter\n",
    "\n",
    "def loop (a1):\n",
    "    csv_file = '../TRAIN.CSV'\n",
    "    with open(csv_file, newline='') as csv_text:\n",
    "        cvs_reader = csv.reader(csv_text, delimiter=',')\n",
    "        data = []\n",
    "        time=[]\n",
    "        for row in cvs_reader:\n",
    "            \n",
    "            train_dict = defaultdict(int)\n",
    "        \n",
    "            train_dict['id'] = row[0]\n",
    "            \n",
    "            train_dict['class'] = row[1]\n",
    "\n",
    "            a1=a1\n",
    "            t = 0\n",
    "            state=1\n",
    "            for i in range(0, len(row)): # We study just the a1 first second where a1 is the parameter of loop ( our function)\n",
    "                if ('t'+str(a1)) in row[i]:\n",
    "                    state=i\n",
    "                    t=a1\n",
    "\n",
    "            for k in range (0,state):\n",
    "                if 'hotkey'  in row[k] and t!=0 :  \n",
    "                     train_dict[row[k][:-1]] += 1/a1\n",
    "                        \n",
    "                if 'Base' in row[k] and t != 0:\n",
    "                    train_dict['sBase'] += 1/a1\n",
    "                    \n",
    "                if 'Mineral' in row[k] and t != 0:\n",
    "                    train_dict['sMineral'] += 1/a1\n",
    "                    \n",
    "                if 's' == row[k] and t != 0:\n",
    "                    train_dict['s'] += 1/a1\n",
    "                    \n",
    "\n",
    "                \n",
    "\n",
    "            train_dict['time'] = t  \n",
    "         \n",
    "            data.append(train_dict)\n",
    "\n",
    "\n",
    "\n",
    "  \n",
    "    df = pd.DataFrame(data, columns=train_dict.keys())\n",
    "    \n",
    "    \n",
    "    df = df.drop(df[df.time ==  0].index) # we drop every one who has played less that a1 secondes\n",
    "    \n",
    "    y=df.id\n",
    "    df['zerg']=0\n",
    "    df['protoss']=0\n",
    "    df['terran']=0\n",
    "\n",
    "    df.loc[df['class']=='Zerg','zerg']=1\n",
    "    df.loc[df['class']=='Protoss','protoss']=1\n",
    "    df.loc[df['class']=='Terran','terran']=1  \n",
    "    df.drop(['class'],axis=1,inplace=True)\n",
    "    df.drop(['time'],axis=1,inplace=True)\n",
    "    \n",
    "    #df1=df.copy()\n",
    "    df.drop(['id'],axis=1,inplace=True)\n",
    "    X = df.fillna(0).values\n",
    "    ids=y.to_numpy()\n",
    "    # dividing X, y into train and test data \n",
    "    X_train, X_valid, y_train, y_valid = train_test_split(X, y,stratify= ids, test_size=0.30)\n",
    "    \n",
    "    #rus = RandomUnderSampler(random_state=420)\n",
    "    #X_train, y_train = rus.fit_resample(X_train, y_train)\n",
    "    \n",
    "\n",
    "\n",
    "   \n",
    "    #ada = ADASYN(sampling_strategy='minority', random_state= 420 , n_neighbors = 1)\n",
    "\n",
    "    #X_train, y_train = ada.fit_resample(X_train, y_train)\n",
    "   \n",
    "    #classifier = DecisionTreeClassifier(random_state=42)\n",
    "    #classifier.fit(X_train,y_train)\n",
    "    #y_predict = classifier.predict(X_valid)\n",
    "    classifier2 = RandomForestClassifier(random_state=13, n_estimators=800)\n",
    "    classifier2.fit(X_train,y_train)\n",
    "    \n",
    "    #df1 = df1.drop(df1[df1.id == df1.iloc[20].id ].index)\n",
    "    #y_valid=list(df1.id)\n",
    "    #df1.drop(['id'],axis=1,inplace=True)\n",
    "    \n",
    "    #X_valid = df1.fillna(0).values\n",
    "    \n",
    "    y_predict = classifier2.predict(X_valid)\n",
    "    \n",
    "    a=f1_score(y_valid, y_predict, average='micro')\n",
    "            \n",
    "    return a\n",
    "\n"
   ]
  },
  {
   "cell_type": "code",
   "execution_count": 3,
   "metadata": {},
   "outputs": [],
   "source": [
    "\n",
    "res=[]\n",
    "y=[]\n",
    "\n",
    "for i in range (20,600,50): # 20 premieres secondes jusqu'aux 600 premieres ; pas =50\n",
    "        y.append(loop(i))\n",
    "        res.append(i)\n",
    "\n"
   ]
  },
  {
   "cell_type": "code",
   "execution_count": 4,
   "metadata": {},
   "outputs": [
    {
     "data": {
      "image/png": "[encoded data removed]",
      "text/plain": [
       "<Figure size 432x288 with 1 Axes>"
      ]
     },
     "metadata": {
      "needs_background": "light"
     },
     "output_type": "display_data"
    }
   ],
   "source": [
    "import matplotlib.pyplot as plt\n",
    "\n",
    "plt.plot(res, y)\n",
    "\n",
    "plt.show() \n"
   ]
  },
  {
   "cell_type": "markdown",
   "metadata": {},
   "source": [
    "### we note that for the first 20 seconds, the score reaches 0.87, and for the first 450 seconds we have a score of 0.91. the difference is just about 0.04.\n",
    "### While using  adasyn (oversampling method - 45 games per player) , the accurancy increases to 0.92 for the 25th first seconds\n",
    "### And when we undersampling (3 games per player) the accurancy droped to 0.86 for the 25 first seconds\n",
    "### so we conclude for simple features that the average (24 games) is enough to reach 0.90 . we explored several tracks however we have not put all the codes because we write and delete code according to the need\n"
   ]
  }
 ],
 "metadata": {
  "kernelspec": {
   "display_name": "Python 3",
   "language": "python",
   "name": "python3"
  },
  "language_info": {
   "codemirror_mode": {
    "name": "ipython",
    "version": 3
   },
   "file_extension": ".py",
   "mimetype": "text/x-python",
   "name": "python",
   "nbconvert_exporter": "python",
   "pygments_lexer": "ipython3",
   "version": "3.6.9"
  }
 },
 "nbformat": 4,
 "nbformat_minor": 2
}
